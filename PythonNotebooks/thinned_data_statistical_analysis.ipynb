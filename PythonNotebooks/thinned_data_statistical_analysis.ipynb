{
 "cells": [
  {
   "cell_type": "markdown",
   "metadata": {},
   "source": [
    "# Thinned Data Statistical Analysis\n",
    "\n",
    "We started collecting about 20x fewer tweets in the middle of 06/25 in order to reduce file size and clumsiness. The original data only captures about 1% of Twitter traffic. We want to test and see if the reduced files are statistically different from the larger data set.\n",
    "\n",
    "In order to do so, we have a few options for statistical tests. Two common tests that we want to run are:\n",
    "1. **ANOVA Test** - Analysis of variance test. This test analyzes the difference between the means of more than two groups.\n",
    "2. **Independent Samples t-test** - This test analyzes the difference between the population means of two groups.\n",
    "\n",
    "The difference between tests exists in how we define a \"group\" of data. It makes sense to define two groups: full data vs. reduced data which suggests a t-test. However, we could create more groups for an ANOVA test by separating by day. Therefore, group 1 could be 06/24 full data, group 2 could be 06/26 reduced data, group 3 - 06/27 reduced data, etc.\n",
    "\n",
    "We want to test a few dependent variables in order to really check for statistical difference. I propose the following set of dependent variables:\n",
    "- ratio of tweets vs. (retweets, quotes, replies)\n",
    "- ratio of retweets vs. (tweets, quotes, replies)\n",
    "- ratio of quotes vs. (tweets, retweets, replies)\n",
    "- ratio of replies vs. (tweets, retweets, quotes)\n",
    "- ratio of common stop words vs. all other words\n",
    "- ratio of selected keywords (Trump, Biden) vs. all other words ratio\n",
    "\n",
    "Our thinned tweets do not include the tweet's timestamp. Therefore, I plan to split each day of data into data points by grouping by a certain size. Ideally I would like > 30 tweets in a chunk to assume normality by the Central Limit Theorem.\n",
    "\n",
    "We can assume independent samples because our data will be examined from different days. Therefore, they will be different tweets. We also have a random sample due to how Twitter allows us to collect data.\n",
    "\n",
    "For the t-test, our null and alternative hypotheses are as follows:\n",
    "$$H_0 : \\mu_1 = \\mu_2$$\n",
    "$$H_1 : \\mu_1 \\neq \\mu_2$$\n",
    "The null states that the population means are equal, and the alternative states that the population means are different."
   ]
  },
  {
   "cell_type": "markdown",
   "metadata": {},
   "source": [
    "## Imports"
   ]
  },
  {
   "cell_type": "code",
   "execution_count": 2,
   "metadata": {},
   "outputs": [],
   "source": [
    "# These paths should be updated so that no files need to be downloaded...\n",
    "import os\n",
    "import sys\n",
    "shared_path = '/Users/sarah/Downloads/TwitterResearch2020'\n",
    "sys.path.append(shared_path)\n",
    "import thinned_tweet_obj\n",
    "import general_utilities"
   ]
  },
  {
   "cell_type": "code",
   "execution_count": 3,
   "metadata": {},
   "outputs": [],
   "source": [
    "import json\n",
    "import pickle\n",
    "import subprocess\n",
    "import pandas as pd\n",
    "import numpy as np\n",
    "from scipy import stats\n",
    "import matplotlib.pyplot as plt"
   ]
  },
  {
   "cell_type": "markdown",
   "metadata": {},
   "source": [
    "## Normality investigation\n"
   ]
  },
  {
   "cell_type": "code",
   "execution_count": 23,
   "metadata": {},
   "outputs": [],
   "source": [
    "def load_and_print_len(filename):\n",
    "    thin_objs = general_utilities.read_pkl(filename)\n",
    "    print(len(thin_objs))\n",
    "    return thin_objs"
   ]
  },
  {
   "cell_type": "code",
   "execution_count": 24,
   "metadata": {},
   "outputs": [
    {
     "name": "stdout",
     "output_type": "stream",
     "text": [
      "154000\n"
     ]
    }
   ],
   "source": [
    "# Data from June 26, the first full day of reduced tweets\n",
    "tweets_0626 = load_and_print_len('combined_tweets-2020-06-26.pkl')"
   ]
  },
  {
   "cell_type": "code",
   "execution_count": 30,
   "metadata": {},
   "outputs": [
    {
     "name": "stdout",
     "output_type": "stream",
     "text": [
      "269000\n"
     ]
    }
   ],
   "source": [
    "# Data from August 26, reduced tweets, but sleep is smaller than 0626 (so we should have more data)\n",
    "tweets_0826 = load_and_print_len('combined_tweets-2020-08-26.pkl')"
   ]
  },
  {
   "cell_type": "code",
   "execution_count": 33,
   "metadata": {},
   "outputs": [
    {
     "name": "stdout",
     "output_type": "stream",
     "text": [
      "542000\n"
     ]
    }
   ],
   "source": [
    "# Data from August 28, reduced tweets, starts keeping track of favorites\n",
    "tweets_0828 = load_and_print_len('combined_tweets-2020-08-28.pkl')"
   ]
  },
  {
   "cell_type": "code",
   "execution_count": 34,
   "metadata": {},
   "outputs": [
    {
     "name": "stdout",
     "output_type": "stream",
     "text": [
      "274000\n"
     ]
    }
   ],
   "source": [
    "# Data from August 29, reduced tweets\n",
    "tweets_0829 = load_and_print_len('combined_tweets-2020-08-29.pkl')"
   ]
  },
  {
   "cell_type": "code",
   "execution_count": 26,
   "metadata": {},
   "outputs": [
    {
     "name": "stdout",
     "output_type": "stream",
     "text": [
      "280000\n"
     ]
    }
   ],
   "source": [
    "# Data from September 1, reduced tweets, has favorites\n",
    "tweets_0901 = load_and_print_len('combined_tweets-2020-09-01.pkl')"
   ]
  },
  {
   "cell_type": "code",
   "execution_count": 75,
   "metadata": {},
   "outputs": [
    {
     "name": "stdout",
     "output_type": "stream",
     "text": [
      "4784443\n"
     ]
    }
   ],
   "source": [
    "# Data from June 24 is the larger data set of tweets\n",
    "tweets_0624 = load_and_print_len('/Users/sarah/Downloads/combined_tweets-2020-06-24.pkl')"
   ]
  },
  {
   "cell_type": "code",
   "execution_count": 6,
   "metadata": {},
   "outputs": [],
   "source": [
    "def append_ratio(mean_tracker, numerator, denom):\n",
    "    '''\n",
    "    @param mean_tracker: List of means\n",
    "    @param numerator: Numerator for the new mean to calculate\n",
    "    @param denom: Denominator for the new mean to calculate\n",
    "    '''\n",
    "    mean_tracker.append(numerator / denom)\n",
    "    \n",
    "def get_tweet_type_distribution(obj_lst):\n",
    "    '''\n",
    "    Divide a day's worth of combined_tweets into `total_groups` and find the relevant ratios per group \n",
    "    to investigate the distribution of tweet types.\n",
    "    \n",
    "    @param obj_lst: List of combined, thinned tweet objects read from the pkl files\n",
    "    @return: Three lists of length approximately 'total_groups' containing the population means for each \n",
    "    group. The first list contains the ratio of retweets, the second contains the ratio of replies, and \n",
    "    the third contains the ratio of quotes.\n",
    "    '''\n",
    "    lst_len = len(obj_lst)\n",
    "    # One group per minute of the day (we might want to pick a smarter value than this)\n",
    "    total_groups = 60 * 24\n",
    "    group_size = lst_len // total_groups\n",
    "    # 'xxx_mean_tracker' tracks the ratio of xxx vs. [(tweets, retweets, quotes, replies) - xxx]\n",
    "    retweet_mean_tracker = []\n",
    "    reply_mean_tracker = []\n",
    "    quote_mean_tracker = []\n",
    "    \n",
    "    tweet_count = 0\n",
    "    retweet_count = 0\n",
    "    reply_count = 0\n",
    "    quote_count = 0\n",
    "    for thin_obj in obj_lst:\n",
    "        if tweet_count == group_size:\n",
    "            append_ratio(retweet_mean_tracker, retweet_count, tweet_count)\n",
    "            append_ratio(reply_mean_tracker, reply_count, tweet_count)\n",
    "            append_ratio(quote_mean_tracker, quote_count, tweet_count)\n",
    "            \n",
    "            tweet_count = 0\n",
    "            retweet_count = 0\n",
    "            reply_count = 0\n",
    "            quote_count = 0\n",
    "        \n",
    "        tweet_count += 1\n",
    "        if thin_obj.is_retweet: retweet_count += 1\n",
    "        if thin_obj.is_reply(): reply_count += 1\n",
    "        if thin_obj.quote_status: quote_count += 1\n",
    "            \n",
    "    return retweet_mean_tracker, reply_mean_tracker, quote_mean_tracker"
   ]
  },
  {
   "cell_type": "code",
   "execution_count": 7,
   "metadata": {},
   "outputs": [],
   "source": [
    "def get_dist_stats(obj_lst):\n",
    "    '''\n",
    "    Print the percentage of retweets, replies, and quotes per one day of combined_tweets.\n",
    "    \n",
    "    @param obj_lst: List of combined, thinned tweet objects read from the pkl files\n",
    "    @return: Three lists of length approximately 'total_groups' containing the population means for each \n",
    "    group. The first list contains the ratio of retweets, the second contains the ratio of replies, and \n",
    "    the third contains the ratio of quotes.\n",
    "    '''\n",
    "    retweet_means, reply_means, quote_means = get_tweet_type_distribution(obj_lst)\n",
    "    print(\"percentage retweets: \", np.array(retweet_means).mean())\n",
    "    print(\"percentage replies: \", np.array(reply_means).mean())\n",
    "    print(\"percentage quotes: \", np.array(quote_means).mean())\n",
    "    return retweet_means, reply_means, quote_means"
   ]
  },
  {
   "cell_type": "code",
   "execution_count": 76,
   "metadata": {},
   "outputs": [
    {
     "name": "stdout",
     "output_type": "stream",
     "text": [
      "----- Thinned data stats -----\n",
      "percentage retweets:  0.6245257029991164\n",
      "percentage replies:  0.23136597536254483\n",
      "percentage quotes:  0.2569520245334997\n",
      "----- Full data stats -----\n",
      "percentage retweets:  0.6217230249515018\n",
      "percentage replies:  0.2245904826409793\n",
      "percentage quotes:  0.25006124991638234\n"
     ]
    }
   ],
   "source": [
    "print(\"----- Thinned data stats -----\")\n",
    "retweet_means_thin, reply_means_thin, quote_means_thin = get_dist_stats(tweets_0626)\n",
    "\n",
    "print(\"----- Full data stats -----\")\n",
    "retweet_means_full, reply_means_full, quote_means_full = get_dist_stats(tweets_0624)"
   ]
  },
  {
   "cell_type": "markdown",
   "metadata": {},
   "source": [
    "**Note:** There appears to be an error with the `is_reply` field.\n",
    "\n",
    "In the future, we may want to consider different ways of constructing groups within a day."
   ]
  },
  {
   "cell_type": "code",
   "execution_count": 61,
   "metadata": {},
   "outputs": [
    {
     "name": "stdout",
     "output_type": "stream",
     "text": [
      "----- Thinned data stats, 08/26 -----\n",
      "percentage retweets:  0.6146655958595457\n",
      "percentage replies:  0.2469028391261024\n",
      "percentage quotes:  0.22214042445604484\n",
      "----- Thinned data stats, 08/28 -----\n",
      "percentage retweets:  0.6152679138305255\n",
      "percentage replies:  0.24712263942002452\n",
      "percentage quotes:  0.24227966689798752\n",
      "----- Thinned data stats, 08/29 -----\n",
      "percentage retweets:  0.6433170304401781\n",
      "percentage replies:  0.22170961384042634\n",
      "percentage quotes:  0.2496605591649025\n",
      "----- Thinned data stats, 09/01 -----\n",
      "percentage retweets:  0.6227039886833702\n",
      "percentage replies:  0.23751705710468596\n",
      "percentage quotes:  0.2300798022447507\n"
     ]
    }
   ],
   "source": [
    "print(\"----- Thinned data stats, 08/26 -----\")\n",
    "retweet_means_0826, reply_means_0826, quote_means_0826 = get_dist_stats(tweets_0826)\n",
    "\n",
    "print(\"----- Thinned data stats, 08/28 -----\")\n",
    "retweet_means_0828, reply_means_0828, quote_means_0828 = get_dist_stats(tweets_0828)\n",
    "\n",
    "print(\"----- Thinned data stats, 08/29 -----\")\n",
    "retweet_means_0829, reply_means_0829, quote_means_0829 = get_dist_stats(tweets_0829)\n",
    "\n",
    "print(\"----- Thinned data stats, 09/01 -----\")\n",
    "retweet_means_0901, reply_means_0901, quote_means_0901 = get_dist_stats(tweets_0901)"
   ]
  },
  {
   "cell_type": "markdown",
   "metadata": {},
   "source": [
    "## Perform t-test"
   ]
  },
  {
   "cell_type": "code",
   "execution_count": 71,
   "metadata": {},
   "outputs": [],
   "source": [
    "# https://towardsdatascience.com/inferential-statistics-series-t-test-using-numpy-2718f8f9bf2f\n",
    "\n",
    "def t_test(data_lst_thin, data_lst_full, alpha = 0.05):\n",
    "    '''\n",
    "    Runs a t-test to compare the population means between the reduced and larger combined_tweet data.\n",
    "    \n",
    "    @param data_lst_thin: List of population means from the reduced tweet data.\n",
    "    @param data_lst_full: List of population means from the larger tweet data.\n",
    "    '''\n",
    "    N = min(len(data_lst_thin), len(data_lst_full))\n",
    "    data_lst_thin = np.array(data_lst_thin[:N])\n",
    "    data_lst_full = np.array(data_lst_full[:N])\n",
    "    var_thin = data_lst_thin.var(ddof=1)\n",
    "    var_full = data_lst_full.var(ddof=1)\n",
    "    st_dev = np.sqrt((var_thin + var_full) / 2)\n",
    "    t_stat = (data_lst_thin.mean() - data_lst_full.mean()) / (st_dev * np.sqrt(2 / N))\n",
    "    # Degrees of freedom\n",
    "    df = 2 * N - 2\n",
    "    # p-value after comparison with the Student t distribution\n",
    "    p = 1 - stats.t.cdf(t_stat, df=df)\n",
    "    \n",
    "    print(\"t_stat = \" + str(t_stat))\n",
    "    p_val = 2 * p\n",
    "    print(\"p_val = \" + str(p_val))\n",
    "    # Reject the null if the p-value is < alpha (0.05)\n",
    "    if p_val < alpha:\n",
    "        print(\"REJECT - evidence of statistical difference\")\n",
    "    else:\n",
    "        print(\"ACCEPT - not statistically different\")"
   ]
  },
  {
   "cell_type": "code",
   "execution_count": 77,
   "metadata": {},
   "outputs": [
    {
     "name": "stdout",
     "output_type": "stream",
     "text": [
      "----- retweets t-test -----\n",
      "t_stat = 1.1778701790635677\n",
      "p_val = 0.2389457525069174\n",
      "ACCEPT - not statistically different\n",
      "----- replies t-test -----\n",
      "t_stat = 2.6016592334895727\n",
      "p_val = 0.009324938356913837\n",
      "REJECT - evidence of statistical difference\n",
      "----- quotes t-test -----\n",
      "t_stat = 3.5594451365156825\n",
      "p_val = 0.0003776509718413923\n",
      "REJECT - evidence of statistical difference\n"
     ]
    }
   ],
   "source": [
    "print(\"----- retweets t-test -----\")\n",
    "t_test(retweet_means_thin, retweet_means_full)\n",
    "print(\"----- replies t-test -----\")\n",
    "t_test(reply_means_thin, reply_means_full)\n",
    "print(\"----- quotes t-test -----\")\n",
    "t_test(quote_means_thin, quote_means_full)"
   ]
  },
  {
   "cell_type": "markdown",
   "metadata": {},
   "source": [
    "We have to throw replies out of our analysis because of the error in the `is_reply` field. Otherwise, we can conclude that the ratio of retweets are not statistically different between the reduced and larger data (since our p-value is greater than $\\alpha = 0.05$. We do reject the null for the ratio of quotes, instead, concluding that the ratio of quotes *are* statistically different between the reduced and larger data."
   ]
  },
  {
   "cell_type": "code",
   "execution_count": 73,
   "metadata": {},
   "outputs": [
    {
     "name": "stdout",
     "output_type": "stream",
     "text": [
      "----- retweets t-test 06/26 vs. 08/28 -----\n",
      "t_stat = 3.388962766346691\n",
      "p_val = 0.0007110112795540857\n",
      "REJECT - evidence of statistical difference\n",
      "----- replies t-test 06/26 vs. 08/28 -----\n",
      "t_stat = -5.083602455917209\n",
      "p_val = 1.9999996059574696\n",
      "ACCEPT - not statistically different\n",
      "----- quotes t-test 06/26 vs. 08/28 -----\n",
      "t_stat = 6.92232717976874\n",
      "p_val = 5.455413898403094e-12\n",
      "REJECT - evidence of statistical difference\n",
      "\n",
      "----- retweets t-test 06/26 vs. 08/29 -----\n",
      "t_stat = -7.467324498840739\n",
      "p_val = 1.999999999999892\n",
      "ACCEPT - not statistically different\n",
      "----- replies t-test 06/26 vs. 08/29 -----\n",
      "t_stat = 3.358674377760966\n",
      "p_val = 0.0007933522461209819\n",
      "REJECT - evidence of statistical difference\n",
      "----- quotes t-test 06/26 vs. 08/29 -----\n",
      "t_stat = 3.3404933544662962\n",
      "p_val = 0.0008469489732880753\n",
      "REJECT - evidence of statistical difference\n",
      "\n",
      "----- retweets t-test 06/26 vs. 09/01 -----\n",
      "t_stat = 0.5653514721716401\n",
      "p_val = 0.5718787017679516\n",
      "ACCEPT - not statistically different\n",
      "----- replies t-test 06/26 vs. 09/01 -----\n",
      "t_stat = -2.003644408673309\n",
      "p_val = 1.9547984542840469\n",
      "ACCEPT - not statistically different\n",
      "----- quotes t-test 06/26 vs. 09/01 -----\n",
      "t_stat = 11.936590862650393\n",
      "p_val = 0.0\n",
      "REJECT - evidence of statistical difference\n"
     ]
    }
   ],
   "source": [
    "# t-tests of thinned vs. slightly larger data (after 08/28)\n",
    "print(\"----- retweets t-test 06/26 vs. 08/28 -----\")\n",
    "t_test(retweet_means_thin, retweet_means_0828)\n",
    "print(\"----- replies t-test 06/26 vs. 08/28 -----\")\n",
    "t_test(reply_means_thin, reply_means_0828)\n",
    "print(\"----- quotes t-test 06/26 vs. 08/28 -----\")\n",
    "t_test(quote_means_thin, quote_means_0828)\n",
    "\n",
    "print()\n",
    "\n",
    "print(\"----- retweets t-test 06/26 vs. 08/29 -----\")\n",
    "t_test(retweet_means_thin, retweet_means_0829)\n",
    "print(\"----- replies t-test 06/26 vs. 08/29 -----\")\n",
    "t_test(reply_means_thin, reply_means_0829)\n",
    "print(\"----- quotes t-test 06/26 vs. 08/29 -----\")\n",
    "t_test(quote_means_thin, quote_means_0829)\n",
    "\n",
    "print()\n",
    "\n",
    "print(\"----- retweets t-test 06/26 vs. 09/01 -----\")\n",
    "t_test(retweet_means_thin, retweet_means_0901)\n",
    "print(\"----- replies t-test 06/26 vs. 09/01 -----\")\n",
    "t_test(reply_means_thin, reply_means_0901)\n",
    "print(\"----- quotes t-test 06/26 vs. 09/01 -----\")\n",
    "t_test(quote_means_thin, quote_means_0901)"
   ]
  },
  {
   "cell_type": "code",
   "execution_count": 79,
   "metadata": {},
   "outputs": [
    {
     "name": "stdout",
     "output_type": "stream",
     "text": [
      "----- retweets t-test full vs. 08/28 -----\n",
      "t_stat = 3.1105328290673406\n",
      "p_val = 0.0018857908585467875\n",
      "REJECT - evidence of statistical difference\n",
      "----- replies t-test full vs. 08/28 -----\n",
      "t_stat = -8.440312080547828\n",
      "p_val = 2.0\n",
      "ACCEPT - not statistically different\n",
      "----- quotes t-test full vs. 08/28 -----\n",
      "t_stat = 6.92232717976874\n",
      "p_val = 5.455413898403094e-12\n",
      "REJECT - evidence of statistical difference\n",
      "\n",
      "----- retweets t-test full vs. 08/29 -----\n",
      "t_stat = -10.686386470032117\n",
      "p_val = 2.0\n",
      "ACCEPT - not statistically different\n",
      "----- replies t-test full vs. 08/29 -----\n",
      "t_stat = 1.1282504128709487\n",
      "p_val = 0.2593082219039078\n",
      "ACCEPT - not statistically different\n",
      "----- quotes t-test full vs. 08/29 -----\n",
      "t_stat = 0.2770348452481883\n",
      "p_val = 0.7817732455940409\n",
      "ACCEPT - not statistically different\n",
      "\n",
      "----- retweets t-test full vs. 09/01 -----\n",
      "t_stat = -0.433986835803726\n",
      "p_val = 1.3356694691900974\n",
      "ACCEPT - not statistically different\n",
      "----- replies t-test full vs. 09/01 -----\n",
      "t_stat = -4.846473166093065\n",
      "p_val = 1.9999986766081908\n",
      "ACCEPT - not statistically different\n",
      "----- quotes t-test full vs. 09/01 -----\n",
      "t_stat = 11.57778054879803\n",
      "p_val = 0.0\n",
      "REJECT - evidence of statistical difference\n"
     ]
    }
   ],
   "source": [
    "# t-tests of full vs. slightly thinned data (after 08/28)\n",
    "print(\"----- retweets t-test full vs. 08/28 -----\")\n",
    "t_test(retweet_means_full, retweet_means_0828)\n",
    "print(\"----- replies t-test full vs. 08/28 -----\")\n",
    "t_test(reply_means_full, reply_means_0828)\n",
    "print(\"----- quotes t-test full vs. 08/28 -----\")\n",
    "t_test(quote_means_thin, quote_means_0828)\n",
    "\n",
    "print()\n",
    "\n",
    "print(\"----- retweets t-test full vs. 08/29 -----\")\n",
    "t_test(retweet_means_full, retweet_means_0829)\n",
    "print(\"----- replies t-test full vs. 08/29 -----\")\n",
    "t_test(reply_means_full, reply_means_0829)\n",
    "print(\"----- quotes t-test full vs. 08/29 -----\")\n",
    "t_test(quote_means_full, quote_means_0829)\n",
    "\n",
    "print()\n",
    "\n",
    "print(\"----- retweets t-test full vs. 09/01 -----\")\n",
    "t_test(retweet_means_full, retweet_means_0901)\n",
    "print(\"----- replies t-test full vs. 09/01 -----\")\n",
    "t_test(reply_means_full, reply_means_0901)\n",
    "print(\"----- quotes t-test full vs. 09/01 -----\")\n",
    "t_test(quote_means_full, quote_means_0901)"
   ]
  },
  {
   "cell_type": "code",
   "execution_count": 74,
   "metadata": {},
   "outputs": [
    {
     "name": "stdout",
     "output_type": "stream",
     "text": [
      "----- retweets t-test 08/28 vs. 08/29 -----\n",
      "t_stat = -10.91121878442224\n",
      "p_val = 2.0\n",
      "ACCEPT - not statistically different\n",
      "----- replies t-test 08/28 vs. 08/29 -----\n",
      "t_stat = 8.6122316845881\n",
      "p_val = 0.0\n",
      "REJECT - evidence of statistical difference\n",
      "----- quotes t-test 08/28 vs. 08/29 -----\n",
      "t_stat = -3.991937925942667\n",
      "p_val = 1.9999328279718016\n",
      "ACCEPT - not statistically different\n",
      "\n",
      "----- retweets t-test 08/29 vs. 09/01 -----\n",
      "t_stat = 7.967621661951829\n",
      "p_val = 2.4424906541753444e-15\n",
      "REJECT - evidence of statistical difference\n",
      "----- replies t-test 08/29 vs. 09/01 -----\n",
      "t_stat = -5.387808784077686\n",
      "p_val = 1.9999999229268295\n",
      "ACCEPT - not statistically different\n",
      "----- quotes t-test 08/29 vs. 09/01 -----\n",
      "t_stat = 9.93451619204924\n",
      "p_val = 0.0\n",
      "REJECT - evidence of statistical difference\n",
      "\n",
      "----- retweets t-test 08/28 vs. 09/01 -----\n",
      "t_stat = -2.773767817472021\n",
      "p_val = 1.9944231731861712\n",
      "ACCEPT - not statistically different\n",
      "----- replies t-test 08/28 vs. 09/01 -----\n",
      "t_stat = 3.055428699946825\n",
      "p_val = 0.00226798566744546\n",
      "REJECT - evidence of statistical difference\n",
      "----- quotes t-test 08/28 vs. 09/01 -----\n",
      "t_stat = 6.53233987465255\n",
      "p_val = 7.627387610398273e-11\n",
      "REJECT - evidence of statistical difference\n"
     ]
    }
   ],
   "source": [
    "# random t-tests between slightly thinned days\n",
    "print(\"----- retweets t-test 08/28 vs. 08/29 -----\")\n",
    "t_test(retweet_means_0828, retweet_means_0829)\n",
    "print(\"----- replies t-test 08/28 vs. 08/29 -----\")\n",
    "t_test(reply_means_0828, reply_means_0829)\n",
    "print(\"----- quotes t-test 08/28 vs. 08/29 -----\")\n",
    "t_test(quote_means_0828, quote_means_0829)\n",
    "\n",
    "print()\n",
    "\n",
    "print(\"----- retweets t-test 08/29 vs. 09/01 -----\")\n",
    "t_test(retweet_means_0829, retweet_means_0901)\n",
    "print(\"----- replies t-test 08/29 vs. 09/01 -----\")\n",
    "t_test(reply_means_0829, reply_means_0901)\n",
    "print(\"----- quotes t-test 08/29 vs. 09/01 -----\")\n",
    "t_test(quote_means_0829, quote_means_0901)\n",
    "\n",
    "print()\n",
    "\n",
    "print(\"----- retweets t-test 08/28 vs. 09/01 -----\")\n",
    "t_test(retweet_means_0828, retweet_means_0901)\n",
    "print(\"----- replies t-test 08/28 vs. 09/01 -----\")\n",
    "t_test(reply_means_0828, reply_means_0901)\n",
    "print(\"----- quotes t-test 08/28 vs. 09/01 -----\")\n",
    "t_test(quote_means_0828, quote_means_0901)"
   ]
  },
  {
   "cell_type": "markdown",
   "metadata": {},
   "source": [
    "Now, let's try re-running the t-test's with fewer subgroups."
   ]
  },
  {
   "cell_type": "code",
   "execution_count": 251,
   "metadata": {},
   "outputs": [],
   "source": [
    "def reduce_subgroups_2x(lst):\n",
    "    lst_merged = []\n",
    "    i = 0\n",
    "    s = 0\n",
    "    for val in lst:\n",
    "        if i == 1:\n",
    "            s += val\n",
    "            lst_merged.append(s / 2)\n",
    "            s = 0\n",
    "            i = 0\n",
    "        else:\n",
    "            s += val\n",
    "            i += 1\n",
    "            \n",
    "    return lst_merged\n",
    "\n",
    "def reduce_subgroups(lst, factor):\n",
    "    for i in range(factor):\n",
    "        lst = reduce_subgroups_2x(lst)\n",
    "        \n",
    "    return lst\n",
    "\n",
    "def run_t_test_reduced(factor):\n",
    "    print(\"Number of groups:\", len(reduce_subgroups(retweet_means_thin, factor)))\n",
    "    print()\n",
    "    print(\"----- retweets t-test -----\")\n",
    "    t_test(reduce_subgroups(retweet_means_thin, factor), reduce_subgroups(retweet_means_full, factor))\n",
    "    print(\"----- replies t-test -----\")\n",
    "    t_test(reduce_subgroups(quote_means_thin, factor), reduce_subgroups(reply_means_full, factor))\n",
    "    print(\"----- quotes t-test -----\")\n",
    "    t_test(reduce_subgroups(quote_means_thin, factor), reduce_subgroups(quote_means_full, factor))"
   ]
  },
  {
   "cell_type": "code",
   "execution_count": 259,
   "metadata": {},
   "outputs": [
    {
     "name": "stdout",
     "output_type": "stream",
     "text": [
      "Number of groups: 363\n",
      "\n",
      "----- retweets t-test -----\n",
      "t_stat = 0.7022445391933957\n",
      "p_val = 0.4827542601214765\n",
      "----- replies t-test -----\n",
      "t_stat = -251.25316023753558\n",
      "p_val = 2.0\n",
      "----- quotes t-test -----\n",
      "t_stat = 2.049535521920288\n",
      "p_val = 0.04077258635862613\n",
      "\n",
      "Number of groups: 181\n",
      "\n",
      "----- retweets t-test -----\n",
      "t_stat = 0.5171379470537968\n",
      "p_val = 0.6053792140263239\n",
      "----- replies t-test -----\n",
      "t_stat = -186.4929970888013\n",
      "p_val = 2.0\n",
      "----- quotes t-test -----\n",
      "t_stat = 1.5058637869152451\n",
      "p_val = 0.13298394062677543\n",
      "\n",
      "Number of groups: 45\n",
      "\n",
      "----- retweets t-test -----\n",
      "t_stat = 0.2907302998655875\n",
      "p_val = 0.7719416746731556\n",
      "----- replies t-test -----\n",
      "t_stat = -106.22773289858971\n",
      "p_val = 2.0\n",
      "----- quotes t-test -----\n",
      "t_stat = 0.8432925927446651\n",
      "p_val = 0.4013512144672402\n"
     ]
    }
   ],
   "source": [
    "run_t_test_reduced(2)\n",
    "print()\n",
    "run_t_test_reduced(3)\n",
    "print()\n",
    "run_t_test_reduced(5)"
   ]
  },
  {
   "cell_type": "markdown",
   "metadata": {},
   "source": [
    "Notice that with groups = 181, we can accept the null in all cases."
   ]
  },
  {
   "cell_type": "markdown",
   "metadata": {},
   "source": [
    "### Ratio of words in tweet\n",
    "\n",
    "Let's look at the actual words in a tweet to determine if the data is statistically different. First, we will examine the ratio of stopwords. Stopwords are English words that occur frequently such as 'the,' 'and,' 'a,' etc. We would like to see a similar ratio of stopwords between the reduced and larger data because this can help us conclude that the actual tweets are statistically similar.\n",
    "\n",
    "We will also examine how many times a Trump or Biden related word appears as well as the ratio of tweets that mention Trump or Biden. While the number of times a Trump or Biden word may not be a great indicator of statistical similarity, the number of tweets that mention either candidate may be useful. This measure will allow us to glance at the virality of each candidate and will help us determine if the data that we wish to study about the tweets is statistically similar."
   ]
  },
  {
   "cell_type": "code",
   "execution_count": 205,
   "metadata": {},
   "outputs": [],
   "source": [
    "from nltk.corpus import stopwords\n",
    "from nltk.tokenize import word_tokenize"
   ]
  },
  {
   "cell_type": "code",
   "execution_count": 206,
   "metadata": {},
   "outputs": [],
   "source": [
    "# Common english words (ex. 'the,' 'and,' 'a,' etc.)\n",
    "stop_words = set(stopwords.words('english'))"
   ]
  },
  {
   "cell_type": "code",
   "execution_count": 212,
   "metadata": {},
   "outputs": [],
   "source": [
    "def get_word_ratios(obj_lst):\n",
    "    '''\n",
    "    Divide a day's worth of combined_tweets into `total_groups` and find the relevant ratios per group \n",
    "    to investigate the distribution of tweet types.\n",
    "    \n",
    "    @param obj_lst: List of combined, thinned tweet objects read from the pkl files\n",
    "    @return: Three lists of length approximately 'total_groups' containing the population means for each \n",
    "    group. The first list contains the ratio of stopwords, the second contains the ratio of trump-related words, and \n",
    "    the third contains the ratio of biden-related words.\n",
    "    '''\n",
    "    lst_len = len(obj_lst)\n",
    "    total_groups = 60 * 24\n",
    "    group_size = lst_len // total_groups\n",
    "    stopword_mean_tracker = []\n",
    "    trump_words_mean_tracker = []\n",
    "    trump_tweet_mean_tracker = []\n",
    "    biden_words_mean_tracker = []\n",
    "    biden_tweet_mean_tracker = []\n",
    "\n",
    "    stopword_counter = 0\n",
    "    trump_counter = 0\n",
    "    trump_related_tweet_counter = 0\n",
    "    biden_counter = 0\n",
    "    biden_related_tweet_counter = 0\n",
    "    tweet_word_count = 0\n",
    "    tweet_count = 0\n",
    "    for thin_obj in obj_lst:\n",
    "        if tweet_count == group_size:\n",
    "            append_ratio(stopword_mean_tracker, stopword_counter, tweet_word_count)\n",
    "            append_ratio(trump_words_mean_tracker, trump_counter, tweet_word_count)\n",
    "            append_ratio(biden_words_mean_tracker, biden_counter, tweet_word_count)\n",
    "            append_ratio(trump_tweet_mean_tracker, trump_related_tweet_counter, tweet_count)\n",
    "            append_ratio(biden_tweet_mean_tracker, biden_related_tweet_counter, tweet_count)\n",
    "            \n",
    "            tweet_count = 0\n",
    "            tweet_word_count = 0\n",
    "            stopword_counter = 0\n",
    "            trump_counter = 0\n",
    "            trump_related_tweet_counter = 0\n",
    "            biden_counter = 0\n",
    "            biden_related_tweet_counter = 0\n",
    "            \n",
    "        tweet_count += 1\n",
    "        if thin_obj.is_retweet: thin_obj = thin_obj.retweet\n",
    "        word_tokens = word_tokenize(thin_obj.text)\n",
    "        tweet_word_count += len(word_tokens)\n",
    "        \n",
    "        trump_related_tweet_flag = False\n",
    "        biden_related_tweet_flag = False\n",
    "        for w in word_tokens:\n",
    "            w = w.lower()\n",
    "            if w in stop_words: stopword_counter += 1\n",
    "            if w in ['trump', 'realdonaldtrump', '@realdonaldtrump']: \n",
    "                trump_counter += 1\n",
    "                if not trump_related_tweet_flag:\n",
    "                    trump_related_tweet_flag = True\n",
    "                    trump_related_tweet_counter += 1\n",
    "            if w in ['biden', 'joebiden', '@joebiden']: \n",
    "                biden_counter += 1\n",
    "                if not biden_related_tweet_flag:\n",
    "                    biden_related_tweet_flag = True\n",
    "                    biden_related_tweet_counter += 1\n",
    "                \n",
    "    return stopword_mean_tracker, trump_words_mean_tracker, trump_tweet_mean_tracker, biden_words_mean_tracker, biden_tweet_mean_tracker\n"
   ]
  },
  {
   "cell_type": "code",
   "execution_count": 215,
   "metadata": {},
   "outputs": [],
   "source": [
    "def get_word_stats(obj_lst):\n",
    "    stopword_mean_tracker, trump_mean_tracker, trump_tweet_mean_tracker, biden_mean_tracker, biden_tweet_mean_tracker = get_word_ratios(obj_lst)\n",
    "    print(\"percentage of words that are stopwords: \", np.array(stopword_mean_tracker).mean())\n",
    "    print()\n",
    "    print(\"percentage of words that are trump related: \", np.array(trump_mean_tracker).mean())\n",
    "    print(\"percentage of tweets that mention trump: \", np.array(trump_tweet_mean_tracker).mean())\n",
    "    print()\n",
    "    print(\"percentage of words that are biden related: \", np.array(biden_mean_tracker).mean())\n",
    "    print(\"percentage of tweets that mention biden: \", np.array(biden_tweet_mean_tracker).mean())\n",
    "    return stopword_mean_tracker, trump_mean_tracker, trump_tweet_mean_tracker, biden_mean_tracker, biden_tweet_mean_tracker"
   ]
  },
  {
   "cell_type": "code",
   "execution_count": 220,
   "metadata": {},
   "outputs": [
    {
     "name": "stdout",
     "output_type": "stream",
     "text": [
      "----- Thinned data stats -----\n",
      "percentage of words that are stopwords:  0.27571611620491726\n",
      "\n",
      "percentage of words that are trump related:  0.0077525441164554764\n",
      "percentage of tweets that mention trump:  0.15056655751338427\n",
      "\n",
      "percentage of words that are biden related:  0.001802221817679685\n",
      "percentage of tweets that mention biden:  0.03489006705130204\n",
      "----- Full data stats -----\n",
      "percentage of words that are stopwords:  0.2882371591545534\n",
      "\n",
      "percentage of words that are trump related:  0.006473343776062667\n",
      "percentage of tweets that mention trump:  0.12229915044484581\n",
      "\n",
      "percentage of words that are biden related:  0.0014778323257913111\n",
      "percentage of tweets that mention biden:  0.028117474413004218\n"
     ]
    }
   ],
   "source": [
    "print(\"----- Thinned data stats -----\")\n",
    "stopword_means_thin, trump_means_thin, trump_mentions_means_thin, biden_means_thin, biden_mentions_means_thin = get_word_stats(tweets_0626)\n",
    "\n",
    "print(\"----- Full data stats -----\")\n",
    "stopword_means_full, trump_means_full, trump_mentions_means_full, biden_means_full, biden_mentions_means_full = get_word_stats(tweets_0624)\n"
   ]
  },
  {
   "cell_type": "code",
   "execution_count": 221,
   "metadata": {},
   "outputs": [
    {
     "name": "stdout",
     "output_type": "stream",
     "text": [
      "----- stopwords t-test -----\n",
      "t_stat = -10.29123494922213\n",
      "p_val = 2.0\n",
      "\n",
      "----- trump words t-test -----\n",
      "t_stat = 7.423273895486341\n",
      "p_val = 1.496580637194711e-13\n",
      "----- tweets that mention trump t-test -----\n",
      "t_stat = 8.589418849462756\n",
      "p_val = 0.0\n",
      "\n",
      "----- biden words t-test -----\n",
      "t_stat = 6.084520959546995\n",
      "p_val = 1.3231316042805474e-09\n",
      "----- tweets that mention biden t-test -----\n",
      "t_stat = 6.831629876800464\n",
      "p_val = 1.0204725953144589e-11\n"
     ]
    }
   ],
   "source": [
    "print(\"----- stopwords t-test -----\")\n",
    "t_test(stopword_means_thin, stopword_means_full)\n",
    "print()\n",
    "print(\"----- trump words t-test -----\")\n",
    "t_test(trump_means_thin, trump_means_full)\n",
    "print(\"----- tweets that mention trump t-test -----\")\n",
    "t_test(trump_mentions_means_thin, trump_mentions_means_full)\n",
    "print()\n",
    "print(\"----- biden words t-test -----\")\n",
    "t_test(biden_means_thin, biden_means_full)\n",
    "print(\"----- tweets that mention biden t-test -----\")\n",
    "t_test(biden_mentions_means_thin, biden_mentions_means_full)"
   ]
  },
  {
   "cell_type": "markdown",
   "metadata": {},
   "source": [
    "We can conclude that the ratio of stopwords are not statistically different between the reduced and larger data. This may be a good metric to determine that the tweets themselves are not statistically different. \n",
    "\n",
    "However, notice that we reject the null for the ratio of times trump related words appear and tweets that mention trump, concluding that these *are* statistically different between the reduced and larger data. We also conclude that the ratio of times biden related words appear and the ratio of tweets that mention biden are statistically different between the reduced and larger data. \n",
    "\n",
    "If we reduce the amount of groups (increasing the number of tweets per group), we do not reject the null and can then claim that the data is not statistically different. This raises a question on how we wish to determine subgroups."
   ]
  },
  {
   "cell_type": "code",
   "execution_count": 260,
   "metadata": {},
   "outputs": [],
   "source": [
    "def run_words_t_test_reduced(factor):\n",
    "    print(\"Number of groups:\", len(reduce_subgroups(trump_means_thin, factor)))\n",
    "    print()\n",
    "    print(\"----- stopwords t-test -----\")\n",
    "    t_test(reduce_subgroups(stopword_means_thin, factor), reduce_subgroups(stopword_means_full, factor))\n",
    "    print()\n",
    "    print(\"----- trump words t-test -----\")\n",
    "    t_test(reduce_subgroups(trump_means_thin, factor), reduce_subgroups(trump_means_full, factor))\n",
    "    print(\"----- tweets that mention trump t-test -----\")\n",
    "    t_test(reduce_subgroups(trump_mentions_means_thin, factor), reduce_subgroups(trump_mentions_means_full, factor))\n",
    "    print()\n",
    "    print(\"----- biden words t-test -----\")\n",
    "    t_test(reduce_subgroups(biden_means_thin, factor), reduce_subgroups(biden_means_full, factor))\n",
    "    print(\"----- tweets that mention biden t-test -----\")\n",
    "    t_test(reduce_subgroups(biden_mentions_means_thin, factor), reduce_subgroups(biden_mentions_means_full, factor))"
   ]
  },
  {
   "cell_type": "code",
   "execution_count": 264,
   "metadata": {},
   "outputs": [
    {
     "name": "stdout",
     "output_type": "stream",
     "text": [
      "Number of groups: 181\n",
      "\n",
      "----- stopwords t-test -----\n",
      "t_stat = -3.8327474871784104\n",
      "p_val = 1.999850344544159\n",
      "\n",
      "----- trump words t-test -----\n",
      "t_stat = 2.755516145136178\n",
      "p_val = 0.006159620609314409\n",
      "----- tweets that mention trump t-test -----\n",
      "t_stat = 3.1831926196199594\n",
      "p_val = 0.0015841691150355608\n",
      "\n",
      "----- biden words t-test -----\n",
      "t_stat = 2.580276291112289\n",
      "p_val = 0.010269836394463328\n",
      "----- tweets that mention biden t-test -----\n",
      "t_stat = 2.9257240900210904\n",
      "p_val = 0.0036557635217886464\n",
      "\n",
      "Number of groups: 90\n",
      "\n",
      "----- stopwords t-test -----\n",
      "t_stat = -2.7420306880134615\n",
      "p_val = 1.9932701271338433\n",
      "\n",
      "----- trump words t-test -----\n",
      "t_stat = 1.9821914288366276\n",
      "p_val = 0.0489967400614415\n",
      "----- tweets that mention trump t-test -----\n",
      "t_stat = 2.2857990179052283\n",
      "p_val = 0.023444685488855033\n",
      "\n",
      "----- biden words t-test -----\n",
      "t_stat = 1.900846992229877\n",
      "p_val = 0.058938029453291296\n",
      "----- tweets that mention biden t-test -----\n",
      "t_stat = 2.1542933064411227\n",
      "p_val = 0.032561541012167794\n",
      "\n",
      "Number of groups: 45\n",
      "\n",
      "----- stopwords t-test -----\n",
      "t_stat = -1.9924930266312282\n",
      "p_val = 1.9505839422064115\n",
      "\n",
      "----- trump words t-test -----\n",
      "t_stat = 1.4299706658874156\n",
      "p_val = 0.15626634269691642\n",
      "----- tweets that mention trump t-test -----\n",
      "t_stat = 1.6462436374244709\n",
      "p_val = 0.10328061852236092\n",
      "\n",
      "----- biden words t-test -----\n",
      "t_stat = 1.4708744990998002\n",
      "p_val = 0.14489188967359046\n",
      "----- tweets that mention biden t-test -----\n",
      "t_stat = 1.6681309927757346\n",
      "p_val = 0.09884440330060662\n"
     ]
    }
   ],
   "source": [
    "run_words_t_test_reduced(3)\n",
    "print()\n",
    "run_words_t_test_reduced(4)\n",
    "print()\n",
    "run_words_t_test_reduced(5)"
   ]
  },
  {
   "cell_type": "markdown",
   "metadata": {},
   "source": [
    "Notice that with groups = 45, we can accept the null in all cases."
   ]
  },
  {
   "cell_type": "markdown",
   "metadata": {},
   "source": [
    "## Conclusion\n",
    "\n",
    "After performing several t-tests to compare the reduced and larger data sets of combined, thinned tweets, we can make several conclusions. First, we can accept the null hypothesis and conclude that the data sets are not statistically different for the ratio of retweets. We must reject this conclusion for the ratio of quotes. We cannot make any conclusion for the ratio of replies due to an error with the `is_reply` field. It would be worthwhile to rerun the t-tests with a more thoughtful choice for subgroups.\n",
    "\n",
    "The ratio of stopwords are not statistically different between the reduced and larger data. This may be a good metric to determine that the tweets themselves are not statistically different since stopwords are common words between English statements. \n",
    "\n",
    "However, using the current subgroup size of 1440, we reject the null for all other scenarios, concluding that the tweets *are* statistically different between the reduced and larger data. If we reduce the amount of groups (increasing the number of tweets per group), we do not reject the null and can then claim that the data is not statistically different. This raises a question on how we wish to determine subgroups.\n",
    "\n",
    "It is a little surprisingly to see the lack of mentions to Trump and Biden. Even more so, Biden is mentioned 5x as frequently as Trump. This raises questions on how we can determine whether a tweet is about Trump or Biden. We should establish a robust criteria and re-run the above t-tests. \n",
    "\n",
    "**Future considerations:**\n",
    "- Determine a smarter criteria for subgroup size\n",
    "- Establish a robust criteria to determine a Trump or Biden related tweet\n",
    "- Model the retweet vs. reply vs. quote as a multinomial distribution"
   ]
  },
  {
   "cell_type": "code",
   "execution_count": 91,
   "metadata": {},
   "outputs": [],
   "source": [
    "user_ids = {}\n",
    "for thin_obj in tweets_0826:\n",
    "    user_id = thin_obj.get_user_id()\n",
    "    if user_id:\n",
    "        if user_id in user_ids:\n",
    "            user_ids[user_id] += 1\n",
    "        else:\n",
    "            user_ids[user_id] = 1"
   ]
  },
  {
   "cell_type": "code",
   "execution_count": 93,
   "metadata": {},
   "outputs": [],
   "source": [
    "sorted_user_freq = sorted(user_ids.items(), key=lambda x:x[1], reverse=True)"
   ]
  },
  {
   "cell_type": "code",
   "execution_count": 633,
   "metadata": {},
   "outputs": [],
   "source": [
    "from statsmodels.stats.proportion import proportions_ztest\n",
    "\n",
    "alpha = 0.00001\n",
    "\n",
    "def two_sided_prop_z_test(s1, s2, n_obs1, n_obs2):\n",
    "    successes = np.array([s1, s2])\n",
    "    n_obs = np.array([n_obs1, n_obs2])\n",
    "    stat, pval = proportions_ztest(successes, n_obs, alternative = \"two-sided\")\n",
    "    outcome = True\n",
    "    if pval < alpha: outcome = False\n",
    "    return stat, pval, outcome"
   ]
  },
  {
   "cell_type": "code",
   "execution_count": 112,
   "metadata": {},
   "outputs": [],
   "source": [
    "def get_sample_proportions(obj_lst):\n",
    "    '''\n",
    "    Divide a day's worth of combined_tweets into `total_groups` and find the relevant ratios per group \n",
    "    to investigate the distribution of tweet types.\n",
    "    \n",
    "    @param obj_lst: List of combined, thinned tweet objects read from the pkl files\n",
    "    @return: Three lists of length approximately 'total_groups' containing the population means for each \n",
    "    group. The first list contains the ratio of retweets, the second contains the ratio of replies, and \n",
    "    the third contains the ratio of quotes.\n",
    "    '''\n",
    "    n_obs = 0\n",
    "    \n",
    "    retweet_count = 0\n",
    "    reply_count = 0\n",
    "    quote_count = 0\n",
    "    trump_related_tweet_count = 0\n",
    "    biden_related_tweet_count = 0\n",
    "    for thin_obj in obj_lst:\n",
    "        n_obs += 1\n",
    "        if thin_obj.is_reply(): reply_count += 1\n",
    "        if thin_obj.quote_status: quote_count += 1\n",
    "        if thin_obj.is_retweet: \n",
    "            retweet_count += 1\n",
    "            # Reassign the thin_obj so that we look at the retweet's text\n",
    "            thin_obj = thin_obj.retweet\n",
    "            \n",
    "        word_tokens = word_tokenize(thin_obj.text)\n",
    "        trump_related_tweet_flag = False\n",
    "        biden_related_tweet_flag = False\n",
    "        for w in word_tokens:\n",
    "            w = w.lower()\n",
    "            if not trump_related_tweet_flag and w in ['trump', 'realdonaldtrump', '@realdonaldtrump']: \n",
    "                trump_related_tweet_count += 1\n",
    "                trump_related_tweet_flag = True\n",
    "            if not biden_related_tweet_flag and w in ['biden', 'joebiden', '@joebiden']: \n",
    "                biden_related_tweet_count += 1\n",
    "                biden_related_tweet_flag = True\n",
    "                \n",
    "            if trump_related_tweet_flag and biden_related_tweet_flag:\n",
    "                break\n",
    "            \n",
    "    return n_obs, retweet_count, reply_count, quote_count, trump_related_tweet_count, biden_related_tweet_count"
   ]
  },
  {
   "cell_type": "code",
   "execution_count": 113,
   "metadata": {},
   "outputs": [],
   "source": [
    "n_obs_0624, s_rt_0624, s_rep_0624, s_qt_0624, s_trump_0624, s_biden_0624 = get_sample_proportions(tweets_0624)\n",
    "n_obs_0626, s_rt_0626, s_rep_0626, s_qt_0626, s_trump_0626, s_biden_0626 = get_sample_proportions(tweets_0626)\n",
    "n_obs_0825, s_rt_0825, s_rep_0825, s_qt_0825, s_trump_0825, s_biden_0825 = get_sample_proportions(tweets_0825)\n",
    "n_obs_0826, s_rt_0826, s_rep_0826, s_qt_0826, s_trump_0826, s_biden_0826 = get_sample_proportions(tweets_0826)\n",
    "n_obs_0828, s_rt_0828, s_rep_0828, s_qt_0828, s_trump_0828, s_biden_0828 = get_sample_proportions(tweets_0828)\n",
    "n_obs_0829, s_rt_0829, s_rep_0829, s_qt_0829, s_trump_0829, s_biden_0829 = get_sample_proportions(tweets_0829)\n",
    "n_obs_0901, s_rt_0901, s_rep_0901, s_qt_0901, s_trump_0901, s_biden_0901 = get_sample_proportions(tweets_0901)"
   ]
  },
  {
   "cell_type": "code",
   "execution_count": 152,
   "metadata": {},
   "outputs": [],
   "source": [
    "def run_prop_tests(lst_of_data):\n",
    "    index_names = ['06/24', '06/26', '08/25', '08/26', '08/28', '08/29', '09/01']\n",
    "    column_names = ['pval-06/24', 'Outcome-06/24', 'pval-06/26', 'Outcome-06/26', 'pval-08/25', 'Outcome-08/25', \n",
    "                    'pval-08/26', 'Outcome-08/26', 'pval-08/28', 'Outcome-08/28', 'pval-08/29', 'Outcome-08/29', \n",
    "                    'pval-09/01', 'Outcome-09/01']\n",
    "    df = pd.DataFrame(index=index_names, columns=column_names)\n",
    "\n",
    "    for i, data1 in enumerate(lst_of_data):\n",
    "        for j, data2 in enumerate(lst_of_data[i:]):\n",
    "            stat, pval, outcome = two_sided_prop_z_test(data1[0], data2[0], data1[1], data2[1])\n",
    "            df.iloc[i, (i + j) * 2] = pval\n",
    "            df.iloc[i, (i + j) * 2 + 1] = \"ACCEPT\" if outcome else \"REJECT\"\n",
    "            df.iloc[i + j, i * 2] = pval\n",
    "            df.iloc[i + j, i * 2 + 1] = \"ACCEPT\" if outcome else \"REJECT\" \n",
    "            \n",
    "    return df"
   ]
  },
  {
   "cell_type": "markdown",
   "metadata": {},
   "source": [
    "**Accept:** We accept the null hypothesis that $p_1 = p_2$\n",
    "\n",
    "**Reject:** We reject the null hypothesis, and accept the alternative that $p_1 \\neq p_2$"
   ]
  },
  {
   "cell_type": "code",
   "execution_count": 634,
   "metadata": {},
   "outputs": [
    {
     "data": {
      "text/html": [
       "<div>\n",
       "<style scoped>\n",
       "    .dataframe tbody tr th:only-of-type {\n",
       "        vertical-align: middle;\n",
       "    }\n",
       "\n",
       "    .dataframe tbody tr th {\n",
       "        vertical-align: top;\n",
       "    }\n",
       "\n",
       "    .dataframe thead th {\n",
       "        text-align: right;\n",
       "    }\n",
       "</style>\n",
       "<table border=\"1\" class=\"dataframe\">\n",
       "  <thead>\n",
       "    <tr style=\"text-align: right;\">\n",
       "      <th></th>\n",
       "      <th>pval-06/24</th>\n",
       "      <th>Outcome-06/24</th>\n",
       "      <th>pval-06/26</th>\n",
       "      <th>Outcome-06/26</th>\n",
       "      <th>pval-08/25</th>\n",
       "      <th>Outcome-08/25</th>\n",
       "      <th>pval-08/26</th>\n",
       "      <th>Outcome-08/26</th>\n",
       "      <th>pval-08/28</th>\n",
       "      <th>Outcome-08/28</th>\n",
       "      <th>pval-08/29</th>\n",
       "      <th>Outcome-08/29</th>\n",
       "      <th>pval-09/01</th>\n",
       "      <th>Outcome-09/01</th>\n",
       "    </tr>\n",
       "  </thead>\n",
       "  <tbody>\n",
       "    <tr>\n",
       "      <th>06/24</th>\n",
       "      <td>1</td>\n",
       "      <td>ACCEPT</td>\n",
       "      <td>0.0242155</td>\n",
       "      <td>ACCEPT</td>\n",
       "      <td>8.5435e-143</td>\n",
       "      <td>REJECT</td>\n",
       "      <td>1.98043e-13</td>\n",
       "      <td>REJECT</td>\n",
       "      <td>1.7564e-20</td>\n",
       "      <td>REJECT</td>\n",
       "      <td>4.6749e-114</td>\n",
       "      <td>REJECT</td>\n",
       "      <td>0.291146</td>\n",
       "      <td>ACCEPT</td>\n",
       "    </tr>\n",
       "    <tr>\n",
       "      <th>06/26</th>\n",
       "      <td>0.0242155</td>\n",
       "      <td>ACCEPT</td>\n",
       "      <td>1</td>\n",
       "      <td>ACCEPT</td>\n",
       "      <td>7.59805e-81</td>\n",
       "      <td>REJECT</td>\n",
       "      <td>1.84959e-10</td>\n",
       "      <td>REJECT</td>\n",
       "      <td>3.8125e-11</td>\n",
       "      <td>REJECT</td>\n",
       "      <td>1.48991e-34</td>\n",
       "      <td>REJECT</td>\n",
       "      <td>0.232822</td>\n",
       "      <td>ACCEPT</td>\n",
       "    </tr>\n",
       "    <tr>\n",
       "      <th>08/25</th>\n",
       "      <td>8.5435e-143</td>\n",
       "      <td>REJECT</td>\n",
       "      <td>7.59805e-81</td>\n",
       "      <td>REJECT</td>\n",
       "      <td>1</td>\n",
       "      <td>ACCEPT</td>\n",
       "      <td>4.59828e-51</td>\n",
       "      <td>REJECT</td>\n",
       "      <td>1.71196e-67</td>\n",
       "      <td>REJECT</td>\n",
       "      <td>1.8829e-266</td>\n",
       "      <td>REJECT</td>\n",
       "      <td>3.13945e-95</td>\n",
       "      <td>REJECT</td>\n",
       "    </tr>\n",
       "    <tr>\n",
       "      <th>08/26</th>\n",
       "      <td>1.98043e-13</td>\n",
       "      <td>REJECT</td>\n",
       "      <td>1.84959e-10</td>\n",
       "      <td>REJECT</td>\n",
       "      <td>4.59828e-51</td>\n",
       "      <td>REJECT</td>\n",
       "      <td>1</td>\n",
       "      <td>ACCEPT</td>\n",
       "      <td>0.591983</td>\n",
       "      <td>ACCEPT</td>\n",
       "      <td>4.9545e-106</td>\n",
       "      <td>REJECT</td>\n",
       "      <td>7.91379e-10</td>\n",
       "      <td>REJECT</td>\n",
       "    </tr>\n",
       "    <tr>\n",
       "      <th>08/28</th>\n",
       "      <td>1.7564e-20</td>\n",
       "      <td>REJECT</td>\n",
       "      <td>3.8125e-11</td>\n",
       "      <td>REJECT</td>\n",
       "      <td>1.71196e-67</td>\n",
       "      <td>REJECT</td>\n",
       "      <td>0.591983</td>\n",
       "      <td>ACCEPT</td>\n",
       "      <td>1</td>\n",
       "      <td>ACCEPT</td>\n",
       "      <td>6.26535e-135</td>\n",
       "      <td>REJECT</td>\n",
       "      <td>4.60849e-11</td>\n",
       "      <td>REJECT</td>\n",
       "    </tr>\n",
       "    <tr>\n",
       "      <th>08/29</th>\n",
       "      <td>4.6749e-114</td>\n",
       "      <td>REJECT</td>\n",
       "      <td>1.48991e-34</td>\n",
       "      <td>REJECT</td>\n",
       "      <td>1.8829e-266</td>\n",
       "      <td>REJECT</td>\n",
       "      <td>4.9545e-106</td>\n",
       "      <td>REJECT</td>\n",
       "      <td>6.26535e-135</td>\n",
       "      <td>REJECT</td>\n",
       "      <td>1</td>\n",
       "      <td>ACCEPT</td>\n",
       "      <td>4.97477e-57</td>\n",
       "      <td>REJECT</td>\n",
       "    </tr>\n",
       "    <tr>\n",
       "      <th>09/01</th>\n",
       "      <td>0.291146</td>\n",
       "      <td>ACCEPT</td>\n",
       "      <td>0.232822</td>\n",
       "      <td>ACCEPT</td>\n",
       "      <td>3.13945e-95</td>\n",
       "      <td>REJECT</td>\n",
       "      <td>7.91379e-10</td>\n",
       "      <td>REJECT</td>\n",
       "      <td>4.60849e-11</td>\n",
       "      <td>REJECT</td>\n",
       "      <td>4.97477e-57</td>\n",
       "      <td>REJECT</td>\n",
       "      <td>1</td>\n",
       "      <td>ACCEPT</td>\n",
       "    </tr>\n",
       "  </tbody>\n",
       "</table>\n",
       "</div>"
      ],
      "text/plain": [
       "        pval-06/24 Outcome-06/24   pval-06/26 Outcome-06/26   pval-08/25  \\\n",
       "06/24            1        ACCEPT    0.0242155        ACCEPT  8.5435e-143   \n",
       "06/26    0.0242155        ACCEPT            1        ACCEPT  7.59805e-81   \n",
       "08/25  8.5435e-143        REJECT  7.59805e-81        REJECT            1   \n",
       "08/26  1.98043e-13        REJECT  1.84959e-10        REJECT  4.59828e-51   \n",
       "08/28   1.7564e-20        REJECT   3.8125e-11        REJECT  1.71196e-67   \n",
       "08/29  4.6749e-114        REJECT  1.48991e-34        REJECT  1.8829e-266   \n",
       "09/01     0.291146        ACCEPT     0.232822        ACCEPT  3.13945e-95   \n",
       "\n",
       "      Outcome-08/25   pval-08/26 Outcome-08/26    pval-08/28 Outcome-08/28  \\\n",
       "06/24        REJECT  1.98043e-13        REJECT    1.7564e-20        REJECT   \n",
       "06/26        REJECT  1.84959e-10        REJECT    3.8125e-11        REJECT   \n",
       "08/25        ACCEPT  4.59828e-51        REJECT   1.71196e-67        REJECT   \n",
       "08/26        REJECT            1        ACCEPT      0.591983        ACCEPT   \n",
       "08/28        REJECT     0.591983        ACCEPT             1        ACCEPT   \n",
       "08/29        REJECT  4.9545e-106        REJECT  6.26535e-135        REJECT   \n",
       "09/01        REJECT  7.91379e-10        REJECT   4.60849e-11        REJECT   \n",
       "\n",
       "         pval-08/29 Outcome-08/29   pval-09/01 Outcome-09/01  \n",
       "06/24   4.6749e-114        REJECT     0.291146        ACCEPT  \n",
       "06/26   1.48991e-34        REJECT     0.232822        ACCEPT  \n",
       "08/25   1.8829e-266        REJECT  3.13945e-95        REJECT  \n",
       "08/26   4.9545e-106        REJECT  7.91379e-10        REJECT  \n",
       "08/28  6.26535e-135        REJECT  4.60849e-11        REJECT  \n",
       "08/29             1        ACCEPT  4.97477e-57        REJECT  \n",
       "09/01   4.97477e-57        REJECT            1        ACCEPT  "
      ]
     },
     "execution_count": 634,
     "metadata": {},
     "output_type": "execute_result"
    }
   ],
   "source": [
    "rt_data = [(s_rt_0624, n_obs_0624), (s_rt_0626, n_obs_0626), (s_rt_0825, n_obs_0825), (s_rt_0826, n_obs_0826), \n",
    "           (s_rt_0828, n_obs_0828), (s_rt_0829, n_obs_0829), (s_rt_0901, n_obs_0901)]\n",
    "rt_df = run_prop_tests(rt_data)\n",
    "rt_df"
   ]
  },
  {
   "cell_type": "code",
   "execution_count": 155,
   "metadata": {},
   "outputs": [
    {
     "data": {
      "text/html": [
       "<div>\n",
       "<style scoped>\n",
       "    .dataframe tbody tr th:only-of-type {\n",
       "        vertical-align: middle;\n",
       "    }\n",
       "\n",
       "    .dataframe tbody tr th {\n",
       "        vertical-align: top;\n",
       "    }\n",
       "\n",
       "    .dataframe thead th {\n",
       "        text-align: right;\n",
       "    }\n",
       "</style>\n",
       "<table border=\"1\" class=\"dataframe\">\n",
       "  <thead>\n",
       "    <tr style=\"text-align: right;\">\n",
       "      <th></th>\n",
       "      <th>pval-06/24</th>\n",
       "      <th>Outcome-06/24</th>\n",
       "      <th>pval-06/26</th>\n",
       "      <th>Outcome-06/26</th>\n",
       "      <th>pval-08/25</th>\n",
       "      <th>Outcome-08/25</th>\n",
       "      <th>pval-08/26</th>\n",
       "      <th>Outcome-08/26</th>\n",
       "      <th>pval-08/28</th>\n",
       "      <th>Outcome-08/28</th>\n",
       "      <th>pval-08/29</th>\n",
       "      <th>Outcome-08/29</th>\n",
       "      <th>pval-09/01</th>\n",
       "      <th>Outcome-09/01</th>\n",
       "    </tr>\n",
       "  </thead>\n",
       "  <tbody>\n",
       "    <tr>\n",
       "      <th>06/24</th>\n",
       "      <td>1</td>\n",
       "      <td>ACCEPT</td>\n",
       "      <td>3.62321e-10</td>\n",
       "      <td>REJECT</td>\n",
       "      <td>0</td>\n",
       "      <td>REJECT</td>\n",
       "      <td>6.39793e-160</td>\n",
       "      <td>REJECT</td>\n",
       "      <td>5.89695e-308</td>\n",
       "      <td>REJECT</td>\n",
       "      <td>0.00042135</td>\n",
       "      <td>REJECT</td>\n",
       "      <td>5.44998e-57</td>\n",
       "      <td>REJECT</td>\n",
       "    </tr>\n",
       "    <tr>\n",
       "      <th>06/26</th>\n",
       "      <td>3.62321e-10</td>\n",
       "      <td>REJECT</td>\n",
       "      <td>1</td>\n",
       "      <td>ACCEPT</td>\n",
       "      <td>7.9239e-119</td>\n",
       "      <td>REJECT</td>\n",
       "      <td>5.73293e-30</td>\n",
       "      <td>REJECT</td>\n",
       "      <td>6.04497e-37</td>\n",
       "      <td>REJECT</td>\n",
       "      <td>3.70881e-13</td>\n",
       "      <td>REJECT</td>\n",
       "      <td>4.9232e-06</td>\n",
       "      <td>REJECT</td>\n",
       "    </tr>\n",
       "    <tr>\n",
       "      <th>08/25</th>\n",
       "      <td>0</td>\n",
       "      <td>REJECT</td>\n",
       "      <td>7.9239e-119</td>\n",
       "      <td>REJECT</td>\n",
       "      <td>1</td>\n",
       "      <td>ACCEPT</td>\n",
       "      <td>1.20651e-47</td>\n",
       "      <td>REJECT</td>\n",
       "      <td>9.72116e-59</td>\n",
       "      <td>REJECT</td>\n",
       "      <td>1.18312e-260</td>\n",
       "      <td>REJECT</td>\n",
       "      <td>3.77896e-107</td>\n",
       "      <td>REJECT</td>\n",
       "    </tr>\n",
       "    <tr>\n",
       "      <th>08/26</th>\n",
       "      <td>6.39793e-160</td>\n",
       "      <td>REJECT</td>\n",
       "      <td>5.73293e-30</td>\n",
       "      <td>REJECT</td>\n",
       "      <td>1.20651e-47</td>\n",
       "      <td>REJECT</td>\n",
       "      <td>1</td>\n",
       "      <td>ACCEPT</td>\n",
       "      <td>0.849913</td>\n",
       "      <td>ACCEPT</td>\n",
       "      <td>1.19805e-106</td>\n",
       "      <td>REJECT</td>\n",
       "      <td>4.35638e-16</td>\n",
       "      <td>REJECT</td>\n",
       "    </tr>\n",
       "    <tr>\n",
       "      <th>08/28</th>\n",
       "      <td>5.89695e-308</td>\n",
       "      <td>REJECT</td>\n",
       "      <td>6.04497e-37</td>\n",
       "      <td>REJECT</td>\n",
       "      <td>9.72116e-59</td>\n",
       "      <td>REJECT</td>\n",
       "      <td>0.849913</td>\n",
       "      <td>ACCEPT</td>\n",
       "      <td>1</td>\n",
       "      <td>ACCEPT</td>\n",
       "      <td>1.18157e-142</td>\n",
       "      <td>REJECT</td>\n",
       "      <td>8.06725e-22</td>\n",
       "      <td>REJECT</td>\n",
       "    </tr>\n",
       "    <tr>\n",
       "      <th>08/29</th>\n",
       "      <td>0.00042135</td>\n",
       "      <td>REJECT</td>\n",
       "      <td>3.70881e-13</td>\n",
       "      <td>REJECT</td>\n",
       "      <td>1.18312e-260</td>\n",
       "      <td>REJECT</td>\n",
       "      <td>1.19805e-106</td>\n",
       "      <td>REJECT</td>\n",
       "      <td>1.18157e-142</td>\n",
       "      <td>REJECT</td>\n",
       "      <td>1</td>\n",
       "      <td>ACCEPT</td>\n",
       "      <td>1.79347e-44</td>\n",
       "      <td>REJECT</td>\n",
       "    </tr>\n",
       "    <tr>\n",
       "      <th>09/01</th>\n",
       "      <td>5.44998e-57</td>\n",
       "      <td>REJECT</td>\n",
       "      <td>4.9232e-06</td>\n",
       "      <td>REJECT</td>\n",
       "      <td>3.77896e-107</td>\n",
       "      <td>REJECT</td>\n",
       "      <td>4.35638e-16</td>\n",
       "      <td>REJECT</td>\n",
       "      <td>8.06725e-22</td>\n",
       "      <td>REJECT</td>\n",
       "      <td>1.79347e-44</td>\n",
       "      <td>REJECT</td>\n",
       "      <td>1</td>\n",
       "      <td>ACCEPT</td>\n",
       "    </tr>\n",
       "  </tbody>\n",
       "</table>\n",
       "</div>"
      ],
      "text/plain": [
       "         pval-06/24 Outcome-06/24   pval-06/26 Outcome-06/26    pval-08/25  \\\n",
       "06/24             1        ACCEPT  3.62321e-10        REJECT             0   \n",
       "06/26   3.62321e-10        REJECT            1        ACCEPT   7.9239e-119   \n",
       "08/25             0        REJECT  7.9239e-119        REJECT             1   \n",
       "08/26  6.39793e-160        REJECT  5.73293e-30        REJECT   1.20651e-47   \n",
       "08/28  5.89695e-308        REJECT  6.04497e-37        REJECT   9.72116e-59   \n",
       "08/29    0.00042135        REJECT  3.70881e-13        REJECT  1.18312e-260   \n",
       "09/01   5.44998e-57        REJECT   4.9232e-06        REJECT  3.77896e-107   \n",
       "\n",
       "      Outcome-08/25    pval-08/26 Outcome-08/26    pval-08/28 Outcome-08/28  \\\n",
       "06/24        REJECT  6.39793e-160        REJECT  5.89695e-308        REJECT   \n",
       "06/26        REJECT   5.73293e-30        REJECT   6.04497e-37        REJECT   \n",
       "08/25        ACCEPT   1.20651e-47        REJECT   9.72116e-59        REJECT   \n",
       "08/26        REJECT             1        ACCEPT      0.849913        ACCEPT   \n",
       "08/28        REJECT      0.849913        ACCEPT             1        ACCEPT   \n",
       "08/29        REJECT  1.19805e-106        REJECT  1.18157e-142        REJECT   \n",
       "09/01        REJECT   4.35638e-16        REJECT   8.06725e-22        REJECT   \n",
       "\n",
       "         pval-08/29 Outcome-08/29    pval-09/01 Outcome-09/01  \n",
       "06/24    0.00042135        REJECT   5.44998e-57        REJECT  \n",
       "06/26   3.70881e-13        REJECT    4.9232e-06        REJECT  \n",
       "08/25  1.18312e-260        REJECT  3.77896e-107        REJECT  \n",
       "08/26  1.19805e-106        REJECT   4.35638e-16        REJECT  \n",
       "08/28  1.18157e-142        REJECT   8.06725e-22        REJECT  \n",
       "08/29             1        ACCEPT   1.79347e-44        REJECT  \n",
       "09/01   1.79347e-44        REJECT             1        ACCEPT  "
      ]
     },
     "execution_count": 155,
     "metadata": {},
     "output_type": "execute_result"
    }
   ],
   "source": [
    "rep_data = [(s_rep_0624, n_obs_0624), (s_rep_0626, n_obs_0626), (s_rep_0825, n_obs_0825), (s_rep_0826, n_obs_0826), \n",
    "           (s_rep_0828, n_obs_0828), (s_rep_0829, n_obs_0829), (s_rep_0901, n_obs_0901)]\n",
    "rep_df = run_prop_tests(rep_data)\n",
    "rep_df"
   ]
  },
  {
   "cell_type": "code",
   "execution_count": 156,
   "metadata": {},
   "outputs": [
    {
     "data": {
      "text/html": [
       "<div>\n",
       "<style scoped>\n",
       "    .dataframe tbody tr th:only-of-type {\n",
       "        vertical-align: middle;\n",
       "    }\n",
       "\n",
       "    .dataframe tbody tr th {\n",
       "        vertical-align: top;\n",
       "    }\n",
       "\n",
       "    .dataframe thead th {\n",
       "        text-align: right;\n",
       "    }\n",
       "</style>\n",
       "<table border=\"1\" class=\"dataframe\">\n",
       "  <thead>\n",
       "    <tr style=\"text-align: right;\">\n",
       "      <th></th>\n",
       "      <th>pval-06/24</th>\n",
       "      <th>Outcome-06/24</th>\n",
       "      <th>pval-06/26</th>\n",
       "      <th>Outcome-06/26</th>\n",
       "      <th>pval-08/25</th>\n",
       "      <th>Outcome-08/25</th>\n",
       "      <th>pval-08/26</th>\n",
       "      <th>Outcome-08/26</th>\n",
       "      <th>pval-08/28</th>\n",
       "      <th>Outcome-08/28</th>\n",
       "      <th>pval-08/29</th>\n",
       "      <th>Outcome-08/29</th>\n",
       "      <th>pval-09/01</th>\n",
       "      <th>Outcome-09/01</th>\n",
       "    </tr>\n",
       "  </thead>\n",
       "  <tbody>\n",
       "    <tr>\n",
       "      <th>06/24</th>\n",
       "      <td>1</td>\n",
       "      <td>ACCEPT</td>\n",
       "      <td>6.67915e-10</td>\n",
       "      <td>REJECT</td>\n",
       "      <td>0</td>\n",
       "      <td>REJECT</td>\n",
       "      <td>5.66601e-233</td>\n",
       "      <td>REJECT</td>\n",
       "      <td>7.13388e-36</td>\n",
       "      <td>REJECT</td>\n",
       "      <td>0.643305</td>\n",
       "      <td>ACCEPT</td>\n",
       "      <td>9.59447e-125</td>\n",
       "      <td>REJECT</td>\n",
       "    </tr>\n",
       "    <tr>\n",
       "      <th>06/26</th>\n",
       "      <td>6.67915e-10</td>\n",
       "      <td>REJECT</td>\n",
       "      <td>1</td>\n",
       "      <td>ACCEPT</td>\n",
       "      <td>1.26849e-219</td>\n",
       "      <td>REJECT</td>\n",
       "      <td>7.74528e-146</td>\n",
       "      <td>REJECT</td>\n",
       "      <td>3.57404e-32</td>\n",
       "      <td>REJECT</td>\n",
       "      <td>1.22478e-07</td>\n",
       "      <td>REJECT</td>\n",
       "      <td>8.90073e-88</td>\n",
       "      <td>REJECT</td>\n",
       "    </tr>\n",
       "    <tr>\n",
       "      <th>08/25</th>\n",
       "      <td>0</td>\n",
       "      <td>REJECT</td>\n",
       "      <td>1.26849e-219</td>\n",
       "      <td>REJECT</td>\n",
       "      <td>1</td>\n",
       "      <td>ACCEPT</td>\n",
       "      <td>2.23878e-19</td>\n",
       "      <td>REJECT</td>\n",
       "      <td>1.37944e-166</td>\n",
       "      <td>REJECT</td>\n",
       "      <td>5.42101e-203</td>\n",
       "      <td>REJECT</td>\n",
       "      <td>2.54041e-53</td>\n",
       "      <td>REJECT</td>\n",
       "    </tr>\n",
       "    <tr>\n",
       "      <th>08/26</th>\n",
       "      <td>5.66601e-233</td>\n",
       "      <td>REJECT</td>\n",
       "      <td>7.74528e-146</td>\n",
       "      <td>REJECT</td>\n",
       "      <td>2.23878e-19</td>\n",
       "      <td>REJECT</td>\n",
       "      <td>1</td>\n",
       "      <td>ACCEPT</td>\n",
       "      <td>3.32689e-90</td>\n",
       "      <td>REJECT</td>\n",
       "      <td>5.80139e-126</td>\n",
       "      <td>REJECT</td>\n",
       "      <td>2.10563e-12</td>\n",
       "      <td>REJECT</td>\n",
       "    </tr>\n",
       "    <tr>\n",
       "      <th>08/28</th>\n",
       "      <td>7.13388e-36</td>\n",
       "      <td>REJECT</td>\n",
       "      <td>3.57404e-32</td>\n",
       "      <td>REJECT</td>\n",
       "      <td>1.37944e-166</td>\n",
       "      <td>REJECT</td>\n",
       "      <td>3.32689e-90</td>\n",
       "      <td>REJECT</td>\n",
       "      <td>1</td>\n",
       "      <td>ACCEPT</td>\n",
       "      <td>2.85949e-13</td>\n",
       "      <td>REJECT</td>\n",
       "      <td>6.44379e-35</td>\n",
       "      <td>REJECT</td>\n",
       "    </tr>\n",
       "    <tr>\n",
       "      <th>08/29</th>\n",
       "      <td>0.643305</td>\n",
       "      <td>ACCEPT</td>\n",
       "      <td>1.22478e-07</td>\n",
       "      <td>REJECT</td>\n",
       "      <td>5.42101e-203</td>\n",
       "      <td>REJECT</td>\n",
       "      <td>5.80139e-126</td>\n",
       "      <td>REJECT</td>\n",
       "      <td>2.85949e-13</td>\n",
       "      <td>REJECT</td>\n",
       "      <td>1</td>\n",
       "      <td>ACCEPT</td>\n",
       "      <td>2.69536e-65</td>\n",
       "      <td>REJECT</td>\n",
       "    </tr>\n",
       "    <tr>\n",
       "      <th>09/01</th>\n",
       "      <td>9.59447e-125</td>\n",
       "      <td>REJECT</td>\n",
       "      <td>8.90073e-88</td>\n",
       "      <td>REJECT</td>\n",
       "      <td>2.54041e-53</td>\n",
       "      <td>REJECT</td>\n",
       "      <td>2.10563e-12</td>\n",
       "      <td>REJECT</td>\n",
       "      <td>6.44379e-35</td>\n",
       "      <td>REJECT</td>\n",
       "      <td>2.69536e-65</td>\n",
       "      <td>REJECT</td>\n",
       "      <td>1</td>\n",
       "      <td>ACCEPT</td>\n",
       "    </tr>\n",
       "  </tbody>\n",
       "</table>\n",
       "</div>"
      ],
      "text/plain": [
       "         pval-06/24 Outcome-06/24    pval-06/26 Outcome-06/26    pval-08/25  \\\n",
       "06/24             1        ACCEPT   6.67915e-10        REJECT             0   \n",
       "06/26   6.67915e-10        REJECT             1        ACCEPT  1.26849e-219   \n",
       "08/25             0        REJECT  1.26849e-219        REJECT             1   \n",
       "08/26  5.66601e-233        REJECT  7.74528e-146        REJECT   2.23878e-19   \n",
       "08/28   7.13388e-36        REJECT   3.57404e-32        REJECT  1.37944e-166   \n",
       "08/29      0.643305        ACCEPT   1.22478e-07        REJECT  5.42101e-203   \n",
       "09/01  9.59447e-125        REJECT   8.90073e-88        REJECT   2.54041e-53   \n",
       "\n",
       "      Outcome-08/25    pval-08/26 Outcome-08/26    pval-08/28 Outcome-08/28  \\\n",
       "06/24        REJECT  5.66601e-233        REJECT   7.13388e-36        REJECT   \n",
       "06/26        REJECT  7.74528e-146        REJECT   3.57404e-32        REJECT   \n",
       "08/25        ACCEPT   2.23878e-19        REJECT  1.37944e-166        REJECT   \n",
       "08/26        REJECT             1        ACCEPT   3.32689e-90        REJECT   \n",
       "08/28        REJECT   3.32689e-90        REJECT             1        ACCEPT   \n",
       "08/29        REJECT  5.80139e-126        REJECT   2.85949e-13        REJECT   \n",
       "09/01        REJECT   2.10563e-12        REJECT   6.44379e-35        REJECT   \n",
       "\n",
       "         pval-08/29 Outcome-08/29    pval-09/01 Outcome-09/01  \n",
       "06/24      0.643305        ACCEPT  9.59447e-125        REJECT  \n",
       "06/26   1.22478e-07        REJECT   8.90073e-88        REJECT  \n",
       "08/25  5.42101e-203        REJECT   2.54041e-53        REJECT  \n",
       "08/26  5.80139e-126        REJECT   2.10563e-12        REJECT  \n",
       "08/28   2.85949e-13        REJECT   6.44379e-35        REJECT  \n",
       "08/29             1        ACCEPT   2.69536e-65        REJECT  \n",
       "09/01   2.69536e-65        REJECT             1        ACCEPT  "
      ]
     },
     "execution_count": 156,
     "metadata": {},
     "output_type": "execute_result"
    }
   ],
   "source": [
    "qt_data = [(s_qt_0624, n_obs_0624), (s_qt_0626, n_obs_0626), (s_qt_0825, n_obs_0825), (s_qt_0826, n_obs_0826), \n",
    "           (s_qt_0828, n_obs_0828), (s_qt_0829, n_obs_0829), (s_qt_0901, n_obs_0901)]\n",
    "qt_df = run_prop_tests(qt_data)\n",
    "qt_df"
   ]
  },
  {
   "cell_type": "code",
   "execution_count": 157,
   "metadata": {},
   "outputs": [
    {
     "data": {
      "text/html": [
       "<div>\n",
       "<style scoped>\n",
       "    .dataframe tbody tr th:only-of-type {\n",
       "        vertical-align: middle;\n",
       "    }\n",
       "\n",
       "    .dataframe tbody tr th {\n",
       "        vertical-align: top;\n",
       "    }\n",
       "\n",
       "    .dataframe thead th {\n",
       "        text-align: right;\n",
       "    }\n",
       "</style>\n",
       "<table border=\"1\" class=\"dataframe\">\n",
       "  <thead>\n",
       "    <tr style=\"text-align: right;\">\n",
       "      <th></th>\n",
       "      <th>pval-06/24</th>\n",
       "      <th>Outcome-06/24</th>\n",
       "      <th>pval-06/26</th>\n",
       "      <th>Outcome-06/26</th>\n",
       "      <th>pval-08/25</th>\n",
       "      <th>Outcome-08/25</th>\n",
       "      <th>pval-08/26</th>\n",
       "      <th>Outcome-08/26</th>\n",
       "      <th>pval-08/28</th>\n",
       "      <th>Outcome-08/28</th>\n",
       "      <th>pval-08/29</th>\n",
       "      <th>Outcome-08/29</th>\n",
       "      <th>pval-09/01</th>\n",
       "      <th>Outcome-09/01</th>\n",
       "    </tr>\n",
       "  </thead>\n",
       "  <tbody>\n",
       "    <tr>\n",
       "      <th>06/24</th>\n",
       "      <td>1</td>\n",
       "      <td>ACCEPT</td>\n",
       "      <td>2.57724e-235</td>\n",
       "      <td>REJECT</td>\n",
       "      <td>1.06873e-41</td>\n",
       "      <td>REJECT</td>\n",
       "      <td>3.94142e-24</td>\n",
       "      <td>REJECT</td>\n",
       "      <td>0</td>\n",
       "      <td>REJECT</td>\n",
       "      <td>4.65795e-127</td>\n",
       "      <td>REJECT</td>\n",
       "      <td>3.26224e-120</td>\n",
       "      <td>REJECT</td>\n",
       "    </tr>\n",
       "    <tr>\n",
       "      <th>06/26</th>\n",
       "      <td>2.57724e-235</td>\n",
       "      <td>REJECT</td>\n",
       "      <td>1</td>\n",
       "      <td>ACCEPT</td>\n",
       "      <td>1.90697e-47</td>\n",
       "      <td>REJECT</td>\n",
       "      <td>8.87004e-84</td>\n",
       "      <td>REJECT</td>\n",
       "      <td>7.23035e-06</td>\n",
       "      <td>REJECT</td>\n",
       "      <td>8.01123e-29</td>\n",
       "      <td>REJECT</td>\n",
       "      <td>9.49706e-32</td>\n",
       "      <td>REJECT</td>\n",
       "    </tr>\n",
       "    <tr>\n",
       "      <th>08/25</th>\n",
       "      <td>1.06873e-41</td>\n",
       "      <td>REJECT</td>\n",
       "      <td>1.90697e-47</td>\n",
       "      <td>REJECT</td>\n",
       "      <td>1</td>\n",
       "      <td>ACCEPT</td>\n",
       "      <td>0.000112032</td>\n",
       "      <td>REJECT</td>\n",
       "      <td>1.1613e-116</td>\n",
       "      <td>REJECT</td>\n",
       "      <td>1.48386e-06</td>\n",
       "      <td>REJECT</td>\n",
       "      <td>1.95487e-05</td>\n",
       "      <td>REJECT</td>\n",
       "    </tr>\n",
       "    <tr>\n",
       "      <th>08/26</th>\n",
       "      <td>3.94142e-24</td>\n",
       "      <td>REJECT</td>\n",
       "      <td>8.87004e-84</td>\n",
       "      <td>REJECT</td>\n",
       "      <td>0.000112032</td>\n",
       "      <td>REJECT</td>\n",
       "      <td>1</td>\n",
       "      <td>ACCEPT</td>\n",
       "      <td>4.93186e-213</td>\n",
       "      <td>REJECT</td>\n",
       "      <td>5.64377e-22</td>\n",
       "      <td>REJECT</td>\n",
       "      <td>1.32005e-19</td>\n",
       "      <td>REJECT</td>\n",
       "    </tr>\n",
       "    <tr>\n",
       "      <th>08/28</th>\n",
       "      <td>0</td>\n",
       "      <td>REJECT</td>\n",
       "      <td>7.23035e-06</td>\n",
       "      <td>REJECT</td>\n",
       "      <td>1.1613e-116</td>\n",
       "      <td>REJECT</td>\n",
       "      <td>4.93186e-213</td>\n",
       "      <td>REJECT</td>\n",
       "      <td>1</td>\n",
       "      <td>ACCEPT</td>\n",
       "      <td>7.23804e-93</td>\n",
       "      <td>REJECT</td>\n",
       "      <td>9.44942e-101</td>\n",
       "      <td>REJECT</td>\n",
       "    </tr>\n",
       "    <tr>\n",
       "      <th>08/29</th>\n",
       "      <td>4.65795e-127</td>\n",
       "      <td>REJECT</td>\n",
       "      <td>8.01123e-29</td>\n",
       "      <td>REJECT</td>\n",
       "      <td>1.48386e-06</td>\n",
       "      <td>REJECT</td>\n",
       "      <td>5.64377e-22</td>\n",
       "      <td>REJECT</td>\n",
       "      <td>7.23804e-93</td>\n",
       "      <td>REJECT</td>\n",
       "      <td>1</td>\n",
       "      <td>ACCEPT</td>\n",
       "      <td>0.528234</td>\n",
       "      <td>ACCEPT</td>\n",
       "    </tr>\n",
       "    <tr>\n",
       "      <th>09/01</th>\n",
       "      <td>3.26224e-120</td>\n",
       "      <td>REJECT</td>\n",
       "      <td>9.49706e-32</td>\n",
       "      <td>REJECT</td>\n",
       "      <td>1.95487e-05</td>\n",
       "      <td>REJECT</td>\n",
       "      <td>1.32005e-19</td>\n",
       "      <td>REJECT</td>\n",
       "      <td>9.44942e-101</td>\n",
       "      <td>REJECT</td>\n",
       "      <td>0.528234</td>\n",
       "      <td>ACCEPT</td>\n",
       "      <td>1</td>\n",
       "      <td>ACCEPT</td>\n",
       "    </tr>\n",
       "  </tbody>\n",
       "</table>\n",
       "</div>"
      ],
      "text/plain": [
       "         pval-06/24 Outcome-06/24    pval-06/26 Outcome-06/26   pval-08/25  \\\n",
       "06/24             1        ACCEPT  2.57724e-235        REJECT  1.06873e-41   \n",
       "06/26  2.57724e-235        REJECT             1        ACCEPT  1.90697e-47   \n",
       "08/25   1.06873e-41        REJECT   1.90697e-47        REJECT            1   \n",
       "08/26   3.94142e-24        REJECT   8.87004e-84        REJECT  0.000112032   \n",
       "08/28             0        REJECT   7.23035e-06        REJECT  1.1613e-116   \n",
       "08/29  4.65795e-127        REJECT   8.01123e-29        REJECT  1.48386e-06   \n",
       "09/01  3.26224e-120        REJECT   9.49706e-32        REJECT  1.95487e-05   \n",
       "\n",
       "      Outcome-08/25    pval-08/26 Outcome-08/26    pval-08/28 Outcome-08/28  \\\n",
       "06/24        REJECT   3.94142e-24        REJECT             0        REJECT   \n",
       "06/26        REJECT   8.87004e-84        REJECT   7.23035e-06        REJECT   \n",
       "08/25        ACCEPT   0.000112032        REJECT   1.1613e-116        REJECT   \n",
       "08/26        REJECT             1        ACCEPT  4.93186e-213        REJECT   \n",
       "08/28        REJECT  4.93186e-213        REJECT             1        ACCEPT   \n",
       "08/29        REJECT   5.64377e-22        REJECT   7.23804e-93        REJECT   \n",
       "09/01        REJECT   1.32005e-19        REJECT  9.44942e-101        REJECT   \n",
       "\n",
       "         pval-08/29 Outcome-08/29    pval-09/01 Outcome-09/01  \n",
       "06/24  4.65795e-127        REJECT  3.26224e-120        REJECT  \n",
       "06/26   8.01123e-29        REJECT   9.49706e-32        REJECT  \n",
       "08/25   1.48386e-06        REJECT   1.95487e-05        REJECT  \n",
       "08/26   5.64377e-22        REJECT   1.32005e-19        REJECT  \n",
       "08/28   7.23804e-93        REJECT  9.44942e-101        REJECT  \n",
       "08/29             1        ACCEPT      0.528234        ACCEPT  \n",
       "09/01      0.528234        ACCEPT             1        ACCEPT  "
      ]
     },
     "execution_count": 157,
     "metadata": {},
     "output_type": "execute_result"
    }
   ],
   "source": [
    "trump_data = [(s_trump_0624, n_obs_0624), (s_trump_0626, n_obs_0626), (s_trump_0825, n_obs_0825), (s_trump_0826, n_obs_0826), \n",
    "           (s_trump_0828, n_obs_0828), (s_trump_0829, n_obs_0829), (s_trump_0901, n_obs_0901)]\n",
    "trump_df = run_prop_tests(trump_data)\n",
    "trump_df"
   ]
  },
  {
   "cell_type": "code",
   "execution_count": 158,
   "metadata": {
    "scrolled": true
   },
   "outputs": [
    {
     "data": {
      "text/html": [
       "<div>\n",
       "<style scoped>\n",
       "    .dataframe tbody tr th:only-of-type {\n",
       "        vertical-align: middle;\n",
       "    }\n",
       "\n",
       "    .dataframe tbody tr th {\n",
       "        vertical-align: top;\n",
       "    }\n",
       "\n",
       "    .dataframe thead th {\n",
       "        text-align: right;\n",
       "    }\n",
       "</style>\n",
       "<table border=\"1\" class=\"dataframe\">\n",
       "  <thead>\n",
       "    <tr style=\"text-align: right;\">\n",
       "      <th></th>\n",
       "      <th>pval-06/24</th>\n",
       "      <th>Outcome-06/24</th>\n",
       "      <th>pval-06/26</th>\n",
       "      <th>Outcome-06/26</th>\n",
       "      <th>pval-08/25</th>\n",
       "      <th>Outcome-08/25</th>\n",
       "      <th>pval-08/26</th>\n",
       "      <th>Outcome-08/26</th>\n",
       "      <th>pval-08/28</th>\n",
       "      <th>Outcome-08/28</th>\n",
       "      <th>pval-08/29</th>\n",
       "      <th>Outcome-08/29</th>\n",
       "      <th>pval-09/01</th>\n",
       "      <th>Outcome-09/01</th>\n",
       "    </tr>\n",
       "  </thead>\n",
       "  <tbody>\n",
       "    <tr>\n",
       "      <th>06/24</th>\n",
       "      <td>1</td>\n",
       "      <td>ACCEPT</td>\n",
       "      <td>5.80312e-56</td>\n",
       "      <td>REJECT</td>\n",
       "      <td>1.88707e-43</td>\n",
       "      <td>REJECT</td>\n",
       "      <td>2.93561e-05</td>\n",
       "      <td>REJECT</td>\n",
       "      <td>0</td>\n",
       "      <td>REJECT</td>\n",
       "      <td>2.67298e-56</td>\n",
       "      <td>REJECT</td>\n",
       "      <td>0</td>\n",
       "      <td>REJECT</td>\n",
       "    </tr>\n",
       "    <tr>\n",
       "      <th>06/26</th>\n",
       "      <td>5.80312e-56</td>\n",
       "      <td>REJECT</td>\n",
       "      <td>1</td>\n",
       "      <td>ACCEPT</td>\n",
       "      <td>1.56697e-100</td>\n",
       "      <td>REJECT</td>\n",
       "      <td>7.73989e-51</td>\n",
       "      <td>REJECT</td>\n",
       "      <td>5.79255e-122</td>\n",
       "      <td>REJECT</td>\n",
       "      <td>0.00515363</td>\n",
       "      <td>REJECT</td>\n",
       "      <td>9.14949e-37</td>\n",
       "      <td>REJECT</td>\n",
       "    </tr>\n",
       "    <tr>\n",
       "      <th>08/25</th>\n",
       "      <td>1.88707e-43</td>\n",
       "      <td>REJECT</td>\n",
       "      <td>1.56697e-100</td>\n",
       "      <td>REJECT</td>\n",
       "      <td>1</td>\n",
       "      <td>ACCEPT</td>\n",
       "      <td>1.54382e-17</td>\n",
       "      <td>REJECT</td>\n",
       "      <td>0</td>\n",
       "      <td>REJECT</td>\n",
       "      <td>6.32755e-97</td>\n",
       "      <td>REJECT</td>\n",
       "      <td>1.37362e-291</td>\n",
       "      <td>REJECT</td>\n",
       "    </tr>\n",
       "    <tr>\n",
       "      <th>08/26</th>\n",
       "      <td>2.93561e-05</td>\n",
       "      <td>REJECT</td>\n",
       "      <td>7.73989e-51</td>\n",
       "      <td>REJECT</td>\n",
       "      <td>1.54382e-17</td>\n",
       "      <td>REJECT</td>\n",
       "      <td>1</td>\n",
       "      <td>ACCEPT</td>\n",
       "      <td>0</td>\n",
       "      <td>REJECT</td>\n",
       "      <td>4.79616e-45</td>\n",
       "      <td>REJECT</td>\n",
       "      <td>6.92287e-229</td>\n",
       "      <td>REJECT</td>\n",
       "    </tr>\n",
       "    <tr>\n",
       "      <th>08/28</th>\n",
       "      <td>0</td>\n",
       "      <td>REJECT</td>\n",
       "      <td>5.79255e-122</td>\n",
       "      <td>REJECT</td>\n",
       "      <td>0</td>\n",
       "      <td>REJECT</td>\n",
       "      <td>0</td>\n",
       "      <td>REJECT</td>\n",
       "      <td>1</td>\n",
       "      <td>ACCEPT</td>\n",
       "      <td>2.61367e-238</td>\n",
       "      <td>REJECT</td>\n",
       "      <td>8.03327e-38</td>\n",
       "      <td>REJECT</td>\n",
       "    </tr>\n",
       "    <tr>\n",
       "      <th>08/29</th>\n",
       "      <td>2.67298e-56</td>\n",
       "      <td>REJECT</td>\n",
       "      <td>0.00515363</td>\n",
       "      <td>REJECT</td>\n",
       "      <td>6.32755e-97</td>\n",
       "      <td>REJECT</td>\n",
       "      <td>4.79616e-45</td>\n",
       "      <td>REJECT</td>\n",
       "      <td>2.61367e-238</td>\n",
       "      <td>REJECT</td>\n",
       "      <td>1</td>\n",
       "      <td>ACCEPT</td>\n",
       "      <td>6.33426e-76</td>\n",
       "      <td>REJECT</td>\n",
       "    </tr>\n",
       "    <tr>\n",
       "      <th>09/01</th>\n",
       "      <td>0</td>\n",
       "      <td>REJECT</td>\n",
       "      <td>9.14949e-37</td>\n",
       "      <td>REJECT</td>\n",
       "      <td>1.37362e-291</td>\n",
       "      <td>REJECT</td>\n",
       "      <td>6.92287e-229</td>\n",
       "      <td>REJECT</td>\n",
       "      <td>8.03327e-38</td>\n",
       "      <td>REJECT</td>\n",
       "      <td>6.33426e-76</td>\n",
       "      <td>REJECT</td>\n",
       "      <td>1</td>\n",
       "      <td>ACCEPT</td>\n",
       "    </tr>\n",
       "  </tbody>\n",
       "</table>\n",
       "</div>"
      ],
      "text/plain": [
       "        pval-06/24 Outcome-06/24    pval-06/26 Outcome-06/26    pval-08/25  \\\n",
       "06/24            1        ACCEPT   5.80312e-56        REJECT   1.88707e-43   \n",
       "06/26  5.80312e-56        REJECT             1        ACCEPT  1.56697e-100   \n",
       "08/25  1.88707e-43        REJECT  1.56697e-100        REJECT             1   \n",
       "08/26  2.93561e-05        REJECT   7.73989e-51        REJECT   1.54382e-17   \n",
       "08/28            0        REJECT  5.79255e-122        REJECT             0   \n",
       "08/29  2.67298e-56        REJECT    0.00515363        REJECT   6.32755e-97   \n",
       "09/01            0        REJECT   9.14949e-37        REJECT  1.37362e-291   \n",
       "\n",
       "      Outcome-08/25    pval-08/26 Outcome-08/26    pval-08/28 Outcome-08/28  \\\n",
       "06/24        REJECT   2.93561e-05        REJECT             0        REJECT   \n",
       "06/26        REJECT   7.73989e-51        REJECT  5.79255e-122        REJECT   \n",
       "08/25        ACCEPT   1.54382e-17        REJECT             0        REJECT   \n",
       "08/26        REJECT             1        ACCEPT             0        REJECT   \n",
       "08/28        REJECT             0        REJECT             1        ACCEPT   \n",
       "08/29        REJECT   4.79616e-45        REJECT  2.61367e-238        REJECT   \n",
       "09/01        REJECT  6.92287e-229        REJECT   8.03327e-38        REJECT   \n",
       "\n",
       "         pval-08/29 Outcome-08/29    pval-09/01 Outcome-09/01  \n",
       "06/24   2.67298e-56        REJECT             0        REJECT  \n",
       "06/26    0.00515363        REJECT   9.14949e-37        REJECT  \n",
       "08/25   6.32755e-97        REJECT  1.37362e-291        REJECT  \n",
       "08/26   4.79616e-45        REJECT  6.92287e-229        REJECT  \n",
       "08/28  2.61367e-238        REJECT   8.03327e-38        REJECT  \n",
       "08/29             1        ACCEPT   6.33426e-76        REJECT  \n",
       "09/01   6.33426e-76        REJECT             1        ACCEPT  "
      ]
     },
     "execution_count": 158,
     "metadata": {},
     "output_type": "execute_result"
    }
   ],
   "source": [
    "biden_data = [(s_biden_0624, n_obs_0624), (s_biden_0626, n_obs_0626), (s_biden_0825, n_obs_0825), (s_biden_0826, n_obs_0826), \n",
    "           (s_biden_0828, n_obs_0828), (s_biden_0829, n_obs_0829), (s_biden_0901, n_obs_0901)]\n",
    "biden_df = run_prop_tests(biden_data)\n",
    "biden_df"
   ]
  },
  {
   "cell_type": "code",
   "execution_count": 188,
   "metadata": {},
   "outputs": [
    {
     "name": "stdout",
     "output_type": "stream",
     "text": [
      "[[0.64333212 0.22170438 0.24965693 0.10701095]\n",
      " [0.62271786 0.23751786 0.23007857 0.14720357]]\n"
     ]
    },
    {
     "data": {
      "text/plain": [
       "(2194.4021378512034,\n",
       " 0.0,\n",
       " 3,\n",
       " array([[172291.13396805,  62527.8534874 ,  65267.73428335,\n",
       "          34660.2782612 ],\n",
       "        [178342.86603195,  64724.1465126 ,  67560.26571665,\n",
       "          35877.7217388 ]]))"
      ]
     },
     "execution_count": 188,
     "metadata": {},
     "output_type": "execute_result"
    }
   ],
   "source": [
    "from scipy.stats import chi2_contingency\n",
    "# [# retweets, # quotes, # tweets mentioning trump, # tweets mentioning biden]\n",
    "obs = np.array([[s_rt_0829, s_rep_0829, s_qt_0829, n_obs_0829 - s_rt_0829 - s_qt_0829], \n",
    "                [s_rt_0901, s_rep_0901, s_qt_0901, n_obs_0901 - s_rt_0901 - s_qt_0901]])\n",
    "print(obs / np.array([[n_obs_0829], [n_obs_0901]]))\n",
    "chi2_contingency(obs)"
   ]
  },
  {
   "cell_type": "code",
   "execution_count": 196,
   "metadata": {},
   "outputs": [
    {
     "name": "stdout",
     "output_type": "stream",
     "text": [
      "[[0.15068831 0.84931169]\n",
      " [0.13769286 0.86230714]]\n"
     ]
    },
    {
     "data": {
      "text/plain": [
       "(137.36771658255827,\n",
       " 1.0020077851595931e-31,\n",
       " 1,\n",
       " array([[ 21914.83870968, 132085.16129032],\n",
       "        [ 39845.16129032, 240154.83870968]]))"
      ]
     },
     "execution_count": 196,
     "metadata": {},
     "output_type": "execute_result"
    }
   ],
   "source": [
    "# Chi-squared test for tweets that mention trump\n",
    "obs = np.array([[s_trump_0626, n_obs_0626 - s_trump_0626], \n",
    "                [s_trump_0901, n_obs_0901 - s_trump_0901]])\n",
    "print(obs / np.array([[n_obs_0626], [n_obs_0901]]))\n",
    "chi2_contingency(obs)"
   ]
  },
  {
   "cell_type": "markdown",
   "metadata": {},
   "source": [
    "It makes sense that the distributions of retweets/replies/quotes and mentions of trump/biden is different in each dataset because these are fluctuating methods of engagement with what's happening in the world. Each day can't be compared to another day because the day affects what happens on Twitter.\n",
    "\n",
    "What metric shouldn't change? Avg. words per tweet? Avg. stopwords?"
   ]
  },
  {
   "cell_type": "markdown",
   "metadata": {},
   "source": [
    "If we take a sample from the larger sample of size = thin sample size, the chi-squared test passes for freq of retweets vs. quotes vs. other tweet types. This means that we don't reject the null."
   ]
  },
  {
   "cell_type": "code",
   "execution_count": 199,
   "metadata": {},
   "outputs": [],
   "source": [
    "smaller_samp = np.random.choice(tweets_0624, len(tweets_0626), replace=False)"
   ]
  },
  {
   "cell_type": "code",
   "execution_count": 201,
   "metadata": {},
   "outputs": [],
   "source": [
    "n_obs_sm, s_rt_sm, s_rep_sm, s_qt_sm, s_trump_sm, s_biden_sm = get_sample_proportions(smaller_samp)"
   ]
  },
  {
   "cell_type": "code",
   "execution_count": 204,
   "metadata": {},
   "outputs": [
    {
     "name": "stdout",
     "output_type": "stream",
     "text": [
      "[[0.62172253 0.25005084 0.12822663]\n",
      " [0.62246753 0.25031818 0.12721429]]\n"
     ]
    },
    {
     "data": {
      "text/plain": [
       "(1.3685741385456691,\n",
       " 0.5044497391262288,\n",
       " 2,\n",
       " array([[2974707.15284311, 1196393.88650006,  613341.96065683],\n",
       "        [  95748.84715689,   38509.11349994,   19742.03934317]]))"
      ]
     },
     "execution_count": 204,
     "metadata": {},
     "output_type": "execute_result"
    }
   ],
   "source": [
    "obs = np.array([[s_rt_0624, s_qt_0624, n_obs_0624 - s_rt_0624 - s_qt_0624], \n",
    "                [s_rt_sm, s_qt_sm, n_obs_sm - s_rt_sm - s_qt_sm]])\n",
    "print(obs / np.array([[n_obs_0624], [n_obs_sm]]))\n",
    "chi2_contingency(obs)"
   ]
  },
  {
   "cell_type": "code",
   "execution_count": 636,
   "metadata": {},
   "outputs": [
    {
     "name": "stdout",
     "output_type": "stream",
     "text": [
      "[[0.62172253 0.25005084 0.12822663]\n",
      " [0.62271786 0.23007857 0.14720357]]\n"
     ]
    },
    {
     "data": {
      "text/plain": [
       "(1161.1392033985233,\n",
       " 7.274876436442687e-253,\n",
       " 2,\n",
       " array([[2974859.2838247 , 1191070.94457732,  618512.77159798],\n",
       "        [ 174097.7161753 ,   69705.05542268,   36197.22840202]]))"
      ]
     },
     "execution_count": 636,
     "metadata": {},
     "output_type": "execute_result"
    }
   ],
   "source": [
    "obs = np.array([[s_rt_0624, s_qt_0624, n_obs_0624 - s_rt_0624 - s_qt_0624], \n",
    "                [s_rt_0901, s_qt_0901, n_obs_0901 - s_rt_0901 - s_qt_0901]])\n",
    "print(obs / np.array([[n_obs_0624], [n_obs_0901]]))\n",
    "chi2_contingency(obs)"
   ]
  },
  {
   "cell_type": "code",
   "execution_count": 222,
   "metadata": {},
   "outputs": [],
   "source": [
    "def get_stopword_trackers(obj_lst):\n",
    "    n_obs = 0\n",
    "    \n",
    "    # number of stopwords per tweet\n",
    "    stopwords_tracker = []\n",
    "    # avg proportion of stopwords per tweet\n",
    "    stopwords_prop_tracker = []\n",
    "    wordcount_tracker = []\n",
    "    for thin_obj in obj_lst:\n",
    "        n_obs += 1\n",
    "        if thin_obj.is_retweet: \n",
    "            # Reassign the thin_obj so that we look at the retweet's text\n",
    "            thin_obj = thin_obj.retweet\n",
    "            \n",
    "        word_tokens = word_tokenize(thin_obj.text)\n",
    "        stopword_count = 0\n",
    "        for w in word_tokens:\n",
    "            w = w.lower()\n",
    "            if w in stop_words: \n",
    "                stopword_count += 1\n",
    "        stopwords_tracker.append(stopword_count)\n",
    "        num_words = len(word_tokens)\n",
    "        \n",
    "        stopwords_prop_tracker.append(stopword_count / num_words if num_words else 0)\n",
    "        wordcount_tracker.append(num_words)\n",
    "            \n",
    "    return n_obs, stopwords_tracker, stopwords_prop_tracker, wordcount_tracker"
   ]
  },
  {
   "cell_type": "code",
   "execution_count": 223,
   "metadata": {},
   "outputs": [],
   "source": [
    "# w_n_obs_0624, s_jw_0624, s_st_0624, s_ast_0624, s_apst_0624 = get_word_proportions(tweets_0624)\n",
    "w_n_obs_0626, stw_0626, stw_prop_0626, wc_0626 = get_stopword_trackers(tweets_0626)\n",
    "# n_obs_0825, s_rt_0825, s_rep_0825, s_qt_0825, s_trump_0825, s_biden_0825 = get_sample_proportions(tweets_0825)\n",
    "# n_obs_0826, s_rt_0826, s_rep_0826, s_qt_0826, s_trump_0826, s_biden_0826 = get_sample_proportions(tweets_0826)\n",
    "w_n_obs_0828, stw_0828, stw_prop_0828, wc_0828 = get_stopword_trackers(tweets_0828)\n",
    "# n_obs_0829, s_rt_0829, s_rep_0829, s_qt_0829, s_trump_0829, s_biden_0829 = get_sample_proportions(tweets_0829)\n",
    "w_n_obs_0901, stw_0901, stw_prop_0901, wc_0901 = get_stopword_trackers(tweets_0901)"
   ]
  },
  {
   "cell_type": "code",
   "execution_count": 254,
   "metadata": {},
   "outputs": [
    {
     "data": {
      "image/png": "[encoded data removed]",
      "text/plain": [
       "<Figure size 864x504 with 1 Axes>"
      ]
     },
     "metadata": {
      "needs_background": "light"
     },
     "output_type": "display_data"
    }
   ],
   "source": [
    "plt.figure(figsize=(12, 7))\n",
    "plt.hist(stw_prop_0626, bins=30, density=True, label='0626', histtype='step')\n",
    "plt.hist(stw_prop_0828, bins=30, density=True, label='0828', histtype='step')\n",
    "plt.hist(stw_prop_0901, bins=30, density=True, label='0901', histtype='step')\n",
    "plt.legend(loc='best')\n",
    "plt.show()"
   ]
  },
  {
   "cell_type": "code",
   "execution_count": 259,
   "metadata": {},
   "outputs": [
    {
     "data": {
      "text/plain": [
       "<matplotlib.collections.PathCollection at 0x7fe58133d8d0>"
      ]
     },
     "execution_count": 259,
     "metadata": {},
     "output_type": "execute_result"
    },
    {
     "data": {
      "image/png": "[encoded data removed]",
      "text/plain": [
       "<Figure size 864x504 with 1 Axes>"
      ]
     },
     "metadata": {
      "needs_background": "light"
     },
     "output_type": "display_data"
    }
   ],
   "source": [
    "plt.figure(figsize=(12, 7))\n",
    "plt.scatter(wc_0626, stw_0626, alpha=0.5)\n",
    "plt.scatter(wc_0901, stw_0901, alpha=0.5)"
   ]
  },
  {
   "cell_type": "code",
   "execution_count": 419,
   "metadata": {},
   "outputs": [
    {
     "data": {
      "image/png": "[encoded data removed]",
      "text/plain": [
       "<Figure size 864x504 with 1 Axes>"
      ]
     },
     "metadata": {
      "needs_background": "light"
     },
     "output_type": "display_data"
    },
    {
     "name": "stdout",
     "output_type": "stream",
     "text": [
      "(0.9981235841748215, 0.0)\n",
      "(0.9980955083598901, 0.0)\n"
     ]
    }
   ],
   "source": [
    "# QQ-plot if they come from the same distribution, the QQ-plot should form a straight line\n",
    "# Wordcount\n",
    "plt.figure(figsize=(12, 7))\n",
    "sorted_wc_0626 = sorted(wc_0626)\n",
    "sorted_wc_0626_larger = sorted(np.random.choice(wc_0626, w_n_obs_0901))\n",
    "sorted_wc_0901 = sorted(wc_0901)\n",
    "sorted_wc_0901_smaller = sorted(np.random.choice(wc_0901, w_n_obs_0626, replace=False))\n",
    "plt.scatter(sorted_wc_0626, sorted_wc_0901_smaller, alpha=0.2)\n",
    "plt.scatter(sorted_wc_0626_larger, sorted_wc_0901, alpha=0.2)\n",
    "plt.show()\n",
    "\n",
    "print(pearsonr(sorted_wc_0626, sorted_wc_0901_smaller))\n",
    "print(pearsonr(sorted_wc_0626_larger, sorted_wc_0901))\n",
    "\n",
    "# Calculate the quantile levels of the smaller dataset\n",
    "quantile_levels1 = np.arange(w_n_obs_0626,dtype=float) / w_n_obs_0626\n",
    "# Find the quantiles of the larger dataset by linear interpolation\n",
    "quantiles1 = np.interp(quantile_levels,quantile_levels1,test1)\n",
    "# Plot the quantiles\n",
    "pylab.plot(quantiles1,quantiles2)"
   ]
  },
  {
   "cell_type": "code",
   "execution_count": 440,
   "metadata": {},
   "outputs": [],
   "source": [
    "# Source: https://stackoverflow.com/questions/42658252/how-to-create-a-qq-plot-between-two-samples-of-different-size-in-python\n",
    "\n",
    "def qqplot(data1, data2, data_sorted_flag=False):\n",
    "    plt.figure(figsize=(12, 7))\n",
    "    \n",
    "    if not data_sorted_flag:\n",
    "        data1 = sorted(data1)\n",
    "        data2 = sorted(data2)\n",
    "    \n",
    "    sorted_len_data_pairs = sorted([(len(data1), data1), (len(data2), data2)])\n",
    "    # Calculate the quantile levels\n",
    "    quantile_levels_smaller = np.arange(sorted_len_data_pairs[0][0],dtype=float) / sorted_len_data_pairs[0][0]\n",
    "    quantile_levels_larger = np.arange(sorted_len_data_pairs[1][0],dtype=float) / sorted_len_data_pairs[1][0]\n",
    "    \n",
    "    # Find the quantiles of the larger dataset by linear interpolation\n",
    "    quantiles_larger = np.interp(quantile_levels_smaller, quantile_levels_larger, sorted_len_data_pairs[1][1])\n",
    "    \n",
    "    # Plot the quantiles\n",
    "    plt.scatter(quantiles_larger, sorted_len_data_pairs[0][1])\n",
    "    \n",
    "    # Add a reference line\n",
    "    max_val = max(data1[-1], data2[-1])\n",
    "    min_val = min(data1[0], data2[0])\n",
    "    plt.plot([min_val, max_val], [min_val, max_val], 'k-', color='red')\n",
    "    \n",
    "    plt.show()\n",
    "    \n",
    "    print(\"Pearson correlation coeff: \", pearsonr(quantiles_larger, sorted_len_data_pairs[0][1])[0])"
   ]
  },
  {
   "cell_type": "code",
   "execution_count": 441,
   "metadata": {},
   "outputs": [
    {
     "data": {
      "image/png": "[encoded data removed]",
      "text/plain": [
       "<Figure size 864x504 with 1 Axes>"
      ]
     },
     "metadata": {
      "needs_background": "light"
     },
     "output_type": "display_data"
    },
    {
     "name": "stdout",
     "output_type": "stream",
     "text": [
      "Pearson correlation coeff:  0.99802499398014\n"
     ]
    },
    {
     "data": {
      "image/png": "[encoded data removed]",
      "text/plain": [
       "<Figure size 864x504 with 1 Axes>"
      ]
     },
     "metadata": {
      "needs_background": "light"
     },
     "output_type": "display_data"
    },
    {
     "name": "stdout",
     "output_type": "stream",
     "text": [
      "Pearson correlation coeff:  0.9973019342070147\n"
     ]
    },
    {
     "data": {
      "image/png": "[encoded data removed]",
      "text/plain": [
       "<Figure size 864x504 with 1 Axes>"
      ]
     },
     "metadata": {
      "needs_background": "light"
     },
     "output_type": "display_data"
    },
    {
     "name": "stdout",
     "output_type": "stream",
     "text": [
      "Pearson correlation coeff:  0.9982033576733494\n"
     ]
    }
   ],
   "source": [
    "qqplot(sorted_wc_0901, sorted_wc_0626, data_sorted_flag=True)\n",
    "sorted_wc_0828 = sorted(wc_0828)\n",
    "qqplot(sorted_wc_0626, sorted_wc_0828, data_sorted_flag=True)\n",
    "qqplot(sorted_wc_0901, sorted_wc_0828, data_sorted_flag=True)"
   ]
  },
  {
   "cell_type": "code",
   "execution_count": 655,
   "metadata": {},
   "outputs": [
    {
     "data": {
      "image/png": "[encoded data removed]",
      "text/plain": [
       "<Figure size 864x504 with 1 Axes>"
      ]
     },
     "metadata": {
      "needs_background": "light"
     },
     "output_type": "display_data"
    },
    {
     "name": "stdout",
     "output_type": "stream",
     "text": [
      "Pearson correlation coeff:  0.9456648228533167\n"
     ]
    }
   ],
   "source": [
    "qqplot(stw_prop_0626, stw_prop_0901)"
   ]
  },
  {
   "cell_type": "code",
   "execution_count": 442,
   "metadata": {},
   "outputs": [
    {
     "data": {
      "image/png": "[encoded data removed]",
      "text/plain": [
       "<Figure size 864x504 with 1 Axes>"
      ]
     },
     "metadata": {
      "needs_background": "light"
     },
     "output_type": "display_data"
    },
    {
     "name": "stdout",
     "output_type": "stream",
     "text": [
      "Pearson correlation coeff:  0.996741723637251\n"
     ]
    },
    {
     "data": {
      "image/png": "[encoded data removed]",
      "text/plain": [
       "<Figure size 864x504 with 1 Axes>"
      ]
     },
     "metadata": {
      "needs_background": "light"
     },
     "output_type": "display_data"
    },
    {
     "name": "stdout",
     "output_type": "stream",
     "text": [
      "Pearson correlation coeff:  0.9951083767814037\n"
     ]
    },
    {
     "data": {
      "image/png": "[encoded data removed]",
      "text/plain": [
       "<Figure size 864x504 with 1 Axes>"
      ]
     },
     "metadata": {
      "needs_background": "light"
     },
     "output_type": "display_data"
    },
    {
     "name": "stdout",
     "output_type": "stream",
     "text": [
      "Pearson correlation coeff:  0.9966619867998279\n"
     ]
    }
   ],
   "source": [
    "qqplot(stw_0626, stw_0828)\n",
    "qqplot(stw_0626, stw_0901)\n",
    "qqplot(stw_0828, stw_0901)"
   ]
  },
  {
   "cell_type": "code",
   "execution_count": 420,
   "metadata": {},
   "outputs": [
    {
     "data": {
      "image/png": "[encoded data removed]",
      "text/plain": [
       "<Figure size 864x504 with 1 Axes>"
      ]
     },
     "metadata": {
      "needs_background": "light"
     },
     "output_type": "display_data"
    },
    {
     "name": "stdout",
     "output_type": "stream",
     "text": [
      "(0.9951397197642733, 0.0)\n",
      "(0.995008925493112, 0.0)\n"
     ]
    }
   ],
   "source": [
    "# QQ-plot if they come from the same distribution, the QQ-plot should form a straight line\n",
    "# Stopwords\n",
    "plt.figure(figsize=(12, 7))\n",
    "sorted_stw_0626 = sorted(stw_0626)\n",
    "sorted_stw_0626_larger = sorted(np.random.choice(stw_0626, w_n_obs_0901))\n",
    "sorted_stw_0901 = sorted(stw_0901)\n",
    "sorted_stw_0901_smaller = sorted(np.random.choice(stw_0901, w_n_obs_0626, replace=False))\n",
    "plt.scatter(sorted_stw_0626, sorted_stw_0901_smaller, alpha=0.2)\n",
    "plt.scatter(sorted_stw_0626_larger, sorted_stw_0901, alpha=0.2)\n",
    "plt.show()\n",
    "\n",
    "print(pearsonr(sorted_stw_0626, sorted_stw_0901_smaller))\n",
    "print(pearsonr(sorted_stw_0626_larger, sorted_stw_0901))"
   ]
  },
  {
   "cell_type": "code",
   "execution_count": 652,
   "metadata": {},
   "outputs": [
    {
     "data": {
      "text/plain": [
       "<AxesSubplot:title={'center':'Boxplot of stopword proportion per tweet (micro vs. small vs. small)'}>"
      ]
     },
     "execution_count": 652,
     "metadata": {},
     "output_type": "execute_result"
    },
    {
     "data": {
      "image/png": "[encoded data removed]",
      "text/plain": [
       "<Figure size 864x504 with 1 Axes>"
      ]
     },
     "metadata": {
      "needs_background": "light"
     },
     "output_type": "display_data"
    }
   ],
   "source": [
    "plt.figure(figsize=(12, 7))\n",
    "plt.title(\"Boxplot of stopword proportion per tweet (micro vs. small vs. small)\", fontsize = 20)\n",
    "import seaborn as sns\n",
    "sns.boxplot(\n",
    "    data=[stw_prop_0626, stw_prop_0828, stw_prop_0901],\n",
    "    showmeans=True,\n",
    ")"
   ]
  },
  {
   "cell_type": "code",
   "execution_count": 650,
   "metadata": {},
   "outputs": [
    {
     "data": {
      "text/plain": [
       "<AxesSubplot:title={'center':'hi'}>"
      ]
     },
     "execution_count": 650,
     "metadata": {},
     "output_type": "execute_result"
    },
    {
     "data": {
      "image/png": "[encoded data removed]",
      "text/plain": [
       "<Figure size 864x504 with 1 Axes>"
      ]
     },
     "metadata": {
      "needs_background": "light"
     },
     "output_type": "display_data"
    }
   ],
   "source": [
    "plt.figure(figsize=(12, 7))\n",
    "plt.title(\"hi\", fontsize = 20)\n",
    "sns.boxplot(\n",
    "    data=[stw_0626, stw_0828, stw_0901],\n",
    "    showmeans=True,\n",
    ")"
   ]
  },
  {
   "cell_type": "code",
   "execution_count": 651,
   "metadata": {},
   "outputs": [
    {
     "data": {
      "text/plain": [
       "<AxesSubplot:title={'center':'Boxplot of tweet wordcount (micro vs. small vs. small)'}>"
      ]
     },
     "execution_count": 651,
     "metadata": {},
     "output_type": "execute_result"
    },
    {
     "data": {
      "image/png": "[encoded data removed]",
      "text/plain": [
       "<Figure size 864x504 with 1 Axes>"
      ]
     },
     "metadata": {
      "needs_background": "light"
     },
     "output_type": "display_data"
    }
   ],
   "source": [
    "plt.figure(figsize=(12, 7))\n",
    "plt.title(\"Boxplot of tweet wordcount (micro vs. small vs. small)\", fontsize = 20)\n",
    "sns.boxplot(\n",
    "    data=[wc_0626, wc_0828, wc_0901],\n",
    "    showmeans=True,\n",
    ")"
   ]
  },
  {
   "cell_type": "code",
   "execution_count": 283,
   "metadata": {},
   "outputs": [
    {
     "data": {
      "text/plain": [
       "(0.9999999999999998, 1.3415758552508151e-08)"
      ]
     },
     "execution_count": 283,
     "metadata": {},
     "output_type": "execute_result"
    }
   ],
   "source": [
    "from scipy.stats import pearsonr\n",
    "pearsonr([1, 2, 3], [1, 2, 3])"
   ]
  },
  {
   "cell_type": "code",
   "execution_count": 307,
   "metadata": {},
   "outputs": [],
   "source": [
    "# Bootstrap\n",
    "wc_mean_tracker_0626 = []\n",
    "wc_mean_tracker_0901 = []\n",
    "for i in range(50):\n",
    "    # 10% resample\n",
    "    samp_size = int(w_n_obs_0626 * 0.1)\n",
    "    wc_mean = np.random.choice(wc_0626, samp_size, replace=True).mean()\n",
    "    # calc the statistic (average wc)\n",
    "    wc_mean_tracker_0626.append(wc_mean)\n",
    "    \n",
    "    samp_size = int(w_n_obs_0901 * 0.1)\n",
    "    wc_mean = np.random.choice(wc_0901, samp_size, replace=True).mean()\n",
    "    # calc the statistic (average wc)\n",
    "    wc_mean_tracker_0901.append(wc_mean)"
   ]
  },
  {
   "cell_type": "code",
   "execution_count": 377,
   "metadata": {},
   "outputs": [
    {
     "data": {
      "text/plain": [
       "-0.004616132792147343"
      ]
     },
     "execution_count": 377,
     "metadata": {},
     "output_type": "execute_result"
    }
   ],
   "source": [
    "tweets_0624, tweets_0626, tweets_0825, tweets_0826, tweets_0828, tweets_0829, tweets_0901"
   ]
  },
  {
   "cell_type": "code",
   "execution_count": 382,
   "metadata": {},
   "outputs": [],
   "source": [
    "# Each day is a population. We want to bootstrap the different size of samples and see if there is a positive \n",
    "# correlation between the large and smaller samples\n",
    "large_samp_size = n_obs_0624\n",
    "small_samp_size = int(np.mean([n_obs_0626, n_obs_0825]))\n",
    "medium_samp_size = int(np.mean([n_obs_0826, n_obs_0828, n_obs_0829, n_obs_0901]))"
   ]
  },
  {
   "cell_type": "code",
   "execution_count": 396,
   "metadata": {},
   "outputs": [],
   "source": [
    "coefs = []\n",
    "for j in range(100):\n",
    "    data_large = []\n",
    "    data_med = []\n",
    "    for day_data in [stw_0626, stw_0828, stw_0901]:\n",
    "        for i in range(10):\n",
    "            data_large.append(np.random.choice(day_data, large_samp_size, replace=True).mean())\n",
    "            data_med.append(np.random.choice(day_data, medium_samp_size, replace=True).mean())\n",
    "        \n",
    "    coefs.append(pearsonr(data_large, data_med)[0])\n",
    "\n",
    "# Test for correlation via bootstrapping different sample size on different days"
   ]
  },
  {
   "cell_type": "code",
   "execution_count": 397,
   "metadata": {},
   "outputs": [
    {
     "data": {
      "text/plain": [
       "0.9971425535876299"
      ]
     },
     "execution_count": 397,
     "metadata": {},
     "output_type": "execute_result"
    }
   ],
   "source": [
    "np.mean(coefs)"
   ]
  },
  {
   "cell_type": "code",
   "execution_count": 348,
   "metadata": {},
   "outputs": [
    {
     "data": {
      "text/plain": [
       "(14.318975112552573, 1.6975383589138847e-46)"
      ]
     },
     "execution_count": 348,
     "metadata": {},
     "output_type": "execute_result"
    }
   ],
   "source": [
    "from scipy.stats import ttest_ind\n",
    "# num stopwords\n",
    "# num words\n",
    "# prop of tweet that is stopwords\n",
    "tstat, pval = ttest_ind(stw_prop_0828, stw_prop_0901, equal_var=False)\n",
    "tstat, pval"
   ]
  },
  {
   "cell_type": "code",
   "execution_count": 213,
   "metadata": {},
   "outputs": [
    {
     "data": {
      "text/plain": [
       "(154000,\n",
       " 0.04431818181818182,\n",
       " 0.8621038961038962,\n",
       " 5.6927792207792205,\n",
       " 0.254016796382131)"
      ]
     },
     "execution_count": 213,
     "metadata": {},
     "output_type": "execute_result"
    }
   ],
   "source": [
    "w_n_obs_0626, s_jw_0626 / w_n_obs_0626, s_st_0626 / w_n_obs_0626, s_ast_0626, s_apst_0626"
   ]
  },
  {
   "cell_type": "code",
   "execution_count": 214,
   "metadata": {},
   "outputs": [
    {
     "data": {
      "text/plain": [
       "(542000,\n",
       " 0.037800738007380076,\n",
       " 0.860350553505535,\n",
       " 5.579723247232472,\n",
       " 0.2529527680847816)"
      ]
     },
     "execution_count": 214,
     "metadata": {},
     "output_type": "execute_result"
    }
   ],
   "source": [
    "w_n_obs_0828, s_jw_0828 / w_n_obs_0828, s_st_0828 / w_n_obs_0828, s_ast_0828, s_apst_0828"
   ]
  },
  {
   "cell_type": "code",
   "execution_count": 215,
   "metadata": {},
   "outputs": [
    {
     "data": {
      "text/plain": [
       "(280000,\n",
       " 0.04418214285714286,\n",
       " 0.8531321428571429,\n",
       " 5.4724571428571425,\n",
       " 0.2478962052354377)"
      ]
     },
     "execution_count": 215,
     "metadata": {},
     "output_type": "execute_result"
    }
   ],
   "source": [
    "w_n_obs_0901, s_jw_0901 / w_n_obs_0901, s_st_0901 / w_n_obs_0901, s_ast_0901, s_apst_0901"
   ]
  },
  {
   "cell_type": "code",
   "execution_count": 401,
   "metadata": {},
   "outputs": [
    {
     "name": "stdout",
     "output_type": "stream",
     "text": [
      "[[0.8621039  0.1378961 ]\n",
      " [0.86035055 0.13964945]\n",
      " [0.85313214 0.14686786]]\n"
     ]
    },
    {
     "data": {
      "text/plain": [
       "(98.16632344652186,\n",
       " 4.824515535541128e-22,\n",
       " 2,\n",
       " array([[132217.67827869,  21782.32172131],\n",
       "        [465337.54303279,  76662.45696721],\n",
       "        [240395.77868852,  39604.22131148]]))"
      ]
     },
     "execution_count": 401,
     "metadata": {},
     "output_type": "execute_result"
    }
   ],
   "source": [
    "obs = np.array([[s_st_0626, w_n_obs_0626 - s_st_0626], \n",
    "                [s_st_0828, w_n_obs_0828 - s_st_0828], \n",
    "                [s_st_0901, w_n_obs_0901 - s_st_0901]])\n",
    "print(obs / np.array([[w_n_obs_0626], [w_n_obs_0828], [w_n_obs_0901]]))\n",
    "chi2_contingency(obs)"
   ]
  },
  {
   "cell_type": "markdown",
   "metadata": {},
   "source": [
    "## Access Google Drive Tool\n",
    "\n",
    "Need to create API keys and download them as `client_secrets.json` (follow [this tutorial](https://medium.com/@umdfirecoml/a-step-by-step-guide-on-how-to-download-your-google-drive-data-to-your-jupyter-notebook-using-the-52f4ce63c66c))."
   ]
  },
  {
   "cell_type": "code",
   "execution_count": 4,
   "metadata": {},
   "outputs": [],
   "source": [
    "import gdrive_quickstart, io\n",
    "from googleapiclient.http import MediaIoBaseDownload"
   ]
  },
  {
   "cell_type": "code",
   "execution_count": 5,
   "metadata": {},
   "outputs": [
    {
     "data": {
      "text/plain": [
       "<module 'gdrive_quickstart' from '/Users/sarah/Downloads/TwitterResearch2020/gdrive_quickstart.py'>"
      ]
     },
     "execution_count": 5,
     "metadata": {},
     "output_type": "execute_result"
    }
   ],
   "source": [
    "import importlib\n",
    "importlib.reload(gdrive_quickstart)"
   ]
  },
  {
   "cell_type": "code",
   "execution_count": 9,
   "metadata": {},
   "outputs": [],
   "source": [
    "DRIVE = gdrive_quickstart.authenticate_drive_api()\n",
    "file_objs_lst = gdrive_quickstart.get_file_objs_list(DRIVE, 'name contains \"combined_tweets-2020\"')"
   ]
  },
  {
   "cell_type": "code",
   "execution_count": 19,
   "metadata": {},
   "outputs": [
    {
     "name": "stdout",
     "output_type": "stream",
     "text": [
      "Download 85%.\n",
      "Download 100%.\n",
      "Download 44%.\n",
      "Download 89%.\n",
      "Download 100%.\n"
     ]
    }
   ],
   "source": [
    "tweets_0626 = gdrive_quickstart.download_pkl_file(DRIVE, file_objs_lst[86], print_status=True)\n",
    "tweets_0921 = gdrive_quickstart.download_pkl_file(DRIVE, file_objs_lst[0], print_status=True)"
   ]
  },
  {
   "cell_type": "code",
   "execution_count": 535,
   "metadata": {},
   "outputs": [
    {
     "name": "stdout",
     "output_type": "stream",
     "text": [
      "Download 46%.\n",
      "Download 93%.\n",
      "Download 100%.\n"
     ]
    }
   ],
   "source": [
    "for file_obj in file_objs_lst:\n",
    "    request = DRIVE.files().get_media(fileId=file_obj['id'])\n",
    "    fh = io.FileIO(file_obj['name'], mode='w')\n",
    "    downloader = MediaIoBaseDownload(fh, request)\n",
    "    done = False\n",
    "    while done is False:\n",
    "        status, done = downloader.next_chunk()\n",
    "        print(\"Download %d%%.\" % int(status.progress() * 100))\n",
    "\n",
    "    thinned_obj_tweets = general_utilities.read_pkl(file_obj['name'])\n",
    "    # Do something with the `thinned_obj_tweets` or store them to use later\n",
    "\n",
    "    os.remove(file_obj['name'])\n",
    "    break"
   ]
  },
  {
   "cell_type": "code",
   "execution_count": 557,
   "metadata": {},
   "outputs": [
    {
     "name": "stdout",
     "output_type": "stream",
     "text": [
      "Download 46%.\n",
      "Download 93%.\n",
      "Download 100%.\n"
     ]
    },
    {
     "data": {
      "text/plain": [
       "[<thinned_tweet_obj.tweet at 0x7fe4fc973410>,\n",
       " <thinned_tweet_obj.tweet at 0x7fe4fc8e44d0>,\n",
       " <thinned_tweet_obj.tweet at 0x7fe4fc88fa90>,\n",
       " <thinned_tweet_obj.tweet at 0x7fe4fc88f390>,\n",
       " <thinned_tweet_obj.tweet at 0x7fe4fc8e5150>,\n",
       " <thinned_tweet_obj.tweet at 0x7fe4fc8e5210>,\n",
       " <thinned_tweet_obj.tweet at 0x7fe4fc8e5b10>,\n",
       " <thinned_tweet_obj.tweet at 0x7fe4fca1c850>,\n",
       " <thinned_tweet_obj.tweet at 0x7fe4fc8936d0>,\n",
       " <thinned_tweet_obj.tweet at 0x7fe4fc893b50>,\n",
       " <thinned_tweet_obj.tweet at 0x7fe4fc893f90>,\n",
       " <thinned_tweet_obj.tweet at 0x7fe542db5190>,\n",
       " <thinned_tweet_obj.tweet at 0x7fe4fca333d0>,\n",
       " <thinned_tweet_obj.tweet at 0x7fe4fc8df4d0>,\n",
       " <thinned_tweet_obj.tweet at 0x7fe4fc8e16d0>,\n",
       " <thinned_tweet_obj.tweet at 0x7fe4fc8e1550>,\n",
       " <thinned_tweet_obj.tweet at 0x7fe4fca37890>,\n",
       " <thinned_tweet_obj.tweet at 0x7fe4fc81ed90>,\n",
       " <thinned_tweet_obj.tweet at 0x7fe4fc875790>,\n",
       " <thinned_tweet_obj.tweet at 0x7fe4fc875990>,\n",
       " <thinned_tweet_obj.tweet at 0x7fe5e9671f10>,\n",
       " <thinned_tweet_obj.tweet at 0x7fe4fc8d7d50>,\n",
       " <thinned_tweet_obj.tweet at 0x7fe4fc8e7290>,\n",
       " <thinned_tweet_obj.tweet at 0x7fe4fc9733d0>,\n",
       " <thinned_tweet_obj.tweet at 0x7fe4fc973110>,\n",
       " <thinned_tweet_obj.tweet at 0x7fe4fc9e7a90>,\n",
       " <thinned_tweet_obj.tweet at 0x7fe4fc9e7210>,\n",
       " <thinned_tweet_obj.tweet at 0x7fe4fc9e7b50>,\n",
       " <thinned_tweet_obj.tweet at 0x7fe4fc9e7490>,\n",
       " <thinned_tweet_obj.tweet at 0x7fe4fca0af90>,\n",
       " <thinned_tweet_obj.tweet at 0x7fe4fc88dfd0>,\n",
       " <thinned_tweet_obj.tweet at 0x7fe4fca00790>,\n",
       " <thinned_tweet_obj.tweet at 0x7fe4fc9fdd50>,\n",
       " <thinned_tweet_obj.tweet at 0x7fe4fc9f5490>,\n",
       " <thinned_tweet_obj.tweet at 0x7fe4fc9e8e50>,\n",
       " <thinned_tweet_obj.tweet at 0x7fe4fc981890>,\n",
       " <thinned_tweet_obj.tweet at 0x7fe4fc986350>,\n",
       " <thinned_tweet_obj.tweet at 0x7fe4fc989510>,\n",
       " <thinned_tweet_obj.tweet at 0x7fe4fc98e8d0>,\n",
       " <thinned_tweet_obj.tweet at 0x7fe4fc991fd0>,\n",
       " <thinned_tweet_obj.tweet at 0x7fe4fc97e950>,\n",
       " <thinned_tweet_obj.tweet at 0x7fe4fc9981d0>,\n",
       " <thinned_tweet_obj.tweet at 0x7fe4fc87dbd0>,\n",
       " <thinned_tweet_obj.tweet at 0x7fe4fc832510>,\n",
       " <thinned_tweet_obj.tweet at 0x7fe4fc832550>,\n",
       " <thinned_tweet_obj.tweet at 0x7fe4fc8859d0>,\n",
       " <thinned_tweet_obj.tweet at 0x7fe4fc8e7b10>,\n",
       " <thinned_tweet_obj.tweet at 0x7fe4fc8e7f10>,\n",
       " <thinned_tweet_obj.tweet at 0x7fe4fc892150>,\n",
       " <thinned_tweet_obj.tweet at 0x7fe4fc892bd0>,\n",
       " <thinned_tweet_obj.tweet at 0x7fe4fc8c9850>,\n",
       " <thinned_tweet_obj.tweet at 0x7fe4fc8c9290>,\n",
       " <thinned_tweet_obj.tweet at 0x7fe4fc878050>,\n",
       " <thinned_tweet_obj.tweet at 0x7fe4fc878090>,\n",
       " <thinned_tweet_obj.tweet at 0x7fe4fc878c90>,\n",
       " <thinned_tweet_obj.tweet at 0x7fe4fc878f10>,\n",
       " <thinned_tweet_obj.tweet at 0x7fe4fc8816d0>,\n",
       " <thinned_tweet_obj.tweet at 0x7fe4fc881650>,\n",
       " <thinned_tweet_obj.tweet at 0x7fe4fc881b90>,\n",
       " <thinned_tweet_obj.tweet at 0x7fe4fc8819d0>,\n",
       " <thinned_tweet_obj.tweet at 0x7fe4fca45c90>,\n",
       " <thinned_tweet_obj.tweet at 0x7fe4fc89e210>,\n",
       " <thinned_tweet_obj.tweet at 0x7fe4fc89e850>,\n",
       " <thinned_tweet_obj.tweet at 0x7fe4fc8a1190>,\n",
       " <thinned_tweet_obj.tweet at 0x7fe4fca4cfd0>,\n",
       " <thinned_tweet_obj.tweet at 0x7fe4fc8a5990>,\n",
       " <thinned_tweet_obj.tweet at 0x7fe4fca50410>,\n",
       " <thinned_tweet_obj.tweet at 0x7fe4fc963890>,\n",
       " <thinned_tweet_obj.tweet at 0x7fe4fc968050>,\n",
       " <thinned_tweet_obj.tweet at 0x7fe4fca56ad0>,\n",
       " <thinned_tweet_obj.tweet at 0x7fe4fc96bc90>,\n",
       " <thinned_tweet_obj.tweet at 0x7fe4fca58a90>,\n",
       " <thinned_tweet_obj.tweet at 0x7fe4fc96d810>,\n",
       " <thinned_tweet_obj.tweet at 0x7fe4fc883d10>,\n",
       " <thinned_tweet_obj.tweet at 0x7fe4fc883650>,\n",
       " <thinned_tweet_obj.tweet at 0x7fe4fca5e850>,\n",
       " <thinned_tweet_obj.tweet at 0x7fe4fc970dd0>,\n",
       " <thinned_tweet_obj.tweet at 0x7fe4fca64650>,\n",
       " <thinned_tweet_obj.tweet at 0x7fe4fca6a890>,\n",
       " <thinned_tweet_obj.tweet at 0x7fe4fca6aa90>,\n",
       " <thinned_tweet_obj.tweet at 0x7fe4fca6dcd0>,\n",
       " <thinned_tweet_obj.tweet at 0x7fe4fca70110>,\n",
       " <thinned_tweet_obj.tweet at 0x7fe4fca75650>,\n",
       " <thinned_tweet_obj.tweet at 0x7fe4fca79490>,\n",
       " <thinned_tweet_obj.tweet at 0x7fe4fca7ead0>,\n",
       " <thinned_tweet_obj.tweet at 0x7fe4fca83f10>,\n",
       " <thinned_tweet_obj.tweet at 0x7fe4fca8c190>,\n",
       " <thinned_tweet_obj.tweet at 0x7fe4fca8c890>,\n",
       " <thinned_tweet_obj.tweet at 0x7fe4fca8f6d0>,\n",
       " <thinned_tweet_obj.tweet at 0x7fe4fca93c10>,\n",
       " <thinned_tweet_obj.tweet at 0x7fe4fca98b50>,\n",
       " <thinned_tweet_obj.tweet at 0x7fe4fcaa03d0>,\n",
       " <thinned_tweet_obj.tweet at 0x7fe4fcaa9050>,\n",
       " <thinned_tweet_obj.tweet at 0x7fe4fcab8490>,\n",
       " <thinned_tweet_obj.tweet at 0x7fe4fcabb9d0>,\n",
       " <thinned_tweet_obj.tweet at 0x7fe4fcac4250>,\n",
       " <thinned_tweet_obj.tweet at 0x7fe4fcac8b90>,\n",
       " <thinned_tweet_obj.tweet at 0x7fe4fcacdcd0>,\n",
       " <thinned_tweet_obj.tweet at 0x7fe4fcad6950>,\n",
       " <thinned_tweet_obj.tweet at 0x7fe4fcadbe90>,\n",
       " <thinned_tweet_obj.tweet at 0x7fe4fcadefd0>,\n",
       " <thinned_tweet_obj.tweet at 0x7fe4fcae2710>,\n",
       " <thinned_tweet_obj.tweet at 0x7fe4fcae7e10>,\n",
       " <thinned_tweet_obj.tweet at 0x7fe4fcaf2e50>,\n",
       " <thinned_tweet_obj.tweet at 0x7fe4fcaf9e10>,\n",
       " <thinned_tweet_obj.tweet at 0x7fe4fcb00050>,\n",
       " <thinned_tweet_obj.tweet at 0x7fe4fcb04ad0>,\n",
       " <thinned_tweet_obj.tweet at 0x7fe4fcb0b590>,\n",
       " <thinned_tweet_obj.tweet at 0x7fe4fcb0e450>,\n",
       " <thinned_tweet_obj.tweet at 0x7fe4fcb122d0>,\n",
       " <thinned_tweet_obj.tweet at 0x7fe4fcb12590>,\n",
       " <thinned_tweet_obj.tweet at 0x7fe4fcb15650>,\n",
       " <thinned_tweet_obj.tweet at 0x7fe4fcb17190>,\n",
       " <thinned_tweet_obj.tweet at 0x7fe4fcb17890>,\n",
       " <thinned_tweet_obj.tweet at 0x7fe4fcb17c10>,\n",
       " <thinned_tweet_obj.tweet at 0x7fe4fca41610>,\n",
       " <thinned_tweet_obj.tweet at 0x7fe4fca41f10>,\n",
       " <thinned_tweet_obj.tweet at 0x7fe4fc985490>,\n",
       " <thinned_tweet_obj.tweet at 0x7fe4fc985e50>,\n",
       " <thinned_tweet_obj.tweet at 0x7fe4fc985f90>,\n",
       " <thinned_tweet_obj.tweet at 0x7fe4fc99c690>,\n",
       " <thinned_tweet_obj.tweet at 0x7fe4fc99cc90>,\n",
       " <thinned_tweet_obj.tweet at 0x7fe4fca30390>,\n",
       " <thinned_tweet_obj.tweet at 0x7fe4fca30c90>,\n",
       " <thinned_tweet_obj.tweet at 0x7fe4fca47150>,\n",
       " <thinned_tweet_obj.tweet at 0x7fe4fca47790>,\n",
       " <thinned_tweet_obj.tweet at 0x7fe4fca47bd0>,\n",
       " <thinned_tweet_obj.tweet at 0x7fe4fca53190>,\n",
       " <thinned_tweet_obj.tweet at 0x7fe4fca53550>,\n",
       " <thinned_tweet_obj.tweet at 0x7fe4fca53910>,\n",
       " <thinned_tweet_obj.tweet at 0x7fe4fca53f10>,\n",
       " <thinned_tweet_obj.tweet at 0x7fe4fca5f0d0>,\n",
       " <thinned_tweet_obj.tweet at 0x7fe4fca5f6d0>,\n",
       " <thinned_tweet_obj.tweet at 0x7fe4fca5fc10>,\n",
       " <thinned_tweet_obj.tweet at 0x7fe4fca5ff90>,\n",
       " <thinned_tweet_obj.tweet at 0x7fe4fca676d0>,\n",
       " <thinned_tweet_obj.tweet at 0x7fe4fca67b10>,\n",
       " <thinned_tweet_obj.tweet at 0x7fe4fca72190>,\n",
       " <thinned_tweet_obj.tweet at 0x7fe4fca72750>,\n",
       " <thinned_tweet_obj.tweet at 0x7fe4fca7f150>,\n",
       " <thinned_tweet_obj.tweet at 0x7fe4fca7f6d0>,\n",
       " <thinned_tweet_obj.tweet at 0x7fe4fca7fd50>,\n",
       " <thinned_tweet_obj.tweet at 0x7fe4fca8a310>,\n",
       " <thinned_tweet_obj.tweet at 0x7fe4fca8a750>,\n",
       " <thinned_tweet_obj.tweet at 0x7fe4fca8ac90>,\n",
       " <thinned_tweet_obj.tweet at 0x7fe4fca95250>,\n",
       " <thinned_tweet_obj.tweet at 0x7fe4fca956d0>,\n",
       " <thinned_tweet_obj.tweet at 0x7fe4fca95c90>,\n",
       " <thinned_tweet_obj.tweet at 0x7fe4fca95f90>,\n",
       " <thinned_tweet_obj.tweet at 0x7fe4fca9f390>,\n",
       " <thinned_tweet_obj.tweet at 0x7fe4fca9f9d0>,\n",
       " <thinned_tweet_obj.tweet at 0x7fe4fca9ff90>,\n",
       " <thinned_tweet_obj.tweet at 0x7fe4fcab6450>,\n",
       " <thinned_tweet_obj.tweet at 0x7fe4fcab6610>,\n",
       " <thinned_tweet_obj.tweet at 0x7fe4fcab6bd0>,\n",
       " <thinned_tweet_obj.tweet at 0x7fe4fcacc150>,\n",
       " <thinned_tweet_obj.tweet at 0x7fe4fcacc790>,\n",
       " <thinned_tweet_obj.tweet at 0x7fe4fcaccbd0>,\n",
       " <thinned_tweet_obj.tweet at 0x7fe4fcad8450>,\n",
       " <thinned_tweet_obj.tweet at 0x7fe4fcaef090>,\n",
       " <thinned_tweet_obj.tweet at 0x7fe4fcaef5d0>,\n",
       " <thinned_tweet_obj.tweet at 0x7fe4fcaefbd0>,\n",
       " <thinned_tweet_obj.tweet at 0x7fe4fc898210>,\n",
       " <thinned_tweet_obj.tweet at 0x7fe4fc898790>,\n",
       " <thinned_tweet_obj.tweet at 0x7fe4fc898d10>,\n",
       " <thinned_tweet_obj.tweet at 0x7fe4fcb32250>,\n",
       " <thinned_tweet_obj.tweet at 0x7fe4fcb33590>,\n",
       " <thinned_tweet_obj.tweet at 0x7fe4fcb33750>,\n",
       " <thinned_tweet_obj.tweet at 0x7fe4fcb2f390>,\n",
       " <thinned_tweet_obj.tweet at 0x7fe4fcb2f750>,\n",
       " <thinned_tweet_obj.tweet at 0x7fe4fcb30090>,\n",
       " <thinned_tweet_obj.tweet at 0x7fe4fcb30cd0>,\n",
       " <thinned_tweet_obj.tweet at 0x7fe4fc8c4250>,\n",
       " <thinned_tweet_obj.tweet at 0x7fe4fc8c8190>,\n",
       " <thinned_tweet_obj.tweet at 0x7fe4fc8e6150>,\n",
       " <thinned_tweet_obj.tweet at 0x7fe4fc8e6f10>,\n",
       " <thinned_tweet_obj.tweet at 0x7fe4fc8e9790>,\n",
       " <thinned_tweet_obj.tweet at 0x7fe4fc8e9f90>,\n",
       " <thinned_tweet_obj.tweet at 0x7fe4fc874e90>,\n",
       " <thinned_tweet_obj.tweet at 0x7fe4fc8eb3d0>,\n",
       " <thinned_tweet_obj.tweet at 0x7fe4fc8eb990>,\n",
       " <thinned_tweet_obj.tweet at 0x7fe4fc8ebc50>,\n",
       " <thinned_tweet_obj.tweet at 0x7fe4fc8ebd50>,\n",
       " <thinned_tweet_obj.tweet at 0x7fe4fc82f310>,\n",
       " <thinned_tweet_obj.tweet at 0x7fe4fc82f410>,\n",
       " <thinned_tweet_obj.tweet at 0x7fe4fc82f790>,\n",
       " <thinned_tweet_obj.tweet at 0x7fe4fc82fe90>,\n",
       " <thinned_tweet_obj.tweet at 0x7fe4fc834250>,\n",
       " <thinned_tweet_obj.tweet at 0x7fe4fc834690>,\n",
       " <thinned_tweet_obj.tweet at 0x7fe4fc834a10>,\n",
       " <thinned_tweet_obj.tweet at 0x7fe4fc834d50>,\n",
       " <thinned_tweet_obj.tweet at 0x7fe4fc837350>,\n",
       " <thinned_tweet_obj.tweet at 0x7fe4fc837710>,\n",
       " <thinned_tweet_obj.tweet at 0x7fe4fc837b10>,\n",
       " <thinned_tweet_obj.tweet at 0x7fe4fc837f10>,\n",
       " <thinned_tweet_obj.tweet at 0x7fe4fc838250>,\n",
       " <thinned_tweet_obj.tweet at 0x7fe4fc838790>,\n",
       " <thinned_tweet_obj.tweet at 0x7fe4fc8389d0>,\n",
       " <thinned_tweet_obj.tweet at 0x7fe4fc838d90>,\n",
       " <thinned_tweet_obj.tweet at 0x7fe4fc839150>,\n",
       " <thinned_tweet_obj.tweet at 0x7fe4fc839490>,\n",
       " <thinned_tweet_obj.tweet at 0x7fe4fc839850>,\n",
       " <thinned_tweet_obj.tweet at 0x7fe4fc839b50>,\n",
       " <thinned_tweet_obj.tweet at 0x7fe4fc839f10>,\n",
       " <thinned_tweet_obj.tweet at 0x7fe4fc83b250>,\n",
       " <thinned_tweet_obj.tweet at 0x7fe4fc83ba90>,\n",
       " <thinned_tweet_obj.tweet at 0x7fe4fc83bf50>,\n",
       " <thinned_tweet_obj.tweet at 0x7fe4fc83bf90>,\n",
       " <thinned_tweet_obj.tweet at 0x7fe4fc83a090>,\n",
       " <thinned_tweet_obj.tweet at 0x7fe4fc83a550>,\n",
       " <thinned_tweet_obj.tweet at 0x7fe4fc83a8d0>,\n",
       " <thinned_tweet_obj.tweet at 0x7fe4fc83acd0>,\n",
       " <thinned_tweet_obj.tweet at 0x7fe4fc83d0d0>,\n",
       " <thinned_tweet_obj.tweet at 0x7fe4fc83d3d0>,\n",
       " <thinned_tweet_obj.tweet at 0x7fe4fc83d650>,\n",
       " <thinned_tweet_obj.tweet at 0x7fe4fc83dad0>,\n",
       " <thinned_tweet_obj.tweet at 0x7fe4fc83f090>,\n",
       " <thinned_tweet_obj.tweet at 0x7fe4fc83f450>,\n",
       " <thinned_tweet_obj.tweet at 0x7fe4fc83f9d0>,\n",
       " <thinned_tweet_obj.tweet at 0x7fe4fc83fd50>,\n",
       " <thinned_tweet_obj.tweet at 0x7fe4fcb1b4d0>,\n",
       " <thinned_tweet_obj.tweet at 0x7fe4fcb1b550>,\n",
       " <thinned_tweet_obj.tweet at 0x7fe4fcb1b950>,\n",
       " <thinned_tweet_obj.tweet at 0x7fe4fcb1bf50>,\n",
       " <thinned_tweet_obj.tweet at 0x7fe4fcb07310>,\n",
       " <thinned_tweet_obj.tweet at 0x7fe4fcb07650>,\n",
       " <thinned_tweet_obj.tweet at 0x7fe4fcb07a10>,\n",
       " <thinned_tweet_obj.tweet at 0x7fe4fcb07d90>,\n",
       " <thinned_tweet_obj.tweet at 0x7fe4fcb1e150>,\n",
       " <thinned_tweet_obj.tweet at 0x7fe4fcb1e4d0>,\n",
       " <thinned_tweet_obj.tweet at 0x7fe4fcb1ea50>,\n",
       " <thinned_tweet_obj.tweet at 0x7fe4fcb1ed50>,\n",
       " <thinned_tweet_obj.tweet at 0x7fe4fcb20110>,\n",
       " <thinned_tweet_obj.tweet at 0x7fe4fcb20590>,\n",
       " <thinned_tweet_obj.tweet at 0x7fe4fcb20890>,\n",
       " <thinned_tweet_obj.tweet at 0x7fe4fcb20d10>,\n",
       " <thinned_tweet_obj.tweet at 0x7fe4fcb23050>,\n",
       " <thinned_tweet_obj.tweet at 0x7fe4fcb23290>,\n",
       " <thinned_tweet_obj.tweet at 0x7fe4fcb23510>,\n",
       " <thinned_tweet_obj.tweet at 0x7fe4fcb23890>,\n",
       " <thinned_tweet_obj.tweet at 0x7fe4fcb23c10>,\n",
       " <thinned_tweet_obj.tweet at 0x7fe4fcb25290>,\n",
       " <thinned_tweet_obj.tweet at 0x7fe4fcb25690>,\n",
       " <thinned_tweet_obj.tweet at 0x7fe4fcb25710>,\n",
       " <thinned_tweet_obj.tweet at 0x7fe4fcb25b90>,\n",
       " <thinned_tweet_obj.tweet at 0x7fe4fcb25f10>,\n",
       " <thinned_tweet_obj.tweet at 0x7fe4fcb26250>,\n",
       " <thinned_tweet_obj.tweet at 0x7fe4fcb26510>,\n",
       " <thinned_tweet_obj.tweet at 0x7fe4fcb268d0>,\n",
       " <thinned_tweet_obj.tweet at 0x7fe4fcb26bd0>,\n",
       " <thinned_tweet_obj.tweet at 0x7fe4fcb28090>,\n",
       " <thinned_tweet_obj.tweet at 0x7fe4fcb28350>,\n",
       " <thinned_tweet_obj.tweet at 0x7fe4fcb28750>,\n",
       " <thinned_tweet_obj.tweet at 0x7fe4fcb28bd0>,\n",
       " <thinned_tweet_obj.tweet at 0x7fe4fcb28fd0>,\n",
       " <thinned_tweet_obj.tweet at 0x7fe4fcb29390>,\n",
       " <thinned_tweet_obj.tweet at 0x7fe4fcb29690>,\n",
       " <thinned_tweet_obj.tweet at 0x7fe4fcb29a50>,\n",
       " <thinned_tweet_obj.tweet at 0x7fe4fcb29b90>,\n",
       " <thinned_tweet_obj.tweet at 0x7fe4fcb29f10>,\n",
       " <thinned_tweet_obj.tweet at 0x7fe4fcb2b210>,\n",
       " <thinned_tweet_obj.tweet at 0x7fe4fcb2b9d0>,\n",
       " <thinned_tweet_obj.tweet at 0x7fe4fcb2bcd0>,\n",
       " <thinned_tweet_obj.tweet at 0x7fe4fcb2d050>,\n",
       " <thinned_tweet_obj.tweet at 0x7fe4fcb2d550>,\n",
       " <thinned_tweet_obj.tweet at 0x7fe4fcb2d990>,\n",
       " <thinned_tweet_obj.tweet at 0x7fe4fcb2dc10>,\n",
       " <thinned_tweet_obj.tweet at 0x7fe4fcb2df50>,\n",
       " <thinned_tweet_obj.tweet at 0x7fe4fc8ec1d0>,\n",
       " <thinned_tweet_obj.tweet at 0x7fe4fc8ec750>,\n",
       " <thinned_tweet_obj.tweet at 0x7fe4fc8ecbd0>,\n",
       " <thinned_tweet_obj.tweet at 0x7fe4fc8ed350>,\n",
       " <thinned_tweet_obj.tweet at 0x7fe4fc8ed690>,\n",
       " <thinned_tweet_obj.tweet at 0x7fe4fc8eda10>,\n",
       " <thinned_tweet_obj.tweet at 0x7fe4fc8edd10>,\n",
       " <thinned_tweet_obj.tweet at 0x7fe4fc8bd050>,\n",
       " <thinned_tweet_obj.tweet at 0x7fe4fc8bd450>,\n",
       " <thinned_tweet_obj.tweet at 0x7fe4fc8bd6d0>,\n",
       " <thinned_tweet_obj.tweet at 0x7fe4fc8bd710>,\n",
       " <thinned_tweet_obj.tweet at 0x7fe4fc8bdad0>,\n",
       " <thinned_tweet_obj.tweet at 0x7fe4fc8bdb10>,\n",
       " <thinned_tweet_obj.tweet at 0x7fe4fc8bde90>,\n",
       " <thinned_tweet_obj.tweet at 0x7fe4fc8bdf10>,\n",
       " <thinned_tweet_obj.tweet at 0x7fe4fc8b3290>,\n",
       " <thinned_tweet_obj.tweet at 0x7fe4fc8b3610>,\n",
       " <thinned_tweet_obj.tweet at 0x7fe4fc8b3a50>,\n",
       " <thinned_tweet_obj.tweet at 0x7fe4fc8b3dd0>,\n",
       " <thinned_tweet_obj.tweet at 0x7fe4fc8b50d0>,\n",
       " <thinned_tweet_obj.tweet at 0x7fe4fc8b5450>,\n",
       " <thinned_tweet_obj.tweet at 0x7fe4fc8b5810>,\n",
       " <thinned_tweet_obj.tweet at 0x7fe4fc8b5d10>,\n",
       " <thinned_tweet_obj.tweet at 0x7fe4fc8b7050>,\n",
       " <thinned_tweet_obj.tweet at 0x7fe4fc8b7390>,\n",
       " <thinned_tweet_obj.tweet at 0x7fe4fc8b7450>,\n",
       " <thinned_tweet_obj.tweet at 0x7fe4fc8b7850>,\n",
       " <thinned_tweet_obj.tweet at 0x7fe4fc8b7b50>,\n",
       " <thinned_tweet_obj.tweet at 0x7fe4fc8b7ed0>,\n",
       " <thinned_tweet_obj.tweet at 0x7fe4fc8b9490>,\n",
       " <thinned_tweet_obj.tweet at 0x7fe4fc8b98d0>,\n",
       " <thinned_tweet_obj.tweet at 0x7fe4fc8b9c90>,\n",
       " <thinned_tweet_obj.tweet at 0x7fe4fc8ba090>,\n",
       " <thinned_tweet_obj.tweet at 0x7fe4fc8ba450>,\n",
       " <thinned_tweet_obj.tweet at 0x7fe4fc8ba7d0>,\n",
       " <thinned_tweet_obj.tweet at 0x7fe4fc8badd0>,\n",
       " <thinned_tweet_obj.tweet at 0x7fe4fc8bb210>,\n",
       " <thinned_tweet_obj.tweet at 0x7fe4fc8bb590>,\n",
       " <thinned_tweet_obj.tweet at 0x7fe4fc8bb810>,\n",
       " <thinned_tweet_obj.tweet at 0x7fe4fc8bbb90>,\n",
       " <thinned_tweet_obj.tweet at 0x7fe4fc8bbf50>,\n",
       " <thinned_tweet_obj.tweet at 0x7fe4fc8be350>,\n",
       " <thinned_tweet_obj.tweet at 0x7fe4fc8be710>,\n",
       " <thinned_tweet_obj.tweet at 0x7fe4fc8beb90>,\n",
       " <thinned_tweet_obj.tweet at 0x7fe4fc8bef50>,\n",
       " <thinned_tweet_obj.tweet at 0x7fe4fc8c0350>,\n",
       " <thinned_tweet_obj.tweet at 0x7fe4fc8c0610>,\n",
       " <thinned_tweet_obj.tweet at 0x7fe4fc8c0990>,\n",
       " <thinned_tweet_obj.tweet at 0x7fe4fc8c3050>,\n",
       " <thinned_tweet_obj.tweet at 0x7fe4fc8c3410>,\n",
       " <thinned_tweet_obj.tweet at 0x7fe4fc8c3810>,\n",
       " <thinned_tweet_obj.tweet at 0x7fe4fc8c3890>,\n",
       " <thinned_tweet_obj.tweet at 0x7fe4fc8c3c50>,\n",
       " <thinned_tweet_obj.tweet at 0x7fe4fc8c3ed0>,\n",
       " <thinned_tweet_obj.tweet at 0x7fe4fcb6f050>,\n",
       " <thinned_tweet_obj.tweet at 0x7fe4fcb6f410>,\n",
       " <thinned_tweet_obj.tweet at 0x7fe4fcb6f790>,\n",
       " <thinned_tweet_obj.tweet at 0x7fe4fcb6fb10>,\n",
       " <thinned_tweet_obj.tweet at 0x7fe4fcb6ff50>,\n",
       " <thinned_tweet_obj.tweet at 0x7fe4fcb70310>,\n",
       " <thinned_tweet_obj.tweet at 0x7fe4fcb70690>,\n",
       " <thinned_tweet_obj.tweet at 0x7fe4fcb70a10>,\n",
       " <thinned_tweet_obj.tweet at 0x7fe4fcb70f90>,\n",
       " <thinned_tweet_obj.tweet at 0x7fe4fcb72390>,\n",
       " <thinned_tweet_obj.tweet at 0x7fe4fcb72610>,\n",
       " <thinned_tweet_obj.tweet at 0x7fe4fcb729d0>,\n",
       " <thinned_tweet_obj.tweet at 0x7fe4fcb72d90>,\n",
       " <thinned_tweet_obj.tweet at 0x7fe4fcb73190>,\n",
       " <thinned_tweet_obj.tweet at 0x7fe4fcb73550>,\n",
       " <thinned_tweet_obj.tweet at 0x7fe4fcb735d0>,\n",
       " <thinned_tweet_obj.tweet at 0x7fe4fcb73a10>,\n",
       " <thinned_tweet_obj.tweet at 0x7fe4fcb73dd0>,\n",
       " <thinned_tweet_obj.tweet at 0x7fe4fcb745d0>,\n",
       " <thinned_tweet_obj.tweet at 0x7fe4fcb74890>,\n",
       " <thinned_tweet_obj.tweet at 0x7fe4fcb74990>,\n",
       " <thinned_tweet_obj.tweet at 0x7fe4fcb74a90>,\n",
       " <thinned_tweet_obj.tweet at 0x7fe4fcb74f50>,\n",
       " <thinned_tweet_obj.tweet at 0x7fe4fcb76090>,\n",
       " <thinned_tweet_obj.tweet at 0x7fe4fcb764d0>,\n",
       " <thinned_tweet_obj.tweet at 0x7fe4fcb76790>,\n",
       " <thinned_tweet_obj.tweet at 0x7fe4fcb76b10>,\n",
       " <thinned_tweet_obj.tweet at 0x7fe4fcb76e10>,\n",
       " <thinned_tweet_obj.tweet at 0x7fe4fcb77290>,\n",
       " <thinned_tweet_obj.tweet at 0x7fe4fcb775d0>,\n",
       " <thinned_tweet_obj.tweet at 0x7fe4fcb77950>,\n",
       " <thinned_tweet_obj.tweet at 0x7fe4fcb77a50>,\n",
       " <thinned_tweet_obj.tweet at 0x7fe4fcb77cd0>,\n",
       " <thinned_tweet_obj.tweet at 0x7fe4fcb795d0>,\n",
       " <thinned_tweet_obj.tweet at 0x7fe4fcb799d0>,\n",
       " <thinned_tweet_obj.tweet at 0x7fe4fcb79ad0>,\n",
       " <thinned_tweet_obj.tweet at 0x7fe4fcb79e90>,\n",
       " <thinned_tweet_obj.tweet at 0x7fe4fcb7b210>,\n",
       " <thinned_tweet_obj.tweet at 0x7fe4fcb7b2d0>,\n",
       " <thinned_tweet_obj.tweet at 0x7fe4fcb7b650>,\n",
       " <thinned_tweet_obj.tweet at 0x7fe4fcb7ba10>,\n",
       " <thinned_tweet_obj.tweet at 0x7fe4fcb7bd90>,\n",
       " <thinned_tweet_obj.tweet at 0x7fe4fcb7be50>,\n",
       " <thinned_tweet_obj.tweet at 0x7fe4fcb7c250>,\n",
       " <thinned_tweet_obj.tweet at 0x7fe4fcb7c310>,\n",
       " <thinned_tweet_obj.tweet at 0x7fe4fcb7c890>,\n",
       " <thinned_tweet_obj.tweet at 0x7fe4fcb7cc50>,\n",
       " <thinned_tweet_obj.tweet at 0x7fe4fcb7d050>,\n",
       " <thinned_tweet_obj.tweet at 0x7fe4fcb7d310>,\n",
       " <thinned_tweet_obj.tweet at 0x7fe4fcb7d610>,\n",
       " <thinned_tweet_obj.tweet at 0x7fe4fcb7d910>,\n",
       " <thinned_tweet_obj.tweet at 0x7fe4fcb7dc10>,\n",
       " <thinned_tweet_obj.tweet at 0x7fe4fcb7dc90>,\n",
       " <thinned_tweet_obj.tweet at 0x7fe4fcb81050>,\n",
       " <thinned_tweet_obj.tweet at 0x7fe4fcb813d0>,\n",
       " <thinned_tweet_obj.tweet at 0x7fe4fcb81450>,\n",
       " <thinned_tweet_obj.tweet at 0x7fe4fcb81990>,\n",
       " <thinned_tweet_obj.tweet at 0x7fe4fcb81d90>,\n",
       " <thinned_tweet_obj.tweet at 0x7fe4fcb82290>,\n",
       " <thinned_tweet_obj.tweet at 0x7fe4fcb82510>,\n",
       " <thinned_tweet_obj.tweet at 0x7fe4fcb82610>,\n",
       " <thinned_tweet_obj.tweet at 0x7fe4fcb82990>,\n",
       " <thinned_tweet_obj.tweet at 0x7fe4fcb82cd0>,\n",
       " <thinned_tweet_obj.tweet at 0x7fe4fcb82d50>,\n",
       " <thinned_tweet_obj.tweet at 0x7fe4fcb84310>,\n",
       " <thinned_tweet_obj.tweet at 0x7fe4fcb84710>,\n",
       " <thinned_tweet_obj.tweet at 0x7fe4fcb84a50>,\n",
       " <thinned_tweet_obj.tweet at 0x7fe4fcb84b50>,\n",
       " <thinned_tweet_obj.tweet at 0x7fe4fcb84dd0>,\n",
       " <thinned_tweet_obj.tweet at 0x7fe4fcb86150>,\n",
       " <thinned_tweet_obj.tweet at 0x7fe4fcb86410>,\n",
       " <thinned_tweet_obj.tweet at 0x7fe4fcb86bd0>,\n",
       " <thinned_tweet_obj.tweet at 0x7fe4fcb87090>,\n",
       " <thinned_tweet_obj.tweet at 0x7fe4fcb87850>,\n",
       " <thinned_tweet_obj.tweet at 0x7fe4fcb87b90>,\n",
       " <thinned_tweet_obj.tweet at 0x7fe4fcb87e50>,\n",
       " <thinned_tweet_obj.tweet at 0x7fe4fcb87ed0>,\n",
       " <thinned_tweet_obj.tweet at 0x7fe4fcb88350>,\n",
       " <thinned_tweet_obj.tweet at 0x7fe4fcb88650>,\n",
       " <thinned_tweet_obj.tweet at 0x7fe4fcb88910>,\n",
       " <thinned_tweet_obj.tweet at 0x7fe4fcb88d10>,\n",
       " <thinned_tweet_obj.tweet at 0x7fe4fcb88e10>,\n",
       " <thinned_tweet_obj.tweet at 0x7fe4fcb88f10>,\n",
       " <thinned_tweet_obj.tweet at 0x7fe4fcb8b390>,\n",
       " <thinned_tweet_obj.tweet at 0x7fe4fcb8b750>,\n",
       " <thinned_tweet_obj.tweet at 0x7fe4fcb8b850>,\n",
       " <thinned_tweet_obj.tweet at 0x7fe4fcb8bc50>,\n",
       " <thinned_tweet_obj.tweet at 0x7fe4fcb8bf10>,\n",
       " <thinned_tweet_obj.tweet at 0x7fe4fcb8c250>,\n",
       " <thinned_tweet_obj.tweet at 0x7fe4fcb8c6d0>,\n",
       " <thinned_tweet_obj.tweet at 0x7fe4fcb8cb50>,\n",
       " <thinned_tweet_obj.tweet at 0x7fe4fcb8ce90>,\n",
       " <thinned_tweet_obj.tweet at 0x7fe4fcb8d2d0>,\n",
       " <thinned_tweet_obj.tweet at 0x7fe4fcb8d690>,\n",
       " <thinned_tweet_obj.tweet at 0x7fe4fcb8dad0>,\n",
       " <thinned_tweet_obj.tweet at 0x7fe4fcb8de90>,\n",
       " <thinned_tweet_obj.tweet at 0x7fe4fcb90410>,\n",
       " <thinned_tweet_obj.tweet at 0x7fe4fcb90710>,\n",
       " <thinned_tweet_obj.tweet at 0x7fe4fcb90a50>,\n",
       " <thinned_tweet_obj.tweet at 0x7fe4fcb90e50>,\n",
       " <thinned_tweet_obj.tweet at 0x7fe4fcb91390>,\n",
       " <thinned_tweet_obj.tweet at 0x7fe4fcb91710>,\n",
       " <thinned_tweet_obj.tweet at 0x7fe4fcb91a50>,\n",
       " <thinned_tweet_obj.tweet at 0x7fe4fcb92c10>,\n",
       " <thinned_tweet_obj.tweet at 0x7fe4fcb95090>,\n",
       " <thinned_tweet_obj.tweet at 0x7fe4fcb95410>,\n",
       " <thinned_tweet_obj.tweet at 0x7fe4fcb95490>,\n",
       " <thinned_tweet_obj.tweet at 0x7fe4fcb957d0>,\n",
       " <thinned_tweet_obj.tweet at 0x7fe4fcb95bd0>,\n",
       " <thinned_tweet_obj.tweet at 0x7fe4fcb95e50>,\n",
       " <thinned_tweet_obj.tweet at 0x7fe4fcb96190>,\n",
       " <thinned_tweet_obj.tweet at 0x7fe4fcb96410>,\n",
       " <thinned_tweet_obj.tweet at 0x7fe4fcb96790>,\n",
       " <thinned_tweet_obj.tweet at 0x7fe4fcb96c10>,\n",
       " <thinned_tweet_obj.tweet at 0x7fe4fcb97110>,\n",
       " <thinned_tweet_obj.tweet at 0x7fe4fcb97450>,\n",
       " <thinned_tweet_obj.tweet at 0x7fe4fcb97890>,\n",
       " <thinned_tweet_obj.tweet at 0x7fe4fcb97b10>,\n",
       " <thinned_tweet_obj.tweet at 0x7fe4fcb97ed0>,\n",
       " <thinned_tweet_obj.tweet at 0x7fe4fcb98250>,\n",
       " <thinned_tweet_obj.tweet at 0x7fe4fcb98510>,\n",
       " <thinned_tweet_obj.tweet at 0x7fe4fcb98910>,\n",
       " <thinned_tweet_obj.tweet at 0x7fe4fcb989d0>,\n",
       " <thinned_tweet_obj.tweet at 0x7fe4fcb98e50>,\n",
       " <thinned_tweet_obj.tweet at 0x7fe4fcb9a190>,\n",
       " <thinned_tweet_obj.tweet at 0x7fe4fcb9a590>,\n",
       " <thinned_tweet_obj.tweet at 0x7fe4fcb9a950>,\n",
       " <thinned_tweet_obj.tweet at 0x7fe4fcb9ac90>,\n",
       " <thinned_tweet_obj.tweet at 0x7fe4fcb9b0d0>,\n",
       " <thinned_tweet_obj.tweet at 0x7fe4fcb9b4d0>,\n",
       " <thinned_tweet_obj.tweet at 0x7fe4fcb9b890>,\n",
       " <thinned_tweet_obj.tweet at 0x7fe4fcb9e050>,\n",
       " <thinned_tweet_obj.tweet at 0x7fe4fcb9e610>,\n",
       " <thinned_tweet_obj.tweet at 0x7fe4fcb9ebd0>,\n",
       " <thinned_tweet_obj.tweet at 0x7fe4fcb9ef10>,\n",
       " <thinned_tweet_obj.tweet at 0x7fe4fcb9f310>,\n",
       " <thinned_tweet_obj.tweet at 0x7fe4fcb9f410>,\n",
       " <thinned_tweet_obj.tweet at 0x7fe4fcb9f7d0>,\n",
       " <thinned_tweet_obj.tweet at 0x7fe4fcb9fc50>,\n",
       " <thinned_tweet_obj.tweet at 0x7fe4fcba0050>,\n",
       " <thinned_tweet_obj.tweet at 0x7fe4fcba0390>,\n",
       " <thinned_tweet_obj.tweet at 0x7fe4fcba06d0>,\n",
       " <thinned_tweet_obj.tweet at 0x7fe4fcba0c50>,\n",
       " <thinned_tweet_obj.tweet at 0x7fe4fcba1050>,\n",
       " <thinned_tweet_obj.tweet at 0x7fe4fcba1110>,\n",
       " <thinned_tweet_obj.tweet at 0x7fe4fcba1390>,\n",
       " <thinned_tweet_obj.tweet at 0x7fe4fcba16d0>,\n",
       " <thinned_tweet_obj.tweet at 0x7fe4fcba1ad0>,\n",
       " <thinned_tweet_obj.tweet at 0x7fe4fcba1ed0>,\n",
       " <thinned_tweet_obj.tweet at 0x7fe4fcba30d0>,\n",
       " <thinned_tweet_obj.tweet at 0x7fe4fcba4110>,\n",
       " <thinned_tweet_obj.tweet at 0x7fe4fcba4450>,\n",
       " <thinned_tweet_obj.tweet at 0x7fe4fcba47d0>,\n",
       " <thinned_tweet_obj.tweet at 0x7fe4fcba4b10>,\n",
       " <thinned_tweet_obj.tweet at 0x7fe4fcba7090>,\n",
       " <thinned_tweet_obj.tweet at 0x7fe4fcba7410>,\n",
       " <thinned_tweet_obj.tweet at 0x7fe4fcba77d0>,\n",
       " <thinned_tweet_obj.tweet at 0x7fe4fcba7b50>,\n",
       " <thinned_tweet_obj.tweet at 0x7fe4fcba7f50>,\n",
       " <thinned_tweet_obj.tweet at 0x7fe4fcba7fd0>,\n",
       " <thinned_tweet_obj.tweet at 0x7fe4fcba8290>,\n",
       " <thinned_tweet_obj.tweet at 0x7fe4fcba8350>,\n",
       " <thinned_tweet_obj.tweet at 0x7fe4fcba8bd0>,\n",
       " <thinned_tweet_obj.tweet at 0x7fe4fcba8fd0>,\n",
       " <thinned_tweet_obj.tweet at 0x7fe4fcbaa350>,\n",
       " <thinned_tweet_obj.tweet at 0x7fe4fcbaa690>,\n",
       " <thinned_tweet_obj.tweet at 0x7fe4fcbaabd0>,\n",
       " <thinned_tweet_obj.tweet at 0x7fe4fcbab710>,\n",
       " <thinned_tweet_obj.tweet at 0x7fe4fcbab7d0>,\n",
       " <thinned_tweet_obj.tweet at 0x7fe4fcbabb90>,\n",
       " <thinned_tweet_obj.tweet at 0x7fe4fcbabf10>,\n",
       " <thinned_tweet_obj.tweet at 0x7fe4fcbad290>,\n",
       " <thinned_tweet_obj.tweet at 0x7fe4fcbad590>,\n",
       " <thinned_tweet_obj.tweet at 0x7fe4fcbad910>,\n",
       " <thinned_tweet_obj.tweet at 0x7fe4fcbad990>,\n",
       " <thinned_tweet_obj.tweet at 0x7fe4fcbaded0>,\n",
       " <thinned_tweet_obj.tweet at 0x7fe4fcbaf2d0>,\n",
       " <thinned_tweet_obj.tweet at 0x7fe4fcbaf790>,\n",
       " <thinned_tweet_obj.tweet at 0x7fe4fcbafd10>,\n",
       " <thinned_tweet_obj.tweet at 0x7fe4fcbb12d0>,\n",
       " <thinned_tweet_obj.tweet at 0x7fe4fcbb15d0>,\n",
       " <thinned_tweet_obj.tweet at 0x7fe4fcbb19d0>,\n",
       " <thinned_tweet_obj.tweet at 0x7fe4fcbb1a90>,\n",
       " <thinned_tweet_obj.tweet at 0x7fe4fcbb1d50>,\n",
       " <thinned_tweet_obj.tweet at 0x7fe4fcbb3190>,\n",
       " <thinned_tweet_obj.tweet at 0x7fe4fcbb3490>,\n",
       " <thinned_tweet_obj.tweet at 0x7fe4fcbb37d0>,\n",
       " <thinned_tweet_obj.tweet at 0x7fe4fcbb3b50>,\n",
       " <thinned_tweet_obj.tweet at 0x7fe4fcbb3e90>,\n",
       " <thinned_tweet_obj.tweet at 0x7fe4fcbb5190>,\n",
       " <thinned_tweet_obj.tweet at 0x7fe4fcbb54d0>,\n",
       " <thinned_tweet_obj.tweet at 0x7fe4fcbb5850>,\n",
       " <thinned_tweet_obj.tweet at 0x7fe4fcbb5b50>,\n",
       " <thinned_tweet_obj.tweet at 0x7fe4fcbb5f10>,\n",
       " <thinned_tweet_obj.tweet at 0x7fe4fcbb6350>,\n",
       " <thinned_tweet_obj.tweet at 0x7fe4fcbb6750>,\n",
       " <thinned_tweet_obj.tweet at 0x7fe4fcbb6c50>,\n",
       " <thinned_tweet_obj.tweet at 0x7fe4fcbb6fd0>,\n",
       " <thinned_tweet_obj.tweet at 0x7fe4fcbb8310>,\n",
       " <thinned_tweet_obj.tweet at 0x7fe4fcbb88d0>,\n",
       " <thinned_tweet_obj.tweet at 0x7fe4fcbb8c50>,\n",
       " <thinned_tweet_obj.tweet at 0x7fe4fcbb8fd0>,\n",
       " <thinned_tweet_obj.tweet at 0x7fe4fcbb92d0>,\n",
       " <thinned_tweet_obj.tweet at 0x7fe4fcbb9650>,\n",
       " <thinned_tweet_obj.tweet at 0x7fe4fcbb9750>,\n",
       " <thinned_tweet_obj.tweet at 0x7fe4fcbb9a90>,\n",
       " <thinned_tweet_obj.tweet at 0x7fe4fcbb9b10>,\n",
       " <thinned_tweet_obj.tweet at 0x7fe4fcbb9d90>,\n",
       " <thinned_tweet_obj.tweet at 0x7fe4fcbb9ed0>,\n",
       " <thinned_tweet_obj.tweet at 0x7fe4fcbbb290>,\n",
       " <thinned_tweet_obj.tweet at 0x7fe4fcbbb5d0>,\n",
       " <thinned_tweet_obj.tweet at 0x7fe4fcbbb950>,\n",
       " <thinned_tweet_obj.tweet at 0x7fe4fcbbbcd0>,\n",
       " <thinned_tweet_obj.tweet at 0x7fe4fcbbc090>,\n",
       " <thinned_tweet_obj.tweet at 0x7fe4fcbbc690>,\n",
       " <thinned_tweet_obj.tweet at 0x7fe4fcbbc990>,\n",
       " <thinned_tweet_obj.tweet at 0x7fe4fcbbcd50>,\n",
       " <thinned_tweet_obj.tweet at 0x7fe4fcbbf290>,\n",
       " <thinned_tweet_obj.tweet at 0x7fe4fcbbf550>,\n",
       " <thinned_tweet_obj.tweet at 0x7fe4fcbbf890>,\n",
       " <thinned_tweet_obj.tweet at 0x7fe4fcbbfb90>,\n",
       " <thinned_tweet_obj.tweet at 0x7fe4fcbbfc50>,\n",
       " <thinned_tweet_obj.tweet at 0x7fe4fcbbffd0>,\n",
       " <thinned_tweet_obj.tweet at 0x7fe4fcbc0410>,\n",
       " <thinned_tweet_obj.tweet at 0x7fe4fcbc04d0>,\n",
       " <thinned_tweet_obj.tweet at 0x7fe4fcbc08d0>,\n",
       " <thinned_tweet_obj.tweet at 0x7fe4fcbc0b90>,\n",
       " <thinned_tweet_obj.tweet at 0x7fe4fcbc0f10>,\n",
       " <thinned_tweet_obj.tweet at 0x7fe4fcbc1210>,\n",
       " <thinned_tweet_obj.tweet at 0x7fe4fcbc1510>,\n",
       " <thinned_tweet_obj.tweet at 0x7fe4fcbc18d0>,\n",
       " <thinned_tweet_obj.tweet at 0x7fe4fcbc1c50>,\n",
       " <thinned_tweet_obj.tweet at 0x7fe4fcbc1f90>,\n",
       " <thinned_tweet_obj.tweet at 0x7fe4fcbc33d0>,\n",
       " <thinned_tweet_obj.tweet at 0x7fe4fcbc3650>,\n",
       " <thinned_tweet_obj.tweet at 0x7fe4fcbc39d0>,\n",
       " <thinned_tweet_obj.tweet at 0x7fe4fcbc3a90>,\n",
       " <thinned_tweet_obj.tweet at 0x7fe4fcbc3e10>,\n",
       " <thinned_tweet_obj.tweet at 0x7fe4fcbc5310>,\n",
       " <thinned_tweet_obj.tweet at 0x7fe4fcbc5710>,\n",
       " <thinned_tweet_obj.tweet at 0x7fe4fcbc5a90>,\n",
       " <thinned_tweet_obj.tweet at 0x7fe4fcbc5e90>,\n",
       " <thinned_tweet_obj.tweet at 0x7fe4fcbc7190>,\n",
       " <thinned_tweet_obj.tweet at 0x7fe4fcbc76d0>,\n",
       " <thinned_tweet_obj.tweet at 0x7fe4fcbc7c90>,\n",
       " <thinned_tweet_obj.tweet at 0x7fe4fcbc7d50>,\n",
       " <thinned_tweet_obj.tweet at 0x7fe4fcbc8150>,\n",
       " <thinned_tweet_obj.tweet at 0x7fe4fcbc8510>,\n",
       " <thinned_tweet_obj.tweet at 0x7fe4fcbc8850>,\n",
       " <thinned_tweet_obj.tweet at 0x7fe4fcbc8c90>,\n",
       " <thinned_tweet_obj.tweet at 0x7fe4fcbc9090>,\n",
       " <thinned_tweet_obj.tweet at 0x7fe4fcbc9350>,\n",
       " <thinned_tweet_obj.tweet at 0x7fe4fcbc96d0>,\n",
       " <thinned_tweet_obj.tweet at 0x7fe4fcbc9a10>,\n",
       " <thinned_tweet_obj.tweet at 0x7fe4fcbc9d50>,\n",
       " <thinned_tweet_obj.tweet at 0x7fe4fcbcb0d0>,\n",
       " <thinned_tweet_obj.tweet at 0x7fe4fcbcb510>,\n",
       " <thinned_tweet_obj.tweet at 0x7fe4fcbcb8d0>,\n",
       " <thinned_tweet_obj.tweet at 0x7fe4fcbcb990>,\n",
       " <thinned_tweet_obj.tweet at 0x7fe4fcbcd090>,\n",
       " <thinned_tweet_obj.tweet at 0x7fe4fcbcd450>,\n",
       " <thinned_tweet_obj.tweet at 0x7fe4fcbcd7d0>,\n",
       " <thinned_tweet_obj.tweet at 0x7fe4fcbcdbd0>,\n",
       " <thinned_tweet_obj.tweet at 0x7fe4fcbcdfd0>,\n",
       " <thinned_tweet_obj.tweet at 0x7fe4fcbd1290>,\n",
       " <thinned_tweet_obj.tweet at 0x7fe4fcbd1350>,\n",
       " <thinned_tweet_obj.tweet at 0x7fe4fcbd1650>,\n",
       " <thinned_tweet_obj.tweet at 0x7fe4fcbd1910>,\n",
       " <thinned_tweet_obj.tweet at 0x7fe4fcbd1bd0>,\n",
       " <thinned_tweet_obj.tweet at 0x7fe4fcbd1ed0>,\n",
       " <thinned_tweet_obj.tweet at 0x7fe4fcbd1f90>,\n",
       " <thinned_tweet_obj.tweet at 0x7fe4fcbd4290>,\n",
       " <thinned_tweet_obj.tweet at 0x7fe4fcbd45d0>,\n",
       " <thinned_tweet_obj.tweet at 0x7fe4fcbd4990>,\n",
       " <thinned_tweet_obj.tweet at 0x7fe4fcbd4a90>,\n",
       " <thinned_tweet_obj.tweet at 0x7fe4fcbd4e10>,\n",
       " <thinned_tweet_obj.tweet at 0x7fe4fcbd6090>,\n",
       " <thinned_tweet_obj.tweet at 0x7fe4fcbd6490>,\n",
       " <thinned_tweet_obj.tweet at 0x7fe4fcbd6510>,\n",
       " <thinned_tweet_obj.tweet at 0x7fe4fcbd6810>,\n",
       " <thinned_tweet_obj.tweet at 0x7fe4fcbd6b90>,\n",
       " <thinned_tweet_obj.tweet at 0x7fe4fcbd6e90>,\n",
       " <thinned_tweet_obj.tweet at 0x7fe4fcbd81d0>,\n",
       " <thinned_tweet_obj.tweet at 0x7fe4fcbd8650>,\n",
       " <thinned_tweet_obj.tweet at 0x7fe4fcbd8710>,\n",
       " <thinned_tweet_obj.tweet at 0x7fe4fcbd8a10>,\n",
       " <thinned_tweet_obj.tweet at 0x7fe4fcbd8a90>,\n",
       " <thinned_tweet_obj.tweet at 0x7fe4fcbd8d90>,\n",
       " <thinned_tweet_obj.tweet at 0x7fe4fcbdb150>,\n",
       " <thinned_tweet_obj.tweet at 0x7fe4fcbdb490>,\n",
       " <thinned_tweet_obj.tweet at 0x7fe4fcbdb5d0>,\n",
       " <thinned_tweet_obj.tweet at 0x7fe4fcbdbb50>,\n",
       " <thinned_tweet_obj.tweet at 0x7fe4fcbdbf10>,\n",
       " <thinned_tweet_obj.tweet at 0x7fe4fcbdd250>,\n",
       " <thinned_tweet_obj.tweet at 0x7fe4fcbdd650>,\n",
       " <thinned_tweet_obj.tweet at 0x7fe4fcbddb50>,\n",
       " <thinned_tweet_obj.tweet at 0x7fe4fcbddf10>,\n",
       " <thinned_tweet_obj.tweet at 0x7fe4fcbdf3d0>,\n",
       " <thinned_tweet_obj.tweet at 0x7fe4fcbdf490>,\n",
       " <thinned_tweet_obj.tweet at 0x7fe4fcbdf850>,\n",
       " <thinned_tweet_obj.tweet at 0x7fe4fcbdfcd0>,\n",
       " <thinned_tweet_obj.tweet at 0x7fe4fcbe1510>,\n",
       " <thinned_tweet_obj.tweet at 0x7fe4fcbe1c50>,\n",
       " <thinned_tweet_obj.tweet at 0x7fe4fcbe2050>,\n",
       " <thinned_tweet_obj.tweet at 0x7fe4fcbe23d0>,\n",
       " <thinned_tweet_obj.tweet at 0x7fe4fcbe2b90>,\n",
       " <thinned_tweet_obj.tweet at 0x7fe4fcbe2f10>,\n",
       " <thinned_tweet_obj.tweet at 0x7fe4fcbe4510>,\n",
       " <thinned_tweet_obj.tweet at 0x7fe4fcbe4910>,\n",
       " <thinned_tweet_obj.tweet at 0x7fe4fcbe4cd0>,\n",
       " <thinned_tweet_obj.tweet at 0x7fe4fcbe5090>,\n",
       " <thinned_tweet_obj.tweet at 0x7fe4fcbe5450>,\n",
       " <thinned_tweet_obj.tweet at 0x7fe4fcbe5810>,\n",
       " <thinned_tweet_obj.tweet at 0x7fe4fcbe5910>,\n",
       " <thinned_tweet_obj.tweet at 0x7fe4fcbe5b90>,\n",
       " <thinned_tweet_obj.tweet at 0x7fe4fcbe5f50>,\n",
       " <thinned_tweet_obj.tweet at 0x7fe4fcbe83d0>,\n",
       " <thinned_tweet_obj.tweet at 0x7fe4fcbe8790>,\n",
       " <thinned_tweet_obj.tweet at 0x7fe4fcbe8a10>,\n",
       " <thinned_tweet_obj.tweet at 0x7fe4fcbe8ad0>,\n",
       " <thinned_tweet_obj.tweet at 0x7fe4fcbe8e50>,\n",
       " <thinned_tweet_obj.tweet at 0x7fe4fcbeb210>,\n",
       " <thinned_tweet_obj.tweet at 0x7fe4fcbeb310>,\n",
       " <thinned_tweet_obj.tweet at 0x7fe4fcbeb810>,\n",
       " <thinned_tweet_obj.tweet at 0x7fe4fcbebb90>,\n",
       " <thinned_tweet_obj.tweet at 0x7fe4fcbebfd0>,\n",
       " <thinned_tweet_obj.tweet at 0x7fe4fcbee110>,\n",
       " <thinned_tweet_obj.tweet at 0x7fe4fcbee210>,\n",
       " <thinned_tweet_obj.tweet at 0x7fe4fcbee490>,\n",
       " <thinned_tweet_obj.tweet at 0x7fe4fcbeee90>,\n",
       " <thinned_tweet_obj.tweet at 0x7fe4fd671210>,\n",
       " <thinned_tweet_obj.tweet at 0x7fe4fd6712d0>,\n",
       " <thinned_tweet_obj.tweet at 0x7fe4fd6716d0>,\n",
       " <thinned_tweet_obj.tweet at 0x7fe4fd671990>,\n",
       " <thinned_tweet_obj.tweet at 0x7fe4fd6720d0>,\n",
       " <thinned_tweet_obj.tweet at 0x7fe4fd672450>,\n",
       " <thinned_tweet_obj.tweet at 0x7fe4fd672910>,\n",
       " <thinned_tweet_obj.tweet at 0x7fe4fd672c50>,\n",
       " <thinned_tweet_obj.tweet at 0x7fe4fd672fd0>,\n",
       " <thinned_tweet_obj.tweet at 0x7fe4fd673310>,\n",
       " <thinned_tweet_obj.tweet at 0x7fe4fd673790>,\n",
       " <thinned_tweet_obj.tweet at 0x7fe4fd673b10>,\n",
       " <thinned_tweet_obj.tweet at 0x7fe4fd673ed0>,\n",
       " <thinned_tweet_obj.tweet at 0x7fe4fd6752d0>,\n",
       " <thinned_tweet_obj.tweet at 0x7fe4fd675690>,\n",
       " <thinned_tweet_obj.tweet at 0x7fe4fd675a10>,\n",
       " <thinned_tweet_obj.tweet at 0x7fe4fd679050>,\n",
       " <thinned_tweet_obj.tweet at 0x7fe4fd679350>,\n",
       " <thinned_tweet_obj.tweet at 0x7fe4fd6796d0>,\n",
       " <thinned_tweet_obj.tweet at 0x7fe4fd679990>,\n",
       " <thinned_tweet_obj.tweet at 0x7fe4fd679c90>,\n",
       " <thinned_tweet_obj.tweet at 0x7fe4fd67a090>,\n",
       " <thinned_tweet_obj.tweet at 0x7fe4fd67a490>,\n",
       " <thinned_tweet_obj.tweet at 0x7fe4fd67a910>,\n",
       " <thinned_tweet_obj.tweet at 0x7fe4fd67ac10>,\n",
       " <thinned_tweet_obj.tweet at 0x7fe4fd67ad50>,\n",
       " <thinned_tweet_obj.tweet at 0x7fe4fd67c0d0>,\n",
       " <thinned_tweet_obj.tweet at 0x7fe4fd67c450>,\n",
       " <thinned_tweet_obj.tweet at 0x7fe4fd67c790>,\n",
       " <thinned_tweet_obj.tweet at 0x7fe4fd67cb10>,\n",
       " <thinned_tweet_obj.tweet at 0x7fe4fd67ce50>,\n",
       " <thinned_tweet_obj.tweet at 0x7fe4fd67d390>,\n",
       " <thinned_tweet_obj.tweet at 0x7fe4fd67d8d0>,\n",
       " <thinned_tweet_obj.tweet at 0x7fe4fd67dc90>,\n",
       " <thinned_tweet_obj.tweet at 0x7fe4fd67f1d0>,\n",
       " <thinned_tweet_obj.tweet at 0x7fe4fd67f290>,\n",
       " <thinned_tweet_obj.tweet at 0x7fe4fd67f690>,\n",
       " <thinned_tweet_obj.tweet at 0x7fe4fd67fa50>,\n",
       " <thinned_tweet_obj.tweet at 0x7fe4fd681410>,\n",
       " <thinned_tweet_obj.tweet at 0x7fe4fd681790>,\n",
       " <thinned_tweet_obj.tweet at 0x7fe4fd681d10>,\n",
       " <thinned_tweet_obj.tweet at 0x7fe4fd682190>,\n",
       " <thinned_tweet_obj.tweet at 0x7fe4fd682590>,\n",
       " <thinned_tweet_obj.tweet at 0x7fe4fd6828d0>,\n",
       " <thinned_tweet_obj.tweet at 0x7fe4fd682c10>,\n",
       " <thinned_tweet_obj.tweet at 0x7fe4fd6857d0>,\n",
       " <thinned_tweet_obj.tweet at 0x7fe4fd685b50>,\n",
       " <thinned_tweet_obj.tweet at 0x7fe4fd685ed0>,\n",
       " <thinned_tweet_obj.tweet at 0x7fe4fd6877d0>,\n",
       " <thinned_tweet_obj.tweet at 0x7fe4fd687890>,\n",
       " <thinned_tweet_obj.tweet at 0x7fe4fd687c50>,\n",
       " <thinned_tweet_obj.tweet at 0x7fe4fd688090>,\n",
       " <thinned_tweet_obj.tweet at 0x7fe4fd688450>,\n",
       " <thinned_tweet_obj.tweet at 0x7fe4fd688810>,\n",
       " <thinned_tweet_obj.tweet at 0x7fe4fd688e10>,\n",
       " <thinned_tweet_obj.tweet at 0x7fe4fd688ed0>,\n",
       " <thinned_tweet_obj.tweet at 0x7fe4fd689250>,\n",
       " <thinned_tweet_obj.tweet at 0x7fe4fd689510>,\n",
       " <thinned_tweet_obj.tweet at 0x7fe4fd689890>,\n",
       " <thinned_tweet_obj.tweet at 0x7fe4fd689b50>,\n",
       " <thinned_tweet_obj.tweet at 0x7fe4fd689e90>,\n",
       " <thinned_tweet_obj.tweet at 0x7fe4fd68b150>,\n",
       " <thinned_tweet_obj.tweet at 0x7fe4fd68b410>,\n",
       " <thinned_tweet_obj.tweet at 0x7fe4fd68b750>,\n",
       " <thinned_tweet_obj.tweet at 0x7fe4fd68bad0>,\n",
       " <thinned_tweet_obj.tweet at 0x7fe4fd68bf10>,\n",
       " <thinned_tweet_obj.tweet at 0x7fe4fd68e450>,\n",
       " <thinned_tweet_obj.tweet at 0x7fe4fd68e790>,\n",
       " <thinned_tweet_obj.tweet at 0x7fe4fd68ebd0>,\n",
       " <thinned_tweet_obj.tweet at 0x7fe4fd68ee90>,\n",
       " <thinned_tweet_obj.tweet at 0x7fe4fd68f310>,\n",
       " <thinned_tweet_obj.tweet at 0x7fe4fd68f850>,\n",
       " <thinned_tweet_obj.tweet at 0x7fe4fd68fb10>,\n",
       " <thinned_tweet_obj.tweet at 0x7fe4fd68fe10>,\n",
       " <thinned_tweet_obj.tweet at 0x7fe4fd692310>,\n",
       " <thinned_tweet_obj.tweet at 0x7fe4fd692650>,\n",
       " <thinned_tweet_obj.tweet at 0x7fe4fd692710>,\n",
       " <thinned_tweet_obj.tweet at 0x7fe4fd692b10>,\n",
       " <thinned_tweet_obj.tweet at 0x7fe4fd692d90>,\n",
       " <thinned_tweet_obj.tweet at 0x7fe4fd6942d0>,\n",
       " <thinned_tweet_obj.tweet at 0x7fe4fd694610>,\n",
       " <thinned_tweet_obj.tweet at 0x7fe4fd694910>,\n",
       " <thinned_tweet_obj.tweet at 0x7fe4fd694c10>,\n",
       " <thinned_tweet_obj.tweet at 0x7fe4fd694f10>,\n",
       " <thinned_tweet_obj.tweet at 0x7fe4fd696350>,\n",
       " <thinned_tweet_obj.tweet at 0x7fe4fd696810>,\n",
       " <thinned_tweet_obj.tweet at 0x7fe4fd696b10>,\n",
       " <thinned_tweet_obj.tweet at 0x7fe4fd696f10>,\n",
       " <thinned_tweet_obj.tweet at 0x7fe4fd6971d0>,\n",
       " <thinned_tweet_obj.tweet at 0x7fe4fd697590>,\n",
       " <thinned_tweet_obj.tweet at 0x7fe4fd697950>,\n",
       " <thinned_tweet_obj.tweet at 0x7fe4fd697a10>,\n",
       " <thinned_tweet_obj.tweet at 0x7fe4fd697d10>,\n",
       " <thinned_tweet_obj.tweet at 0x7fe4fd697d90>,\n",
       " <thinned_tweet_obj.tweet at 0x7fe4fd6980d0>,\n",
       " <thinned_tweet_obj.tweet at 0x7fe4fd6984d0>,\n",
       " <thinned_tweet_obj.tweet at 0x7fe4fd698910>,\n",
       " <thinned_tweet_obj.tweet at 0x7fe4fd698990>,\n",
       " <thinned_tweet_obj.tweet at 0x7fe4fd698d10>,\n",
       " <thinned_tweet_obj.tweet at 0x7fe4fd69a1d0>,\n",
       " <thinned_tweet_obj.tweet at 0x7fe4fd69a690>,\n",
       " <thinned_tweet_obj.tweet at 0x7fe4fd69a990>,\n",
       " <thinned_tweet_obj.tweet at 0x7fe4fd69ac90>,\n",
       " <thinned_tweet_obj.tweet at 0x7fe4fd69e050>,\n",
       " <thinned_tweet_obj.tweet at 0x7fe4fd69e410>,\n",
       " <thinned_tweet_obj.tweet at 0x7fe4fd69e750>,\n",
       " <thinned_tweet_obj.tweet at 0x7fe4fd69ec10>,\n",
       " <thinned_tweet_obj.tweet at 0x7fe4fd69ef10>,\n",
       " <thinned_tweet_obj.tweet at 0x7fe4fd6a1250>,\n",
       " <thinned_tweet_obj.tweet at 0x7fe4fd6a1590>,\n",
       " <thinned_tweet_obj.tweet at 0x7fe4fd6a1a10>,\n",
       " <thinned_tweet_obj.tweet at 0x7fe4fd6a1d90>,\n",
       " <thinned_tweet_obj.tweet at 0x7fe4fd6a2190>,\n",
       " <thinned_tweet_obj.tweet at 0x7fe4fd6a24d0>,\n",
       " <thinned_tweet_obj.tweet at 0x7fe4fd6a2b50>,\n",
       " <thinned_tweet_obj.tweet at 0x7fe4fd6a2e10>,\n",
       " <thinned_tweet_obj.tweet at 0x7fe4fd6a3210>,\n",
       " <thinned_tweet_obj.tweet at 0x7fe4fd6a3590>,\n",
       " <thinned_tweet_obj.tweet at 0x7fe4fd6a3a10>,\n",
       " <thinned_tweet_obj.tweet at 0x7fe4fd6a3dd0>,\n",
       " <thinned_tweet_obj.tweet at 0x7fe4fd6a5090>,\n",
       " <thinned_tweet_obj.tweet at 0x7fe4fd6a5350>,\n",
       " <thinned_tweet_obj.tweet at 0x7fe4fd6a59d0>,\n",
       " <thinned_tweet_obj.tweet at 0x7fe4fd6a6590>,\n",
       " <thinned_tweet_obj.tweet at 0x7fe4fd6a6890>,\n",
       " <thinned_tweet_obj.tweet at 0x7fe4fd6a6c10>,\n",
       " <thinned_tweet_obj.tweet at 0x7fe4fd6a6fd0>,\n",
       " <thinned_tweet_obj.tweet at 0x7fe4fd6a83d0>,\n",
       " <thinned_tweet_obj.tweet at 0x7fe4fd6a8750>,\n",
       " <thinned_tweet_obj.tweet at 0x7fe4fd6a8b10>,\n",
       " <thinned_tweet_obj.tweet at 0x7fe4fd6a8c90>,\n",
       " <thinned_tweet_obj.tweet at 0x7fe4fd6ac050>,\n",
       " <thinned_tweet_obj.tweet at 0x7fe4fd6ac110>,\n",
       " <thinned_tweet_obj.tweet at 0x7fe4fd6ac510>,\n",
       " <thinned_tweet_obj.tweet at 0x7fe4fd6ac910>,\n",
       " <thinned_tweet_obj.tweet at 0x7fe4fd6acd10>,\n",
       " <thinned_tweet_obj.tweet at 0x7fe4fd6acfd0>,\n",
       " <thinned_tweet_obj.tweet at 0x7fe4fd6ae350>,\n",
       " <thinned_tweet_obj.tweet at 0x7fe4fd6ae750>,\n",
       " <thinned_tweet_obj.tweet at 0x7fe4fd6aea10>,\n",
       " <thinned_tweet_obj.tweet at 0x7fe4fd6aed50>,\n",
       " <thinned_tweet_obj.tweet at 0x7fe4fd6aee10>,\n",
       " <thinned_tweet_obj.tweet at 0x7fe4fd6b0290>,\n",
       " <thinned_tweet_obj.tweet at 0x7fe4fd6b0650>,\n",
       " <thinned_tweet_obj.tweet at 0x7fe4fd6b0a10>,\n",
       " <thinned_tweet_obj.tweet at 0x7fe4fd6b0d50>,\n",
       " <thinned_tweet_obj.tweet at 0x7fe4fd6b1210>,\n",
       " <thinned_tweet_obj.tweet at 0x7fe4fd6b1310>,\n",
       " <thinned_tweet_obj.tweet at 0x7fe4fd6b15d0>,\n",
       " <thinned_tweet_obj.tweet at 0x7fe4fd6b1690>,\n",
       " <thinned_tweet_obj.tweet at 0x7fe4fd6b1b10>,\n",
       " <thinned_tweet_obj.tweet at 0x7fe4fd6b1e50>,\n",
       " <thinned_tweet_obj.tweet at 0x7fe4fd6b34d0>,\n",
       " <thinned_tweet_obj.tweet at 0x7fe4fd6b3850>,\n",
       " <thinned_tweet_obj.tweet at 0x7fe4fd6b3ad0>,\n",
       " <thinned_tweet_obj.tweet at 0x7fe4fd6b3e10>,\n",
       " <thinned_tweet_obj.tweet at 0x7fe4fd6b5150>,\n",
       " <thinned_tweet_obj.tweet at 0x7fe4fd6b5690>,\n",
       " <thinned_tweet_obj.tweet at 0x7fe4fd6b5a90>,\n",
       " <thinned_tweet_obj.tweet at 0x7fe4fd6b5ed0>,\n",
       " <thinned_tweet_obj.tweet at 0x7fe4fd6b82d0>,\n",
       " <thinned_tweet_obj.tweet at 0x7fe4fd6b83d0>,\n",
       " <thinned_tweet_obj.tweet at 0x7fe4fd6b87d0>,\n",
       " <thinned_tweet_obj.tweet at 0x7fe4fd6b8b10>,\n",
       " <thinned_tweet_obj.tweet at 0x7fe4fd6b8d90>,\n",
       " <thinned_tweet_obj.tweet at 0x7fe4fd6b8e10>,\n",
       " <thinned_tweet_obj.tweet at 0x7fe4fd6b92d0>,\n",
       " <thinned_tweet_obj.tweet at 0x7fe4fd6b9650>,\n",
       " <thinned_tweet_obj.tweet at 0x7fe4fd6b9bd0>,\n",
       " <thinned_tweet_obj.tweet at 0x7fe4fd6b9f50>,\n",
       " <thinned_tweet_obj.tweet at 0x7fe4fd6ba490>,\n",
       " <thinned_tweet_obj.tweet at 0x7fe4fd6ba590>,\n",
       " <thinned_tweet_obj.tweet at 0x7fe4fd6ba950>,\n",
       " <thinned_tweet_obj.tweet at 0x7fe4fd6bac90>,\n",
       " <thinned_tweet_obj.tweet at 0x7fe4fd6bafd0>,\n",
       " <thinned_tweet_obj.tweet at 0x7fe4fd6bd390>,\n",
       " <thinned_tweet_obj.tweet at 0x7fe4fd6bd650>,\n",
       " <thinned_tweet_obj.tweet at 0x7fe4fd6bda50>,\n",
       " <thinned_tweet_obj.tweet at 0x7fe4fd6bddd0>,\n",
       " <thinned_tweet_obj.tweet at 0x7fe4fd6bf190>,\n",
       " <thinned_tweet_obj.tweet at 0x7fe4fd6bf250>,\n",
       " <thinned_tweet_obj.tweet at 0x7fe4fd6bf5d0>,\n",
       " <thinned_tweet_obj.tweet at 0x7fe4fd6bfa10>,\n",
       " <thinned_tweet_obj.tweet at 0x7fe4fd6bfcd0>,\n",
       " <thinned_tweet_obj.tweet at 0x7fe4fd6c2210>,\n",
       " <thinned_tweet_obj.tweet at 0x7fe4fd6c2550>,\n",
       " <thinned_tweet_obj.tweet at 0x7fe4fd6c2910>,\n",
       " <thinned_tweet_obj.tweet at 0x7fe4fd6c2b90>,\n",
       " <thinned_tweet_obj.tweet at 0x7fe4fd6c2ed0>,\n",
       " <thinned_tweet_obj.tweet at 0x7fe4fd6c4210>,\n",
       " <thinned_tweet_obj.tweet at 0x7fe4fd6c44d0>,\n",
       " <thinned_tweet_obj.tweet at 0x7fe4fd6c4710>,\n",
       " <thinned_tweet_obj.tweet at 0x7fe4fd6c4a90>,\n",
       " <thinned_tweet_obj.tweet at 0x7fe4fd6c4b50>,\n",
       " <thinned_tweet_obj.tweet at 0x7fe4fd6c4e90>,\n",
       " <thinned_tweet_obj.tweet at 0x7fe4fd6c5250>,\n",
       " <thinned_tweet_obj.tweet at 0x7fe4fd6c5310>,\n",
       " <thinned_tweet_obj.tweet at 0x7fe4fd6c5650>,\n",
       " <thinned_tweet_obj.tweet at 0x7fe4fd6c5990>,\n",
       " <thinned_tweet_obj.tweet at 0x7fe4fd6c5cd0>,\n",
       " <thinned_tweet_obj.tweet at 0x7fe4fd6c6110>,\n",
       " <thinned_tweet_obj.tweet at 0x7fe4fd6c61d0>,\n",
       " <thinned_tweet_obj.tweet at 0x7fe4fd6c6910>,\n",
       " <thinned_tweet_obj.tweet at 0x7fe4fd6c6d10>,\n",
       " <thinned_tweet_obj.tweet at 0x7fe4fd6c9050>,\n",
       " <thinned_tweet_obj.tweet at 0x7fe4fd6c9410>,\n",
       " <thinned_tweet_obj.tweet at 0x7fe4fd6c98d0>,\n",
       " <thinned_tweet_obj.tweet at 0x7fe4fd6c9c90>,\n",
       " <thinned_tweet_obj.tweet at 0x7fe4fd6c9f10>,\n",
       " <thinned_tweet_obj.tweet at 0x7fe4fd6c9f90>,\n",
       " <thinned_tweet_obj.tweet at 0x7fe4fd6cb2d0>,\n",
       " <thinned_tweet_obj.tweet at 0x7fe4fd6cb610>,\n",
       " <thinned_tweet_obj.tweet at 0x7fe4fd6cb990>,\n",
       " <thinned_tweet_obj.tweet at 0x7fe4fd6cbc10>,\n",
       " <thinned_tweet_obj.tweet at 0x7fe4fd6cd110>,\n",
       " <thinned_tweet_obj.tweet at 0x7fe4fd6cd3d0>,\n",
       " <thinned_tweet_obj.tweet at 0x7fe4fd6cd790>,\n",
       " <thinned_tweet_obj.tweet at 0x7fe4fd6cdb50>,\n",
       " <thinned_tweet_obj.tweet at 0x7fe4fd6cdc50>,\n",
       " <thinned_tweet_obj.tweet at 0x7fe4fd6cf190>,\n",
       " <thinned_tweet_obj.tweet at 0x7fe4fd6cf4d0>,\n",
       " <thinned_tweet_obj.tweet at 0x7fe4fd6cf890>,\n",
       " <thinned_tweet_obj.tweet at 0x7fe4fd6cfbd0>,\n",
       " <thinned_tweet_obj.tweet at 0x7fe4fd6cffd0>,\n",
       " <thinned_tweet_obj.tweet at 0x7fe4fd6d1390>,\n",
       " <thinned_tweet_obj.tweet at 0x7fe4fd6d1750>,\n",
       " <thinned_tweet_obj.tweet at 0x7fe4fd6d1b50>,\n",
       " <thinned_tweet_obj.tweet at 0x7fe4fd6d1e10>,\n",
       " <thinned_tweet_obj.tweet at 0x7fe4fd6d4210>,\n",
       " <thinned_tweet_obj.tweet at 0x7fe4fd6d42d0>,\n",
       " <thinned_tweet_obj.tweet at 0x7fe4fd6d4350>,\n",
       " <thinned_tweet_obj.tweet at 0x7fe4fd6d4750>,\n",
       " <thinned_tweet_obj.tweet at 0x7fe4fd6d4a90>,\n",
       " <thinned_tweet_obj.tweet at 0x7fe4fd6d4e50>,\n",
       " <thinned_tweet_obj.tweet at 0x7fe4fd6d62d0>,\n",
       " <thinned_tweet_obj.tweet at 0x7fe4fd6d6550>,\n",
       " <thinned_tweet_obj.tweet at 0x7fe4fd6d6810>,\n",
       " <thinned_tweet_obj.tweet at 0x7fe4fd6d6b50>,\n",
       " <thinned_tweet_obj.tweet at 0x7fe4fd6d6f10>,\n",
       " <thinned_tweet_obj.tweet at 0x7fe4fd6d8250>,\n",
       " <thinned_tweet_obj.tweet at 0x7fe4fd6d85d0>,\n",
       " <thinned_tweet_obj.tweet at 0x7fe4fd6d8a90>,\n",
       " <thinned_tweet_obj.tweet at 0x7fe4fd6d8dd0>,\n",
       " <thinned_tweet_obj.tweet at 0x7fe4fd6da150>,\n",
       " <thinned_tweet_obj.tweet at 0x7fe4fd6da690>,\n",
       " <thinned_tweet_obj.tweet at 0x7fe4fd6dacd0>,\n",
       " <thinned_tweet_obj.tweet at 0x7fe4fd6dc090>,\n",
       " <thinned_tweet_obj.tweet at 0x7fe4fd6dc450>,\n",
       " <thinned_tweet_obj.tweet at 0x7fe4fd6dc6d0>,\n",
       " <thinned_tweet_obj.tweet at 0x7fe4fd6dca50>,\n",
       " <thinned_tweet_obj.tweet at 0x7fe4fd6dcad0>,\n",
       " <thinned_tweet_obj.tweet at 0x7fe4fd6dced0>,\n",
       " <thinned_tweet_obj.tweet at 0x7fe4fd6de310>,\n",
       " <thinned_tweet_obj.tweet at 0x7fe4fd6de6d0>,\n",
       " <thinned_tweet_obj.tweet at 0x7fe4fd6dea50>,\n",
       " <thinned_tweet_obj.tweet at 0x7fe4fd6dee50>,\n",
       " <thinned_tweet_obj.tweet at 0x7fe4fd6df150>,\n",
       " <thinned_tweet_obj.tweet at 0x7fe4fd6df510>,\n",
       " <thinned_tweet_obj.tweet at 0x7fe4fd6df850>,\n",
       " <thinned_tweet_obj.tweet at 0x7fe4fd6dfb90>,\n",
       " <thinned_tweet_obj.tweet at 0x7fe4fd6dff10>,\n",
       " <thinned_tweet_obj.tweet at 0x7fe4fd6e2250>,\n",
       " <thinned_tweet_obj.tweet at 0x7fe4fd6e2310>,\n",
       " <thinned_tweet_obj.tweet at 0x7fe4fd6e2690>,\n",
       " <thinned_tweet_obj.tweet at 0x7fe4fd6e2a50>,\n",
       " <thinned_tweet_obj.tweet at 0x7fe4fd6e4110>,\n",
       " <thinned_tweet_obj.tweet at 0x7fe4fd6e4450>,\n",
       " <thinned_tweet_obj.tweet at 0x7fe4fd6e47d0>,\n",
       " <thinned_tweet_obj.tweet at 0x7fe4fd6e4a90>,\n",
       " <thinned_tweet_obj.tweet at 0x7fe4fd6e5050>,\n",
       " <thinned_tweet_obj.tweet at 0x7fe4fd6e5790>,\n",
       " <thinned_tweet_obj.tweet at 0x7fe4fd6e5c90>,\n",
       " <thinned_tweet_obj.tweet at 0x7fe4fd6e7050>,\n",
       " <thinned_tweet_obj.tweet at 0x7fe4fd6e7410>,\n",
       " <thinned_tweet_obj.tweet at 0x7fe4fd6e77d0>,\n",
       " <thinned_tweet_obj.tweet at 0x7fe4fd6e7b10>,\n",
       " <thinned_tweet_obj.tweet at 0x7fe4fd6e7f90>,\n",
       " <thinned_tweet_obj.tweet at 0x7fe4fd6e92d0>,\n",
       " <thinned_tweet_obj.tweet at 0x7fe4fd6e9650>,\n",
       " <thinned_tweet_obj.tweet at 0x7fe4fd6e9a50>,\n",
       " <thinned_tweet_obj.tweet at 0x7fe4fd6e9e10>,\n",
       " <thinned_tweet_obj.tweet at 0x7fe4fd6ea190>,\n",
       " <thinned_tweet_obj.tweet at 0x7fe4fd6ea490>,\n",
       " <thinned_tweet_obj.tweet at 0x7fe4fd6ea810>,\n",
       " <thinned_tweet_obj.tweet at 0x7fe4fd6ea890>,\n",
       " <thinned_tweet_obj.tweet at 0x7fe4fd6eac90>,\n",
       " <thinned_tweet_obj.tweet at 0x7fe4fd6ec0d0>,\n",
       " <thinned_tweet_obj.tweet at 0x7fe4fd6ec3d0>,\n",
       " <thinned_tweet_obj.tweet at 0x7fe4fd6ec790>,\n",
       " <thinned_tweet_obj.tweet at 0x7fe4fd6ecbd0>,\n",
       " <thinned_tweet_obj.tweet at 0x7fe4fd6ecfd0>,\n",
       " <thinned_tweet_obj.tweet at 0x7fe4fd6ef2d0>,\n",
       " <thinned_tweet_obj.tweet at 0x7fe4fd6ef690>,\n",
       " <thinned_tweet_obj.tweet at 0x7fe4fd6ef950>,\n",
       " <thinned_tweet_obj.tweet at 0x7fe4fd6f0110>,\n",
       " <thinned_tweet_obj.tweet at 0x7fe4fd6f0450>,\n",
       " <thinned_tweet_obj.tweet at 0x7fe4fd6f0510>,\n",
       " <thinned_tweet_obj.tweet at 0x7fe4fd6f08d0>,\n",
       " <thinned_tweet_obj.tweet at 0x7fe4fd6f0950>,\n",
       " <thinned_tweet_obj.tweet at 0x7fe4fd6f0d10>,\n",
       " <thinned_tweet_obj.tweet at 0x7fe4fd6f1090>,\n",
       " <thinned_tweet_obj.tweet at 0x7fe4fd6f1590>,\n",
       " <thinned_tweet_obj.tweet at 0x7fe4fd6f1690>,\n",
       " <thinned_tweet_obj.tweet at 0x7fe4fd6f1a50>,\n",
       " <thinned_tweet_obj.tweet at 0x7fe4fd6f2150>,\n",
       " <thinned_tweet_obj.tweet at 0x7fe4fd6f2510>,\n",
       " <thinned_tweet_obj.tweet at 0x7fe4fd6f2a50>,\n",
       " <thinned_tweet_obj.tweet at 0x7fe4fd6f2b10>,\n",
       " <thinned_tweet_obj.tweet at 0x7fe4fd6f2e10>,\n",
       " <thinned_tweet_obj.tweet at 0x7fe4fd6f4250>,\n",
       " <thinned_tweet_obj.tweet at 0x7fe4fd6f4510>,\n",
       " <thinned_tweet_obj.tweet at 0x7fe4fd6f4cd0>,\n",
       " <thinned_tweet_obj.tweet at 0x7fe4fd6f4fd0>,\n",
       " <thinned_tweet_obj.tweet at 0x7fe4fd6f6510>,\n",
       " <thinned_tweet_obj.tweet at 0x7fe4fd6f67d0>,\n",
       " <thinned_tweet_obj.tweet at 0x7fe4fd6f6b50>,\n",
       " <thinned_tweet_obj.tweet at 0x7fe4fd6f6e90>,\n",
       " <thinned_tweet_obj.tweet at 0x7fe4fd6f6f50>,\n",
       " <thinned_tweet_obj.tweet at 0x7fe4fd6f7090>,\n",
       " <thinned_tweet_obj.tweet at 0x7fe4fd6f7410>,\n",
       " <thinned_tweet_obj.tweet at 0x7fe4fd6f7790>,\n",
       " <thinned_tweet_obj.tweet at 0x7fe4fd6f7a50>,\n",
       " <thinned_tweet_obj.tweet at 0x7fe4fd6f7f90>,\n",
       " <thinned_tweet_obj.tweet at 0x7fe4fd6f9350>,\n",
       " <thinned_tweet_obj.tweet at 0x7fe4fd6f99d0>,\n",
       " <thinned_tweet_obj.tweet at 0x7fe4fd6f9e50>,\n",
       " <thinned_tweet_obj.tweet at 0x7fe4fd6fb450>,\n",
       " <thinned_tweet_obj.tweet at 0x7fe4fd6fb790>,\n",
       " <thinned_tweet_obj.tweet at 0x7fe4fd6fbd50>,\n",
       " <thinned_tweet_obj.tweet at 0x7fe4fd6fe190>,\n",
       " <thinned_tweet_obj.tweet at 0x7fe4fd6fe550>,\n",
       " <thinned_tweet_obj.tweet at 0x7fe4fd6fe910>,\n",
       " <thinned_tweet_obj.tweet at 0x7fe4fd6fed10>,\n",
       " <thinned_tweet_obj.tweet at 0x7fe4fd6fefd0>,\n",
       " <thinned_tweet_obj.tweet at 0x7fe4fd701490>,\n",
       " <thinned_tweet_obj.tweet at 0x7fe4fd7017d0>,\n",
       " <thinned_tweet_obj.tweet at 0x7fe4fd701b10>,\n",
       " <thinned_tweet_obj.tweet at 0x7fe4fd701fd0>,\n",
       " <thinned_tweet_obj.tweet at 0x7fe4fd702090>,\n",
       " <thinned_tweet_obj.tweet at 0x7fe4fd702850>,\n",
       " <thinned_tweet_obj.tweet at 0x7fe4fd702d90>,\n",
       " <thinned_tweet_obj.tweet at 0x7fe4fd704290>,\n",
       " <thinned_tweet_obj.tweet at 0x7fe4fd704690>,\n",
       " <thinned_tweet_obj.tweet at 0x7fe4fd704a10>,\n",
       " <thinned_tweet_obj.tweet at 0x7fe4fd704d50>,\n",
       " <thinned_tweet_obj.tweet at 0x7fe4fd7071d0>,\n",
       " <thinned_tweet_obj.tweet at 0x7fe4fd7072d0>,\n",
       " <thinned_tweet_obj.tweet at 0x7fe4fd707710>,\n",
       " ...]"
      ]
     },
     "execution_count": 557,
     "metadata": {},
     "output_type": "execute_result"
    }
   ],
   "source": [
    "gdrive_quickstart.download_pkl_file(DRIVE, file_objs_lst[0])"
   ]
  },
  {
   "cell_type": "code",
   "execution_count": 542,
   "metadata": {},
   "outputs": [
    {
     "name": "stdout",
     "output_type": "stream",
     "text": [
      "Download 46%.\n",
      "Download 93%.\n",
      "Download 100%.\n"
     ]
    },
    {
     "data": {
      "text/plain": [
       "{'tweet_id': '1302099720249257984',\n",
       " 'text': 'RT @KellyannePolls: Aug 2020 8.4% unemployment (with pandemic)\\nAug 2012  8.1%  unemployment (Biden VP, no pandemic)',\n",
       " 'hashtags': [],\n",
       " 'mentions': [{'screen_name': 'KellyannePolls',\n",
       "   'name': 'Kellyanne Conway',\n",
       "   'id': 471672239,\n",
       "   'id_str': '471672239',\n",
       "   'indices': [3, 18]}],\n",
       " 'user': <thinned_tweet_obj.tweet_user at 0x7fe5bd3c7a10>,\n",
       " 'retweet': <thinned_tweet_obj.tweet at 0x7fe5e9674310>,\n",
       " 'retweet_count': 0,\n",
       " 'in_reply': '',\n",
       " 'quote': None,\n",
       " 'quote_status': True,\n",
       " 'favorited': False,\n",
       " 'favorite_count': 0}"
      ]
     },
     "execution_count": 542,
     "metadata": {},
     "output_type": "execute_result"
    }
   ],
   "source": [
    "thinned_obj_tweets_test = gdrive_quickstart.download_pkl_file(file_objs_lst[0], DRIVE)\n",
    "thinned_obj_tweets_test[0].__dict__"
   ]
  },
  {
   "cell_type": "code",
   "execution_count": 537,
   "metadata": {},
   "outputs": [
    {
     "data": {
      "text/plain": [
       "{'tweet_id': '1302099720496648199',\n",
       " 'text': 'RT @Kastia: This is the energy I want to have during 2020 and beyond. https://t.co/rq9oYDVQZe',\n",
       " 'hashtags': [],\n",
       " 'mentions': [{'screen_name': 'Kastia',\n",
       "   'name': 'Kaitlin 🍅End White Supremacy🍅',\n",
       "   'id': 14365564,\n",
       "   'id_str': '14365564',\n",
       "   'indices': [3, 10]}],\n",
       " 'user': <thinned_tweet_obj.tweet_user at 0x7fe5bd53c850>,\n",
       " 'retweet': <thinned_tweet_obj.tweet at 0x7fe5bd53c890>,\n",
       " 'retweet_count': 0,\n",
       " 'in_reply': '',\n",
       " 'quote': None,\n",
       " 'quote_status': False,\n",
       " 'favorited': False,\n",
       " 'favorite_count': 0}"
      ]
     },
     "execution_count": 537,
     "metadata": {},
     "output_type": "execute_result"
    }
   ],
   "source": [
    "thinned_obj_tweets[1].__dict__"
   ]
  },
  {
   "cell_type": "code",
   "execution_count": 516,
   "metadata": {},
   "outputs": [
    {
     "data": {
      "text/plain": [
       "[{'kind': 'drive#file',\n",
       "  'id': '1BeliQpW2Lmg4kckqI9iN1CDHqkVorAoC',\n",
       "  'name': 'combined_tweets-2020-09-05.pkl',\n",
       "  'mimeType': 'application/octet-stream'},\n",
       " {'kind': 'drive#file',\n",
       "  'id': '1uLS5XEtjA4bgvVskgQy0TeuMaGSsebSN',\n",
       "  'name': 'combined_tweets-2020-09-04.pkl',\n",
       "  'mimeType': 'application/octet-stream'},\n",
       " {'kind': 'drive#file',\n",
       "  'id': '1LQ48j2qk2eeqyMHfjlGa6kPMslJNXHHI',\n",
       "  'name': 'combined_tweets-2020-09-03.pkl',\n",
       "  'mimeType': 'application/octet-stream'},\n",
       " {'kind': 'drive#file',\n",
       "  'id': '12TSR36JjRHjCUYJjMqC-xt-1nP4utUpN',\n",
       "  'name': 'combined_tweets-2020-09-02.pkl',\n",
       "  'mimeType': 'application/octet-stream'},\n",
       " {'kind': 'drive#file',\n",
       "  'id': '171LpmfVcraVJ1KpgQLuyIrnmDEaLA-1A',\n",
       "  'name': 'combined_tweets-2020-09-01.pkl',\n",
       "  'mimeType': 'application/octet-stream'},\n",
       " {'kind': 'drive#file',\n",
       "  'id': '1jrw7f-tsv5nJ3abl5SV0Gdp5HwcUvB26',\n",
       "  'name': 'combined_tweets-2020-08-31.pkl',\n",
       "  'mimeType': 'application/octet-stream'},\n",
       " {'kind': 'drive#file',\n",
       "  'id': '1c8Slfc05wSMuavqZyDyFvtzbXUHmDkdR',\n",
       "  'name': 'combined_tweets-2020-08-30.pkl',\n",
       "  'mimeType': 'application/octet-stream'},\n",
       " {'kind': 'drive#file',\n",
       "  'id': '1Q8aq01NzLLHT4xEtikeEe96y3jW_b8He',\n",
       "  'name': 'combined_tweets-2020-08-29.pkl',\n",
       "  'mimeType': 'application/octet-stream'},\n",
       " {'kind': 'drive#file',\n",
       "  'id': '1Zu3OexSVhEQ5RN4XGgA0rX8lZC8LvAtW',\n",
       "  'name': 'combined_tweets-2020-08-28.pkl',\n",
       "  'mimeType': 'application/octet-stream'},\n",
       " {'kind': 'drive#file',\n",
       "  'id': '1nlqfB3oMcPgGipxK_S97MC4dLK1dgHDh',\n",
       "  'name': 'combined_tweets-2020-08-27.pkl',\n",
       "  'mimeType': 'application/octet-stream'},\n",
       " {'kind': 'drive#file',\n",
       "  'id': '1OQ2JQjJdAvYy9pihme1973XtWPSpVooc',\n",
       "  'name': 'combined_tweets-2020-08-26.pkl',\n",
       "  'mimeType': 'application/octet-stream'},\n",
       " {'kind': 'drive#file',\n",
       "  'id': '1xm_YzGjToWDDWgsgtHHa57QPMtvdd3Re',\n",
       "  'name': 'combined_tweets-2020-08-25.pkl',\n",
       "  'mimeType': 'application/octet-stream'},\n",
       " {'kind': 'drive#file',\n",
       "  'id': '1hyvXyUnP6oRZh-uabyrsBGqEcu75Jf4Z',\n",
       "  'name': 'combined_tweets-2020-08-23.pkl',\n",
       "  'mimeType': 'application/octet-stream'},\n",
       " {'kind': 'drive#file',\n",
       "  'id': '1TAkQ2FRU1yagOieieBMhC0wWRl-XYSAq',\n",
       "  'name': 'combined_tweets-2020-08-22.pkl',\n",
       "  'mimeType': 'application/octet-stream'},\n",
       " {'kind': 'drive#file',\n",
       "  'id': '1N5jeFfJnph0B9-geZc0MTlgpjnzYJnbg',\n",
       "  'name': 'combined_tweets-2020-08-21.pkl',\n",
       "  'mimeType': 'application/octet-stream'},\n",
       " {'kind': 'drive#file',\n",
       "  'id': '1PnIn9UQ3AFHl0Dlx9ZnxLzgykLiB3_NA',\n",
       "  'name': 'combined_tweets-2020-08-20.pkl',\n",
       "  'mimeType': 'application/octet-stream'},\n",
       " {'kind': 'drive#file',\n",
       "  'id': '1f4kkPZ5lnw58jS11zDBkJc4wbg8hV5Uc',\n",
       "  'name': 'combined_tweets-2020-08-19.pkl',\n",
       "  'mimeType': 'application/octet-stream'},\n",
       " {'kind': 'drive#file',\n",
       "  'id': '1VUKI6clnwlRPAJAw208BiSdDQCpohGG0',\n",
       "  'name': 'combined_tweets-2020-08-18.pkl',\n",
       "  'mimeType': 'application/octet-stream'},\n",
       " {'kind': 'drive#file',\n",
       "  'id': '1lr8qHcBOWxiuenfAafihmEQFYHi3ISRE',\n",
       "  'name': 'combined_tweets-2020-08-17.pkl',\n",
       "  'mimeType': 'application/octet-stream'},\n",
       " {'kind': 'drive#file',\n",
       "  'id': '1g5PDbmmnB8lWaPgG9O_4Zo_29eRKy8Hc',\n",
       "  'name': 'combined_tweets-2020-08-16.pkl',\n",
       "  'mimeType': 'application/octet-stream'},\n",
       " {'kind': 'drive#file',\n",
       "  'id': '1r384z9QKe9t4hKVRceTYyY4C0e_bluQQ',\n",
       "  'name': 'combined_tweets-2020-08-15.pkl',\n",
       "  'mimeType': 'application/octet-stream'},\n",
       " {'kind': 'drive#file',\n",
       "  'id': '1zvTyBgMKn7STWjFcn8HtOQAHSULHZ2YT',\n",
       "  'name': 'combined_tweets-2020-08-14.pkl',\n",
       "  'mimeType': 'application/octet-stream'},\n",
       " {'kind': 'drive#file',\n",
       "  'id': '1jvTPwwyRm_pKUln8mkB2RMk8X7-njn7j',\n",
       "  'name': 'combined_tweets-2020-08-13.pkl',\n",
       "  'mimeType': 'application/octet-stream'},\n",
       " {'kind': 'drive#file',\n",
       "  'id': '1PnWVfgtXEZ2_0HJ9YgogioX5IxSS-shv',\n",
       "  'name': 'combined_tweets-2020-08-12.pkl',\n",
       "  'mimeType': 'application/octet-stream'},\n",
       " {'kind': 'drive#file',\n",
       "  'id': '1cpb9mbZTvekBfAMs4-ilxOtwI9celQCE',\n",
       "  'name': 'combined_tweets-2020-08-11.pkl',\n",
       "  'mimeType': 'application/octet-stream'},\n",
       " {'kind': 'drive#file',\n",
       "  'id': '1YhdkIum1wM0dfwrd4wcHCkTjbQFjm8pv',\n",
       "  'name': 'combined_tweets-2020-08-10.pkl',\n",
       "  'mimeType': 'application/octet-stream'},\n",
       " {'kind': 'drive#file',\n",
       "  'id': '1pl_DTRqHDQGeYrEbmOMDIG6m4xDAYChG',\n",
       "  'name': 'combined_tweets-2020-08-09.pkl',\n",
       "  'mimeType': 'application/octet-stream'},\n",
       " {'kind': 'drive#file',\n",
       "  'id': '1n3x3nacsNTMsO-u__SML9ezQTgs3DaM9',\n",
       "  'name': 'combined_tweets-2020-08-08.pkl',\n",
       "  'mimeType': 'application/octet-stream'},\n",
       " {'kind': 'drive#file',\n",
       "  'id': '1N6bmkiXVW358p2pAwnOjoj9cs2EekwUx',\n",
       "  'name': 'combined_tweets-2020-08-07.pkl',\n",
       "  'mimeType': 'application/octet-stream'},\n",
       " {'kind': 'drive#file',\n",
       "  'id': '1i_4x6vw-rLP_SIRvji8U5sBG-hNHBmEc',\n",
       "  'name': 'combined_tweets-2020-08-06.pkl',\n",
       "  'mimeType': 'application/octet-stream'},\n",
       " {'kind': 'drive#file',\n",
       "  'id': '1WBA0MitN4Xs0LJmNfWgDJbsI4QHYM30A',\n",
       "  'name': 'combined_tweets-2020-08-05.pkl',\n",
       "  'mimeType': 'application/octet-stream'},\n",
       " {'kind': 'drive#file',\n",
       "  'id': '1eQVa3vH4MJNy5o5dqSD1qoA7lGPFXdaS',\n",
       "  'name': 'combined_tweets-2020-08-04.pkl',\n",
       "  'mimeType': 'application/octet-stream'},\n",
       " {'kind': 'drive#file',\n",
       "  'id': '11U_q-665A7fiHsJejwc4TVLRDqpTddof',\n",
       "  'name': 'combined_tweets-2020-08-03.pkl',\n",
       "  'mimeType': 'application/octet-stream'},\n",
       " {'kind': 'drive#file',\n",
       "  'id': '1SCN8c7306jmybhpEgtKbWTqxHt9e6GJI',\n",
       "  'name': 'combined_tweets-2020-08-02.pkl',\n",
       "  'mimeType': 'application/octet-stream'},\n",
       " {'kind': 'drive#file',\n",
       "  'id': '1kjXMuiluvWeu5fArTqK7qT6mf6Ss7NpG',\n",
       "  'name': 'combined_tweets-2020-08-01.pkl',\n",
       "  'mimeType': 'application/octet-stream'},\n",
       " {'kind': 'drive#file',\n",
       "  'id': '1Y0zTpJWHr7zdu-Jeyp8wl6ci93PDgT67',\n",
       "  'name': 'combined_tweets-2020-07-31.pkl',\n",
       "  'mimeType': 'application/octet-stream'},\n",
       " {'kind': 'drive#file',\n",
       "  'id': '1x-2QqRSYDwr5-rpKr5rEFjJ3aXGCUFb8',\n",
       "  'name': 'combined_tweets-2020-07-30.pkl',\n",
       "  'mimeType': 'application/octet-stream'},\n",
       " {'kind': 'drive#file',\n",
       "  'id': '1g1Xjmpz-U2q4o3K5PDniOQK5uLHjBl_k',\n",
       "  'name': 'combined_tweets-2020-07-29.pkl',\n",
       "  'mimeType': 'application/octet-stream'},\n",
       " {'kind': 'drive#file',\n",
       "  'id': '1s9_ksy59Aya3y0VtSg8uSK7JqIQDIMi4',\n",
       "  'name': 'combined_tweets-2020-07-28.pkl',\n",
       "  'mimeType': 'application/octet-stream'},\n",
       " {'kind': 'drive#file',\n",
       "  'id': '1xCpY2q5bHIwMi96mztOdBGOm8P8SUglz',\n",
       "  'name': 'combined_tweets-2020-07-27.pkl',\n",
       "  'mimeType': 'application/octet-stream'},\n",
       " {'kind': 'drive#file',\n",
       "  'id': '1ol605TDn_R_ZSgwBJSnB0q60EviqL0nU',\n",
       "  'name': 'combined_tweets-2020-07-26.pkl',\n",
       "  'mimeType': 'application/octet-stream'},\n",
       " {'kind': 'drive#file',\n",
       "  'id': '1MUOXy2LewNCVMTUr6tgvQZLwsd9xf-mc',\n",
       "  'name': 'combined_tweets-2020-07-25.pkl',\n",
       "  'mimeType': 'application/octet-stream'},\n",
       " {'kind': 'drive#file',\n",
       "  'id': '1ZY6AFes-8a2-7_eyW7LHr7Ay_AXswT5i',\n",
       "  'name': 'combined_tweets-2020-07-24.pkl',\n",
       "  'mimeType': 'application/octet-stream'},\n",
       " {'kind': 'drive#file',\n",
       "  'id': '1I9SHzJr_4hmX6qsogTepF22IE6-0xXRk',\n",
       "  'name': 'combined_tweets-2020-07-23.pkl',\n",
       "  'mimeType': 'application/octet-stream'},\n",
       " {'kind': 'drive#file',\n",
       "  'id': '1QiA21flrEyigBXFKFJuUT4TM3hYRIn0-',\n",
       "  'name': 'combined_tweets-2020-07-22.pkl',\n",
       "  'mimeType': 'application/octet-stream'},\n",
       " {'kind': 'drive#file',\n",
       "  'id': '1B1WZwscVzVsiz0kvJcm-nQKiloO7C_1c',\n",
       "  'name': 'combined_tweets-2020-07-21.pkl',\n",
       "  'mimeType': 'application/octet-stream'},\n",
       " {'kind': 'drive#file',\n",
       "  'id': '1Ulk7f6ILp97z1G8JbIKI49GzcfV6hd1g',\n",
       "  'name': 'combined_tweets-2020-07-20.pkl',\n",
       "  'mimeType': 'application/octet-stream'},\n",
       " {'kind': 'drive#file',\n",
       "  'id': '1fDE5nxoQkQjIk8-sR53x64VnVqCQgns4',\n",
       "  'name': 'combined_tweets-2020-07-19.pkl',\n",
       "  'mimeType': 'application/octet-stream'},\n",
       " {'kind': 'drive#file',\n",
       "  'id': '1RHQ8ivhH-Rn4Hj4SYadpcZkPA-X0Qphj',\n",
       "  'name': 'combined_tweets-2020-07-18.pkl',\n",
       "  'mimeType': 'application/octet-stream'},\n",
       " {'kind': 'drive#file',\n",
       "  'id': '1D62H9psi6j9wiPmCCDzRvQduyH8R99tk',\n",
       "  'name': 'combined_tweets-2020-07-17.pkl',\n",
       "  'mimeType': 'application/octet-stream'},\n",
       " {'kind': 'drive#file',\n",
       "  'id': '17gEsMnbyZcYY4s5NsergfBOlerd44ykQ',\n",
       "  'name': 'combined_tweets-2020-07-16.pkl',\n",
       "  'mimeType': 'application/octet-stream'},\n",
       " {'kind': 'drive#file',\n",
       "  'id': '1LkBH9xk-Aawl61DOA6hDMoC21Br3IF2X',\n",
       "  'name': 'combined_tweets-2020-07-15.pkl',\n",
       "  'mimeType': 'application/octet-stream'},\n",
       " {'kind': 'drive#file',\n",
       "  'id': '12ZCgunpER46ePyY-FMSAuQex9JRVvKJ7',\n",
       "  'name': 'combined_tweets-2020-07-14.pkl',\n",
       "  'mimeType': 'application/octet-stream'},\n",
       " {'kind': 'drive#file',\n",
       "  'id': '1LLKY1ifEbf92tzo6ek8uQl3m3kl--h8B',\n",
       "  'name': 'combined_tweets-2020-07-13.pkl',\n",
       "  'mimeType': 'application/octet-stream'},\n",
       " {'kind': 'drive#file',\n",
       "  'id': '150D9w5sq7YDudwjjiZypVk8V1Q8WO_uZ',\n",
       "  'name': 'combined_tweets-2020-07-12.pkl',\n",
       "  'mimeType': 'application/octet-stream'},\n",
       " {'kind': 'drive#file',\n",
       "  'id': '1xov4QXYfkdLuaPCcW_iwmH7lTyFuyQ1c',\n",
       "  'name': 'combined_tweets-2020-07-11.pkl',\n",
       "  'mimeType': 'application/octet-stream'},\n",
       " {'kind': 'drive#file',\n",
       "  'id': '1PIC8GB9nzid-3FBSzOVqAKSEfF_EYLcM',\n",
       "  'name': 'combined_tweets-2020-07-10.pkl',\n",
       "  'mimeType': 'application/octet-stream'},\n",
       " {'kind': 'drive#file',\n",
       "  'id': '1-e0_LN5-2HbFU4VDGIGJyzEf_5PiPfJi',\n",
       "  'name': 'combined_tweets-2020-07-09.pkl',\n",
       "  'mimeType': 'application/octet-stream'},\n",
       " {'kind': 'drive#file',\n",
       "  'id': '1-EsaWyVZGzxgcndOHsdubcjpd9tzawJg',\n",
       "  'name': 'combined_tweets-2020-07-08.pkl',\n",
       "  'mimeType': 'application/octet-stream'},\n",
       " {'kind': 'drive#file',\n",
       "  'id': '1hNq6iAq3J1EZz0PC5PPxF7_fqyekQirn',\n",
       "  'name': 'combined_tweets-2020-07-07.pkl',\n",
       "  'mimeType': 'application/octet-stream'},\n",
       " {'kind': 'drive#file',\n",
       "  'id': '1GMv6FDijimyDHF1gAqAYqon8DCA1H0C2',\n",
       "  'name': 'combined_tweets-2020-07-06.pkl',\n",
       "  'mimeType': 'application/octet-stream'},\n",
       " {'kind': 'drive#file',\n",
       "  'id': '1M_vZSc7kW1FuWhI6L-AWxrlnD6CG5lNj',\n",
       "  'name': 'combined_tweets-2020-07-05.pkl',\n",
       "  'mimeType': 'application/octet-stream'},\n",
       " {'kind': 'drive#file',\n",
       "  'id': '18DYxThxd2gIjh7riW8n36eewhVuISCGa',\n",
       "  'name': 'combined_tweets-2020-07-04.pkl',\n",
       "  'mimeType': 'application/octet-stream'},\n",
       " {'kind': 'drive#file',\n",
       "  'id': '1upg1HNNQUCtEucP-FljCe3C5lat1ZIIB',\n",
       "  'name': 'combined_tweets-2020-07-03.pkl',\n",
       "  'mimeType': 'application/octet-stream'},\n",
       " {'kind': 'drive#file',\n",
       "  'id': '1IwCIY_OWoUYVS-Ru2PHsYpYJyTneTYSg',\n",
       "  'name': 'combined_tweets-2020-07-02.pkl',\n",
       "  'mimeType': 'application/octet-stream'},\n",
       " {'kind': 'drive#file',\n",
       "  'id': '1RLW4ZBe6B1awhwhbi-WmHnmtdLclurJM',\n",
       "  'name': 'combined_tweets-2020-07-01.pkl',\n",
       "  'mimeType': 'application/octet-stream'},\n",
       " {'kind': 'drive#file',\n",
       "  'id': '1c2RwyeG9hpaIX9U_rwck3Tv7SyMet2-D',\n",
       "  'name': 'combined_tweets-2020-06-30.pkl',\n",
       "  'mimeType': 'application/octet-stream'},\n",
       " {'kind': 'drive#file',\n",
       "  'id': '1MBqV7qxvlwsB0onDoEl3hACBnwcabPOf',\n",
       "  'name': 'combined_tweets-2020-06-29.pkl',\n",
       "  'mimeType': 'application/octet-stream'},\n",
       " {'kind': 'drive#file',\n",
       "  'id': '1tt0lNB60yGx4vxY58OkTyqAd3VpwxOiC',\n",
       "  'name': 'combined_tweets-2020-06-28.pkl',\n",
       "  'mimeType': 'application/octet-stream'},\n",
       " {'kind': 'drive#file',\n",
       "  'id': '1j7y7yfb4R-iOwxkSdU7EMSkhg9w6zHsD',\n",
       "  'name': 'combined_tweets-2020-06-27.pkl',\n",
       "  'mimeType': 'application/octet-stream'},\n",
       " {'kind': 'drive#file',\n",
       "  'id': '1XglRWIHxhJtRzb6DXcHyTXTbn_lkPcOo',\n",
       "  'name': 'combined_tweets-2020-06-26.pkl',\n",
       "  'mimeType': 'application/octet-stream'},\n",
       " {'kind': 'drive#file',\n",
       "  'id': '1K8qYeV8KiIvX-j5Yw_JQsU6zCs9VcCmY',\n",
       "  'name': 'combined_tweets-2020-06-25.pkl',\n",
       "  'mimeType': 'application/octet-stream'},\n",
       " {'kind': 'drive#file',\n",
       "  'id': '1NsB5U18xYPmiPLyt9U_o7P14b0feOcVR',\n",
       "  'name': 'combined_tweets-2020-06-24.pkl',\n",
       "  'mimeType': 'application/octet-stream'}]"
      ]
     },
     "execution_count": 516,
     "metadata": {},
     "output_type": "execute_result"
    }
   ],
   "source": [
    "file_objs_lst"
   ]
  },
  {
   "cell_type": "markdown",
   "metadata": {},
   "source": [
    "## Bootstrap"
   ]
  },
  {
   "cell_type": "code",
   "execution_count": 630,
   "metadata": {},
   "outputs": [],
   "source": [
    "# Bootstrap vs. binomial for proportions\n",
    "# b = np.random.choice(rt_0901, size=n_obs_0624, replace=True)\n",
    "a = np.random.binomial(n_obs_0624, s_rt_0901 / n_obs_0901, 10000)\n",
    "c = np.random.binomial(n_obs_0901, s_rt_0901 / n_obs_0901, 10000)\n",
    "\n",
    "day1_med = np.random.binomial(n_obs_0901, s_rt_0624 / n_obs_0624, 100) / n_obs_0901\n",
    "day1_l = np.random.binomial(n_obs_0624, s_rt_0624 / n_obs_0624, 100) / n_obs_0624\n",
    "day2_med = np.random.binomial(n_obs_0901, s_rt_0828 / n_obs_0828, 100) / n_obs_0901\n",
    "day2_l = np.random.binomial(n_obs_0624, s_rt_0828 / n_obs_0828, 100) / n_obs_0624\n",
    "day3_med = np.random.binomial(n_obs_0901, s_rt_0901 / n_obs_0901, 100) / n_obs_0901\n",
    "day3_l = np.random.binomial(n_obs_0624, s_rt_0901 / n_obs_0901, 100) / n_obs_0624\n",
    "day4_med = np.random.binomial(n_obs_0901, s_rt_0829 / n_obs_0829, 100) / n_obs_0901\n",
    "day4_l = np.random.binomial(n_obs_0624, s_rt_0829 / n_obs_0829, 100) / n_obs_0624\n",
    "day5_med = np.random.binomial(n_obs_0901, s_rt_0826 / n_obs_0826, 100) / n_obs_0901\n",
    "day5_l = np.random.binomial(n_obs_0624, s_rt_0826 / n_obs_0826, 100) / n_obs_0624"
   ]
  },
  {
   "cell_type": "code",
   "execution_count": 594,
   "metadata": {
    "scrolled": true
   },
   "outputs": [
    {
     "data": {
      "text/plain": [
       "<matplotlib.lines.Line2D at 0x7fe4d8e56990>"
      ]
     },
     "execution_count": 594,
     "metadata": {},
     "output_type": "execute_result"
    },
    {
     "data": {
      "image/png": "[encoded data removed]",
      "text/plain": [
       "<Figure size 432x288 with 1 Axes>"
      ]
     },
     "metadata": {
      "needs_background": "light"
     },
     "output_type": "display_data"
    }
   ],
   "source": [
    "plt.hist(a / n_obs_0624)\n",
    "plt.axvline(x = s_rt_0901 / n_obs_0901, color = \"red\")"
   ]
  },
  {
   "cell_type": "code",
   "execution_count": 595,
   "metadata": {},
   "outputs": [
    {
     "data": {
      "text/plain": [
       "<matplotlib.lines.Line2D at 0x7fe4d9892650>"
      ]
     },
     "execution_count": 595,
     "metadata": {},
     "output_type": "execute_result"
    },
    {
     "data": {
      "image/png": "[encoded data removed]",
      "text/plain": [
       "<Figure size 432x288 with 1 Axes>"
      ]
     },
     "metadata": {
      "needs_background": "light"
     },
     "output_type": "display_data"
    }
   ],
   "source": [
    "plt.hist(c / n_obs_0901)\n",
    "plt.axvline(x = s_rt_0901 / n_obs_0901, color = \"red\")"
   ]
  },
  {
   "cell_type": "code",
   "execution_count": 597,
   "metadata": {},
   "outputs": [
    {
     "data": {
      "text/plain": [
       "<matplotlib.lines.Line2D at 0x7fe4d9af1e50>"
      ]
     },
     "execution_count": 597,
     "metadata": {},
     "output_type": "execute_result"
    },
    {
     "data": {
      "image/png": "[encoded data removed]",
      "text/plain": [
       "<Figure size 432x288 with 1 Axes>"
      ]
     },
     "metadata": {
      "needs_background": "light"
     },
     "output_type": "display_data"
    }
   ],
   "source": [
    "plt.hist(d / n_obs_0901)\n",
    "plt.axvline(x = s_rt_0624 / n_obs_0624, color = \"red\")"
   ]
  },
  {
   "cell_type": "code",
   "execution_count": 631,
   "metadata": {},
   "outputs": [],
   "source": [
    "days_med = list(day1_med) + list(day2_med) + list(day3_med) + list(day4_med) + list(day5_med)\n",
    "days_l = list(day1_l) + list(day2_l) + list(day3_l) + list(day4_l) + list(day5_l)"
   ]
  },
  {
   "cell_type": "code",
   "execution_count": 632,
   "metadata": {},
   "outputs": [
    {
     "data": {
      "text/plain": [
       "(0.9952191203639282, 9.6051214214852e-25)"
      ]
     },
     "execution_count": 632,
     "metadata": {},
     "output_type": "execute_result"
    },
    {
     "data": {
      "image/png": "[encoded data removed]",
      "text/plain": [
       "<Figure size 432x288 with 1 Axes>"
      ]
     },
     "metadata": {
      "needs_background": "light"
     },
     "output_type": "display_data"
    }
   ],
   "source": [
    "plt.scatter(days_med, days_l)\n",
    "pearsonr(days_med, days_l)"
   ]
  },
  {
   "cell_type": "code",
   "execution_count": 561,
   "metadata": {},
   "outputs": [
    {
     "data": {
      "text/plain": [
       "0.6227178571428571"
      ]
     },
     "execution_count": 561,
     "metadata": {},
     "output_type": "execute_result"
    }
   ],
   "source": [
    "s_rt_0901 / n_obs_0901\n",
    "# n_obs_0624"
   ]
  },
  {
   "cell_type": "code",
   "execution_count": 568,
   "metadata": {},
   "outputs": [
    {
     "data": {
      "text/plain": [
       "(280000, 280000)"
      ]
     },
     "execution_count": 568,
     "metadata": {},
     "output_type": "execute_result"
    }
   ],
   "source": [
    "rt_0901 = [1] * s_rt_0901 + [0] * (n_obs_0901 - s_rt_0901)"
   ]
  },
  {
   "cell_type": "markdown",
   "metadata": {},
   "source": [
    "## QQ-Plot tool"
   ]
  },
  {
   "cell_type": "code",
   "execution_count": 23,
   "metadata": {},
   "outputs": [],
   "source": [
    "# Source: https://stackoverflow.com/questions/42658252/how-to-create-a-qq-plot-between-two-samples-of-different-size-in-python\n",
    "\n",
    "def qqplot(data1, data2, data_sorted_flag=False):\n",
    "    plt.figure(figsize=(12, 7))\n",
    "    \n",
    "    if not data_sorted_flag:\n",
    "        data1 = sorted(data1)\n",
    "        data2 = sorted(data2)\n",
    "    \n",
    "    sorted_len_data_pairs = sorted([(len(data1), data1), (len(data2), data2)])\n",
    "    # Calculate the quantile levels\n",
    "    quantile_levels_smaller = np.arange(sorted_len_data_pairs[0][0],dtype=float) / sorted_len_data_pairs[0][0]\n",
    "    quantile_levels_larger = np.arange(sorted_len_data_pairs[1][0],dtype=float) / sorted_len_data_pairs[1][0]\n",
    "    \n",
    "    # Find the quantiles of the larger dataset by linear interpolation\n",
    "    quantiles_larger = np.interp(quantile_levels_smaller, quantile_levels_larger, sorted_len_data_pairs[1][1])\n",
    "    \n",
    "    # Plot the quantiles\n",
    "    plt.scatter(quantiles_larger, sorted_len_data_pairs[0][1])\n",
    "    \n",
    "    # Add a reference line\n",
    "    max_val = max(data1[-1], data2[-1])\n",
    "    min_val = min(data1[0], data2[0])\n",
    "    plt.plot([min_val, max_val], [min_val, max_val], 'k-', color='red')\n",
    "    \n",
    "    plt.show()\n",
    "    \n",
    "    print(\"Pearson correlation coeff: \", pearsonr(quantiles_larger, sorted_len_data_pairs[0][1])[0])"
   ]
  },
  {
   "cell_type": "code",
   "execution_count": 36,
   "metadata": {},
   "outputs": [],
   "source": [
    "# Stopwords - one possible metric\n",
    "\n",
    "from nltk.corpus import stopwords\n",
    "from nltk.tokenize import word_tokenize\n",
    "from scipy.stats import pearsonr\n",
    "\n",
    "stop_words = set(stopwords.words('english'))\n",
    "\n",
    "def get_stopword_trackers(obj_lst):\n",
    "    n_obs = 0\n",
    "    \n",
    "    # number of stopwords per tweet\n",
    "    stopwords_tracker = []\n",
    "    # avg proportion of stopwords per tweet\n",
    "    stopwords_prop_tracker = []\n",
    "    wordcount_tracker = []\n",
    "    for thin_obj in obj_lst:\n",
    "        n_obs += 1\n",
    "        if thin_obj.is_retweet: \n",
    "            # Reassign the thin_obj so that we look at the retweet's text\n",
    "            thin_obj = thin_obj.retweet\n",
    "            \n",
    "        word_tokens = word_tokenize(thin_obj.text)\n",
    "        stopword_count = 0\n",
    "        for w in word_tokens:\n",
    "            w = w.lower()\n",
    "            if w in stop_words: \n",
    "                stopword_count += 1\n",
    "        stopwords_tracker.append(stopword_count)\n",
    "        num_words = len(word_tokens)\n",
    "        \n",
    "        stopwords_prop_tracker.append(stopword_count / num_words if num_words else 0)\n",
    "        wordcount_tracker.append(num_words)\n",
    "            \n",
    "    return n_obs, stopwords_tracker, stopwords_prop_tracker, wordcount_tracker\n",
    "\n",
    "\n",
    "def print_qqplots_from_obj_lst(obj_lst1, obj_lst2):\n",
    "    n_obs1, stopwords_tracker1, stopwords_prop_tracker1, wordcount_tracker1 = get_stopword_trackers(obj_lst1)\n",
    "    n_obs2, stopwords_tracker2, stopwords_prop_tracker2, wordcount_tracker2 = get_stopword_trackers(obj_lst2)\n",
    "    \n",
    "    print(f\"Stopwords QQ-Plot\")\n",
    "    qqplot(stopwords_tracker1, stopwords_tracker2)\n",
    "    \n",
    "    print(f\"\\nStopword Proportion QQ-Plot\")\n",
    "    qqplot(stopwords_tracker1, stopwords_tracker2)\n",
    "    \n",
    "    print(f\"\\nWordcount QQ-Plot\")\n",
    "    qqplot(stopwords_tracker1, stopwords_tracker2)\n",
    "    \n",
    "    \n",
    "def print_qqplots_from_trackers(stopwords1, stopwords_prop1, wordcount1, stopwords2, stopwords_prop2, wordcount2):\n",
    "    print(f\"Stopwords QQ-Plot\")\n",
    "    qqplot(stopwords1, stopwords2)\n",
    "    \n",
    "    print(f\"\\nStopword Proportion QQ-Plot\")\n",
    "    qqplot(stopwords_prop1, stopwords_prop2)\n",
    "    \n",
    "    print(f\"\\nWordcount QQ-Plot\")\n",
    "    qqplot(wordcount1, wordcount2)"
   ]
  },
  {
   "cell_type": "code",
   "execution_count": 31,
   "metadata": {},
   "outputs": [],
   "source": [
    "n_obs_0626, stw_0626, stw_p_0626, wc_0626 = get_stopword_trackers(tweets_0626)\n",
    "n_obs_0921, stw_0921, stw_p_0921, wc_0921 = get_stopword_trackers(tweets_0921)"
   ]
  },
  {
   "cell_type": "code",
   "execution_count": 37,
   "metadata": {},
   "outputs": [
    {
     "name": "stdout",
     "output_type": "stream",
     "text": [
      "Stopwords QQ-Plot\n"
     ]
    },
    {
     "data": {
      "image/png": "[encoded data removed]",
      "text/plain": [
       "<Figure size 864x504 with 1 Axes>"
      ]
     },
     "metadata": {
      "needs_background": "light"
     },
     "output_type": "display_data"
    },
    {
     "name": "stdout",
     "output_type": "stream",
     "text": [
      "Pearson correlation coeff:  0.9980117384787731\n",
      "\n",
      "Stopword Proportion QQ-Plot\n"
     ]
    },
    {
     "data": {
      "image/png": "[encoded data removed]",
      "text/plain": [
       "<Figure size 864x504 with 1 Axes>"
      ]
     },
     "metadata": {
      "needs_background": "light"
     },
     "output_type": "display_data"
    },
    {
     "name": "stdout",
     "output_type": "stream",
     "text": [
      "Pearson correlation coeff:  0.9989679336037212\n",
      "\n",
      "Wordcount QQ-Plot\n"
     ]
    },
    {
     "data": {
      "image/png": "[encoded data removed]",
      "text/plain": [
       "<Figure size 864x504 with 1 Axes>"
      ]
     },
     "metadata": {
      "needs_background": "light"
     },
     "output_type": "display_data"
    },
    {
     "name": "stdout",
     "output_type": "stream",
     "text": [
      "Pearson correlation coeff:  0.9970394911358726\n"
     ]
    }
   ],
   "source": [
    "print_qqplots_from_trackers(stw_0626, stw_p_0626, wc_0626, stw_0921, stw_p_0921, wc_0921)"
   ]
  },
  {
   "cell_type": "code",
   "execution_count": 44,
   "metadata": {},
   "outputs": [
    {
     "data": {
      "text/plain": [
       "<module 'stat_analysis' from '/Users/sarah/Downloads/TwitterResearch2020/stat_analysis.py'>"
      ]
     },
     "execution_count": 44,
     "metadata": {},
     "output_type": "execute_result"
    }
   ],
   "source": [
    "import stat_analysis\n",
    "import importlib\n",
    "importlib.reload(stat_analysis)"
   ]
  },
  {
   "cell_type": "code",
   "execution_count": 45,
   "metadata": {},
   "outputs": [
    {
     "name": "stdout",
     "output_type": "stream",
     "text": [
      "Stopwords QQ-Plot\n"
     ]
    },
    {
     "data": {
      "image/png": "[encoded data removed]",
      "text/plain": [
       "<Figure size 864x504 with 1 Axes>"
      ]
     },
     "metadata": {
      "needs_background": "light"
     },
     "output_type": "display_data"
    },
    {
     "name": "stdout",
     "output_type": "stream",
     "text": [
      "Pearson correlation coeff:  0.9980117384787731\n",
      "\n",
      "Stopword Proportion QQ-Plot\n"
     ]
    },
    {
     "data": {
      "image/png": "[encoded data removed]",
      "text/plain": [
       "<Figure size 864x504 with 1 Axes>"
      ]
     },
     "metadata": {
      "needs_background": "light"
     },
     "output_type": "display_data"
    },
    {
     "name": "stdout",
     "output_type": "stream",
     "text": [
      "Pearson correlation coeff:  0.9989679336037212\n",
      "\n",
      "Wordcount QQ-Plot\n"
     ]
    },
    {
     "data": {
      "image/png": "[encoded data removed]",
      "text/plain": [
       "<Figure size 864x504 with 1 Axes>"
      ]
     },
     "metadata": {
      "needs_background": "light"
     },
     "output_type": "display_data"
    },
    {
     "name": "stdout",
     "output_type": "stream",
     "text": [
      "Pearson correlation coeff:  0.9970394911358726\n"
     ]
    }
   ],
   "source": [
    "stat_analysis.print_qqplots_from_trackers(stw_0626, stw_p_0626, wc_0626, stw_0921, stw_p_0921, wc_0921)"
   ]
  },
  {
   "cell_type": "code",
   "execution_count": null,
   "metadata": {},
   "outputs": [],
   "source": []
  }
 ],
 "metadata": {
  "kernelspec": {
   "display_name": "Python 3",
   "language": "python",
   "name": "python3"
  },
  "language_info": {
   "codemirror_mode": {
    "name": "ipython",
    "version": 3
   },
   "file_extension": ".py",
   "mimetype": "text/x-python",
   "name": "python",
   "nbconvert_exporter": "python",
   "pygments_lexer": "ipython3",
   "version": "3.7.9"
  }
 },
 "nbformat": 4,
 "nbformat_minor": 2
}

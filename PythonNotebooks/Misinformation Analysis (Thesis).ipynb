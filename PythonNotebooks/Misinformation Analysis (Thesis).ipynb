{
 "cells": [
  {
   "cell_type": "markdown",
   "metadata": {},
   "source": [
    "# Misinformation Analysis\n",
    "\n",
    "(For thesis)\n",
    "\n",
    "Steps:\n",
    "- Scrape Politifact for training data\n",
    "- Construct multiple classifiers\n",
    "    - Naive Bayes\n",
    "    - SVM\n",
    "    - Google BERT\n",
    "- Choose the best\n",
    "- Run headlines through (July - November)\n",
    "- Select misinformation keywords based off of relevant appearances"
   ]
  },
  {
   "cell_type": "markdown",
   "metadata": {},
   "source": [
    "## Scraping Politifact\n",
    "\n",
    "Scrape politifact for the `statement_quote` link text (see screenshot on google doc) and the corresponding rating which is the alt title of the `picture`.\n",
    "\n",
    "(We might also want the date)\n",
    "\n",
    "Following https://towardsdatascience.com/scraping-1000s-of-news-articles-using-10-simple-steps-d57636a49755"
   ]
  },
  {
   "cell_type": "code",
   "execution_count": 2,
   "metadata": {},
   "outputs": [],
   "source": [
    "from bs4 import BeautifulSoup\n",
    "import urllib.request, sys, time\n",
    "import requests\n",
    "import pandas as pd\n",
    "from dateutil.parser import parse"
   ]
  },
  {
   "cell_type": "code",
   "execution_count": 4,
   "metadata": {},
   "outputs": [],
   "source": [
    "# url of the page that we want to Scarpe\n",
    "# +str() is used to convert int datatype of the page no. and concatenate that to a URL for pagination purposes.\n",
    "page_num = 1\n",
    "URL = 'https://www.politifact.com/factchecks/list/?page='+str(page_num)\n",
    "\n",
    "try:\n",
    "    # this might throw an exception if something goes wrong.\n",
    "    page = requests.get(URL) \n",
    "    \n",
    "    # this describes what to do if an exception is thrown \n",
    "except Exception as e:    \n",
    "    \n",
    "    # get the exception information\n",
    "    error_type, error_obj, error_info = sys.exc_info()      \n",
    "    \n",
    "    #print the link that cause the problem\n",
    "    print('ERROR FOR LINK:', URL)\n",
    "    \n",
    "    #print error info and line that threw the exception                          \n",
    "    print(error_type, 'Line:', error_info.tb_lineno)"
   ]
  },
  {
   "cell_type": "code",
   "execution_count": 8,
   "metadata": {},
   "outputs": [
    {
     "name": "stdout",
     "output_type": "stream",
     "text": [
      "text/html; charset=utf-8\n"
     ]
    }
   ],
   "source": [
    "# Inspect response code\n",
    "page.status_code\n",
    "\n",
    "# Full response as text\n",
    "page.text\n",
    "\n",
    "# Check content type\n",
    "print(page.headers.get(\"content-type\", \"unknown\"))"
   ]
  },
  {
   "cell_type": "markdown",
   "metadata": {},
   "source": [
    "The actual data scraper:"
   ]
  },
  {
   "cell_type": "code",
   "execution_count": 40,
   "metadata": {
    "scrolled": true
   },
   "outputs": [
    {
     "name": "stdout",
     "output_type": "stream",
     "text": [
      "processing page : 1\n",
      "https://www.politifact.com/factchecks/list/?page=1\n",
      "30\n",
      "processing page : 2\n",
      "https://www.politifact.com/factchecks/list/?page=2\n",
      "30\n",
      "processing page : 3\n",
      "https://www.politifact.com/factchecks/list/?page=3\n",
      "30\n",
      "processing page : 4\n",
      "https://www.politifact.com/factchecks/list/?page=4\n",
      "30\n",
      "processing page : 5\n",
      "https://www.politifact.com/factchecks/list/?page=5\n",
      "30\n",
      "processing page : 6\n",
      "https://www.politifact.com/factchecks/list/?page=6\n",
      "30\n",
      "processing page : 7\n",
      "https://www.politifact.com/factchecks/list/?page=7\n",
      "30\n",
      "processing page : 8\n",
      "https://www.politifact.com/factchecks/list/?page=8\n",
      "30\n",
      "processing page : 9\n",
      "https://www.politifact.com/factchecks/list/?page=9\n",
      "30\n",
      "processing page : 10\n",
      "https://www.politifact.com/factchecks/list/?page=10\n",
      "30\n",
      "processing page : 11\n",
      "https://www.politifact.com/factchecks/list/?page=11\n",
      "30\n",
      "processing page : 12\n",
      "https://www.politifact.com/factchecks/list/?page=12\n",
      "30\n",
      "processing page : 13\n",
      "https://www.politifact.com/factchecks/list/?page=13\n",
      "30\n",
      "processing page : 14\n",
      "https://www.politifact.com/factchecks/list/?page=14\n",
      "30\n",
      "processing page : 15\n",
      "https://www.politifact.com/factchecks/list/?page=15\n",
      "30\n",
      "processing page : 16\n",
      "https://www.politifact.com/factchecks/list/?page=16\n",
      "30\n",
      "processing page : 17\n",
      "https://www.politifact.com/factchecks/list/?page=17\n",
      "30\n",
      "processing page : 18\n",
      "https://www.politifact.com/factchecks/list/?page=18\n",
      "30\n",
      "processing page : 19\n",
      "https://www.politifact.com/factchecks/list/?page=19\n",
      "30\n",
      "processing page : 20\n",
      "https://www.politifact.com/factchecks/list/?page=20\n",
      "30\n",
      "processing page : 21\n",
      "https://www.politifact.com/factchecks/list/?page=21\n",
      "30\n",
      "processing page : 22\n",
      "https://www.politifact.com/factchecks/list/?page=22\n",
      "30\n"
     ]
    }
   ],
   "source": [
    "# Page 22 covers all of July - Present\n",
    "n_pages = 22\n",
    "\n",
    "upperframe=[]  \n",
    "for page in range(1, n_pages + 1):\n",
    "    print('processing page :', page)\n",
    "    URL = 'https://www.politifact.com/factchecks/list/?page='+str(page)\n",
    "    print(URL)\n",
    "    \n",
    "    # an exception might be thrown, so the code should be in a try-except block\n",
    "    try:\n",
    "        # use the browser to get the url. This is suspicious command that might blow up.\n",
    "        page = requests.get(URL)                             # this might throw an exception if something goes wrong.\n",
    "    \n",
    "    except Exception as e:                                   # this describes what to do if an exception is thrown\n",
    "        error_type, error_obj, error_info = sys.exc_info()      # get the exception information\n",
    "        print('ERROR FOR LINK:',url)                          #print the link that cause the problem\n",
    "        print(error_type, 'Line:', error_info.tb_lineno)     #print error info and line that threw the exception\n",
    "        continue                                              #ignore this page. Abandon this and go back.\n",
    "    \n",
    "    time.sleep(2)   \n",
    "    soup = BeautifulSoup(page.text,'html.parser')\n",
    "    frame = []\n",
    "    links = soup.find_all('li',attrs={'class':'o-listicle__item'})\n",
    "    print(len(links))\n",
    "    \n",
    "    for item in links:\n",
    "        st = item.find(\"div\", attrs={'class':'m-statement__quote'})\n",
    "        statement = st.text.strip()\n",
    "        \n",
    "        link = \"https://www.politifact.com\"\n",
    "        link += st.find('a')['href'].strip()\n",
    "        \n",
    "        datetext = item.find('div',attrs={'class':'m-statement__body'}).find('footer').text.strip()\n",
    "        date = parse(datetext, fuzzy=True).date()\n",
    "        \n",
    "        source = item.find('div', attrs={'class':'m-statement__meta'}).find('a').text.strip()\n",
    "        label = item.find('div', attrs ={'class':'m-statement__content'}).find('img',attrs={'class':'c-image__original'}).get('alt').strip()\n",
    "        frame.append((statement, link, date, source, label))\n",
    "        \n",
    "    upperframe.extend(frame)\n",
    "    \n",
    "data = pd.DataFrame(upperframe, columns=['Statement', 'Link', 'Date', 'Source', 'Label'])\n",
    "data.head()\n",
    "data.to_csv(\"PolitiFact_Data.csv\")"
   ]
  },
  {
   "cell_type": "code",
   "execution_count": 45,
   "metadata": {},
   "outputs": [
    {
     "data": {
      "text/html": [
       "<div>\n",
       "<style scoped>\n",
       "    .dataframe tbody tr th:only-of-type {\n",
       "        vertical-align: middle;\n",
       "    }\n",
       "\n",
       "    .dataframe tbody tr th {\n",
       "        vertical-align: top;\n",
       "    }\n",
       "\n",
       "    .dataframe thead th {\n",
       "        text-align: right;\n",
       "    }\n",
       "</style>\n",
       "<table border=\"1\" class=\"dataframe\">\n",
       "  <thead>\n",
       "    <tr style=\"text-align: right;\">\n",
       "      <th></th>\n",
       "      <th>Statement</th>\n",
       "      <th>Link</th>\n",
       "      <th>Date</th>\n",
       "      <th>Source</th>\n",
       "      <th>Label</th>\n",
       "    </tr>\n",
       "  </thead>\n",
       "  <tbody>\n",
       "    <tr>\n",
       "      <th>125</th>\n",
       "      <td>On whether to nominate and confirm a Supreme C...</td>\n",
       "      <td>https://www.politifact.com/factchecks/2020/sep...</td>\n",
       "      <td>2020-09-22</td>\n",
       "      <td>Tammy Baldwin</td>\n",
       "      <td>full-flop</td>\n",
       "    </tr>\n",
       "    <tr>\n",
       "      <th>126</th>\n",
       "      <td>On whether to nominate and confirm a Supreme C...</td>\n",
       "      <td>https://www.politifact.com/factchecks/2020/sep...</td>\n",
       "      <td>2020-09-22</td>\n",
       "      <td>Ron Johnson</td>\n",
       "      <td>full-flop</td>\n",
       "    </tr>\n",
       "    <tr>\n",
       "      <th>134</th>\n",
       "      <td>On confirming a Supreme Court nominee in a pre...</td>\n",
       "      <td>https://www.politifact.com/factchecks/2020/sep...</td>\n",
       "      <td>2020-09-22</td>\n",
       "      <td>Mitch McConnell</td>\n",
       "      <td>full-flop</td>\n",
       "    </tr>\n",
       "    <tr>\n",
       "      <th>135</th>\n",
       "      <td>On confirming a Supreme Court nominee in a pre...</td>\n",
       "      <td>https://www.politifact.com/factchecks/2020/sep...</td>\n",
       "      <td>2020-09-22</td>\n",
       "      <td>Charles Schumer</td>\n",
       "      <td>full-flop</td>\n",
       "    </tr>\n",
       "    <tr>\n",
       "      <th>141</th>\n",
       "      <td>On confirming a Supreme Court justice nominee ...</td>\n",
       "      <td>https://www.politifact.com/factchecks/2020/sep...</td>\n",
       "      <td>2020-09-21</td>\n",
       "      <td>Lindsey Graham</td>\n",
       "      <td>full-flop</td>\n",
       "    </tr>\n",
       "    <tr>\n",
       "      <th>640</th>\n",
       "      <td>On conducting a national search for a new Rich...</td>\n",
       "      <td>https://www.politifact.com/factchecks/2020/jul...</td>\n",
       "      <td>2020-07-01</td>\n",
       "      <td>Levar Stoney</td>\n",
       "      <td>full-flop</td>\n",
       "    </tr>\n",
       "  </tbody>\n",
       "</table>\n",
       "</div>"
      ],
      "text/plain": [
       "                                             Statement  \\\n",
       "125  On whether to nominate and confirm a Supreme C...   \n",
       "126  On whether to nominate and confirm a Supreme C...   \n",
       "134  On confirming a Supreme Court nominee in a pre...   \n",
       "135  On confirming a Supreme Court nominee in a pre...   \n",
       "141  On confirming a Supreme Court justice nominee ...   \n",
       "640  On conducting a national search for a new Rich...   \n",
       "\n",
       "                                                  Link        Date  \\\n",
       "125  https://www.politifact.com/factchecks/2020/sep...  2020-09-22   \n",
       "126  https://www.politifact.com/factchecks/2020/sep...  2020-09-22   \n",
       "134  https://www.politifact.com/factchecks/2020/sep...  2020-09-22   \n",
       "135  https://www.politifact.com/factchecks/2020/sep...  2020-09-22   \n",
       "141  https://www.politifact.com/factchecks/2020/sep...  2020-09-21   \n",
       "640  https://www.politifact.com/factchecks/2020/jul...  2020-07-01   \n",
       "\n",
       "              Source      Label  \n",
       "125    Tammy Baldwin  full-flop  \n",
       "126      Ron Johnson  full-flop  \n",
       "134  Mitch McConnell  full-flop  \n",
       "135  Charles Schumer  full-flop  \n",
       "141   Lindsey Graham  full-flop  \n",
       "640     Levar Stoney  full-flop  "
      ]
     },
     "execution_count": 45,
     "metadata": {},
     "output_type": "execute_result"
    }
   ],
   "source": [
    "data.head()\n",
    "# data.loc[data.Label == \"pants-fire\"]\n",
    "# data.loc[data.Source == \"Donald Trump\"]\n",
    "data.Label.unique()\n",
    "data.loc[data.Label == \"full-flop\"]"
   ]
  },
  {
   "cell_type": "code",
   "execution_count": 172,
   "metadata": {},
   "outputs": [
    {
     "data": {
      "text/html": [
       "<div>\n",
       "<style scoped>\n",
       "    .dataframe tbody tr th:only-of-type {\n",
       "        vertical-align: middle;\n",
       "    }\n",
       "\n",
       "    .dataframe tbody tr th {\n",
       "        vertical-align: top;\n",
       "    }\n",
       "\n",
       "    .dataframe thead th {\n",
       "        text-align: right;\n",
       "    }\n",
       "</style>\n",
       "<table border=\"1\" class=\"dataframe\">\n",
       "  <thead>\n",
       "    <tr style=\"text-align: right;\">\n",
       "      <th></th>\n",
       "      <th>Statement</th>\n",
       "      <th>Link</th>\n",
       "      <th>Date</th>\n",
       "      <th>Source</th>\n",
       "      <th>Label</th>\n",
       "    </tr>\n",
       "  </thead>\n",
       "  <tbody>\n",
       "    <tr>\n",
       "      <th>0</th>\n",
       "      <td>Eric Esshaki “would allow insurance companies ...</td>\n",
       "      <td>https://www.politifact.com/factchecks/2020/oct...</td>\n",
       "      <td>2020-10-07</td>\n",
       "      <td>Haley Stevens</td>\n",
       "      <td>barely-true</td>\n",
       "    </tr>\n",
       "    <tr>\n",
       "      <th>1</th>\n",
       "      <td>\"DEMS WANT TO SHUT YOUR CHURCHES DOWN, PERMANE...</td>\n",
       "      <td>https://www.politifact.com/factchecks/2020/oct...</td>\n",
       "      <td>2020-10-07</td>\n",
       "      <td>Donald Trump</td>\n",
       "      <td>pants-fire</td>\n",
       "    </tr>\n",
       "    <tr>\n",
       "      <th>2</th>\n",
       "      <td>“South Dakota, Idaho, Florida, Tennessee &amp; Geo...</td>\n",
       "      <td>https://www.politifact.com/factchecks/2020/oct...</td>\n",
       "      <td>2020-10-07</td>\n",
       "      <td>Facebook posts</td>\n",
       "      <td>barely-true</td>\n",
       "    </tr>\n",
       "    <tr>\n",
       "      <th>3</th>\n",
       "      <td>“Chris Christie is in ICU and reported to be p...</td>\n",
       "      <td>https://www.politifact.com/factchecks/2020/oct...</td>\n",
       "      <td>2020-10-07</td>\n",
       "      <td>Viral image</td>\n",
       "      <td>false</td>\n",
       "    </tr>\n",
       "    <tr>\n",
       "      <th>4</th>\n",
       "      <td>“Hillsboro school district has already placed ...</td>\n",
       "      <td>https://www.politifact.com/factchecks/2020/oct...</td>\n",
       "      <td>2020-10-07</td>\n",
       "      <td>Facebook posts</td>\n",
       "      <td>false</td>\n",
       "    </tr>\n",
       "  </tbody>\n",
       "</table>\n",
       "</div>"
      ],
      "text/plain": [
       "                                           Statement  \\\n",
       "0  Eric Esshaki “would allow insurance companies ...   \n",
       "1  \"DEMS WANT TO SHUT YOUR CHURCHES DOWN, PERMANE...   \n",
       "2  “South Dakota, Idaho, Florida, Tennessee & Geo...   \n",
       "3  “Chris Christie is in ICU and reported to be p...   \n",
       "4  “Hillsboro school district has already placed ...   \n",
       "\n",
       "                                                Link        Date  \\\n",
       "0  https://www.politifact.com/factchecks/2020/oct...  2020-10-07   \n",
       "1  https://www.politifact.com/factchecks/2020/oct...  2020-10-07   \n",
       "2  https://www.politifact.com/factchecks/2020/oct...  2020-10-07   \n",
       "3  https://www.politifact.com/factchecks/2020/oct...  2020-10-07   \n",
       "4  https://www.politifact.com/factchecks/2020/oct...  2020-10-07   \n",
       "\n",
       "           Source        Label  \n",
       "0   Haley Stevens  barely-true  \n",
       "1    Donald Trump   pants-fire  \n",
       "2  Facebook posts  barely-true  \n",
       "3     Viral image        false  \n",
       "4  Facebook posts        false  "
      ]
     },
     "execution_count": 172,
     "metadata": {},
     "output_type": "execute_result"
    }
   ],
   "source": [
    "data.head()"
   ]
  },
  {
   "cell_type": "markdown",
   "metadata": {},
   "source": [
    "## What to do with the data?\n",
    "\n",
    "The truth ratings: https://www.politifact.com/article/2018/feb/12/principles-truth-o-meter-politifacts-methodology-i/#Truth-O-Meter%20ratings\n",
    "\n",
    "- **True**: The statement is accurate and there’s nothing significant missing.\n",
    "- **Mostly True**: The statement is accurate but needs clarification or additional information.\n",
    "- **Half True**: The statement is partially accurate but leaves out important details or takes things out of context.\n",
    "- **Mostly False**: The statement contains an element of truth but ignores critical facts that would give a different impression.\n",
    "- **False**: The statement is not accurate.\n",
    "- **Pants on Fire**: The statement is not accurate and makes a ridiculous claim.\n",
    "\n",
    "Ordinal labels -> ordinal encoding\n",
    "\n",
    "Clean the data:\n",
    "- Sort out everything that's not labeled as the above.\n",
    "- Remove punctuation?"
   ]
  },
  {
   "cell_type": "code",
   "execution_count": 50,
   "metadata": {},
   "outputs": [
    {
     "data": {
      "text/plain": [
       "array(['barely-true', 'pants-fire', 'false', 'true', 'half-true',\n",
       "       'mostly-true', 'full-flop'], dtype=object)"
      ]
     },
     "execution_count": 50,
     "metadata": {},
     "output_type": "execute_result"
    }
   ],
   "source": [
    "data.Label.unique()"
   ]
  },
  {
   "cell_type": "code",
   "execution_count": 51,
   "metadata": {},
   "outputs": [],
   "source": [
    "# Remove labels that are not a truth rating\n",
    "data = data.loc[data.Label != \"full-flop\"]"
   ]
  },
  {
   "cell_type": "markdown",
   "metadata": {},
   "source": [
    "Notice that we don't have any \"Mostly False\" examples. We may want to combine the labels into three bins (True, unsure, False). We should also check for relative representation of the labels and maybe balance them if they are not already balanced."
   ]
  },
  {
   "cell_type": "code",
   "execution_count": 56,
   "metadata": {},
   "outputs": [
    {
     "name": "stdout",
     "output_type": "stream",
     "text": [
      "true has 24 examples\n",
      "mostly-true has 50 examples\n",
      "half-true has 67 examples\n",
      "barely-true has 91 examples\n",
      "false has 314 examples\n",
      "pants-fire has 108 examples\n"
     ]
    }
   ],
   "source": [
    "# Check the label balance\n",
    "for label in [\"true\", \"mostly-true\", \"half-true\", \"barely-true\", \"false\", \"pants-fire\"]:\n",
    "    print(f\"{label} has {len(data.loc[data.Label == label])} examples\")"
   ]
  },
  {
   "cell_type": "markdown",
   "metadata": {},
   "source": [
    "\"True\" labels are much less likely to occur so our dataset is imbalanced. We could scrape more true examples, or enforce balance. I think it makes sense to collapse `true`, `mostly-true`, and `half-true` into one label. We can have a separate label for `false` and for `pants-fire`. \n",
    "\n",
    "TODO: look into balancing datasets"
   ]
  },
  {
   "cell_type": "code",
   "execution_count": 76,
   "metadata": {},
   "outputs": [
    {
     "name": "stdout",
     "output_type": "stream",
     "text": [
      "['true' 'pants-fire' 'false']\n",
      "true has 232 examples\n",
      "false has 314 examples\n",
      "pants-fire has 108 examples\n"
     ]
    }
   ],
   "source": [
    "# Create data frame with only 3 labels\n",
    "data_3labels = data.copy()\n",
    "for label in [\"true\", \"mostly-true\", \"half-true\", \"barely-true\"]:\n",
    "    data_3labels.Label = data_3labels.Label.replace(label, \"true\")\n",
    "    \n",
    "# Check labels and balance\n",
    "print(data_3labels.Label.unique())\n",
    "for label in [\"true\", \"false\", \"pants-fire\"]:\n",
    "    print(f\"{label} has {len(data_3labels.loc[data_3labels.Label == label])} examples\")"
   ]
  },
  {
   "cell_type": "markdown",
   "metadata": {},
   "source": [
    "## Naive Bayes"
   ]
  },
  {
   "cell_type": "code",
   "execution_count": 130,
   "metadata": {},
   "outputs": [],
   "source": [
    "from sklearn.model_selection import train_test_split\n",
    "from sklearn.feature_extraction.text import TfidfVectorizer\n",
    "from sklearn.feature_extraction.text import CountVectorizer\n",
    "from sklearn.naive_bayes import MultinomialNB\n",
    "from sklearn.pipeline import make_pipeline\n",
    "from sklearn.metrics import confusion_matrix\n",
    "import seaborn as sns\n",
    "import matplotlib.pyplot as plt\n",
    "import numpy as np"
   ]
  },
  {
   "cell_type": "code",
   "execution_count": 164,
   "metadata": {},
   "outputs": [],
   "source": [
    "# https://jakevdp.github.io/PythonDataScienceHandbook/05.05-naive-bayes.html\n",
    "\n",
    "def multinomialNB_model(x_train, y_train, count_vectorizer=True):\n",
    "    if count_vectorizer:\n",
    "        nb_model = make_pipeline(CountVectorizer(strip_accents='unicode'), MultinomialNB())\n",
    "    else:\n",
    "        nb_model = make_pipeline(TfidfVectorizer(), MultinomialNB())\n",
    "    nb_model.fit(x_train, y_train)\n",
    "    return nb_model\n",
    "\n",
    "\n",
    "def classification_report(x_train, y_train, x_test, y_test, label_names, nb_model=None, count_vectorizer=True):\n",
    "    if nb_model == None:\n",
    "        nb_model = multinomialNB_model(x_train, y_train, count_vectorizer)\n",
    "    \n",
    "    predicted_labels = nb_model.predict(x_test)\n",
    "    mat = confusion_matrix(y_test, predicted_labels, labels=label_names)\n",
    "    plt.figure(figsize=(10, 10))\n",
    "    sns.heatmap(mat.T, square=True, annot=True, fmt='d', cbar=False,\n",
    "                xticklabels=label_names, yticklabels=label_names)\n",
    "    plt.xlabel('true label')\n",
    "    plt.ylabel('predicted label')\n",
    "    plt.show()\n",
    "    \n",
    "    print(\"Train score:\", nb_model.score(x_train, y_train))\n",
    "    print(\"Test score:\", nb_model.score(x_test, y_test))\n",
    "    return nb_model\n",
    "    "
   ]
  },
  {
   "cell_type": "code",
   "execution_count": 126,
   "metadata": {},
   "outputs": [
    {
     "data": {
      "image/png": "[encoded data removed]",
      "text/plain": [
       "<Figure size 720x720 with 1 Axes>"
      ]
     },
     "metadata": {
      "needs_background": "light"
     },
     "output_type": "display_data"
    },
    {
     "name": "stdout",
     "output_type": "stream",
     "text": [
      "Train score: 0.963265306122449\n",
      "Test score: 0.5609756097560976\n"
     ]
    },
    {
     "data": {
      "image/png": "[encoded data removed]",
      "text/plain": [
       "<Figure size 720x720 with 1 Axes>"
      ]
     },
     "metadata": {
      "needs_background": "light"
     },
     "output_type": "display_data"
    },
    {
     "name": "stdout",
     "output_type": "stream",
     "text": [
      "Train score: 0.7816326530612245\n",
      "Test score: 0.4878048780487805\n"
     ]
    },
    {
     "data": {
      "text/plain": [
       "Pipeline(steps=[('tfidfvectorizer', TfidfVectorizer()),\n",
       "                ('multinomialnb', MultinomialNB())])"
      ]
     },
     "execution_count": 126,
     "metadata": {},
     "output_type": "execute_result"
    }
   ],
   "source": [
    "train_3labels, test_3labels = train_test_split(data_3labels)\n",
    "label_names = train_3labels.Label.unique()\n",
    "# Using count vectorizer\n",
    "classification_report(train_3labels.Statement, train_3labels.Label, \n",
    "                      test_3labels.Statement, test_3labels.Label, label_names, count_vectorizer=True)\n",
    "# Using TF-IDF vectorizer\n",
    "classification_report(train_3labels.Statement, train_3labels.Label, \n",
    "                      test_3labels.Statement, test_3labels.Label, label_names, count_vectorizer=False)"
   ]
  },
  {
   "cell_type": "code",
   "execution_count": 127,
   "metadata": {},
   "outputs": [
    {
     "data": {
      "image/png": "[encoded data removed]",
      "text/plain": [
       "<Figure size 720x720 with 1 Axes>"
      ]
     },
     "metadata": {
      "needs_background": "light"
     },
     "output_type": "display_data"
    },
    {
     "name": "stdout",
     "output_type": "stream",
     "text": [
      "Train score: 0.8979591836734694\n",
      "Test score: 0.4878048780487805\n"
     ]
    },
    {
     "data": {
      "image/png": "[encoded data removed]",
      "text/plain": [
       "<Figure size 720x720 with 1 Axes>"
      ]
     },
     "metadata": {
      "needs_background": "light"
     },
     "output_type": "display_data"
    },
    {
     "name": "stdout",
     "output_type": "stream",
     "text": [
      "Train score: 0.48367346938775513\n",
      "Test score: 0.49390243902439024\n"
     ]
    },
    {
     "data": {
      "text/plain": [
       "Pipeline(steps=[('tfidfvectorizer', TfidfVectorizer()),\n",
       "                ('multinomialnb', MultinomialNB())])"
      ]
     },
     "execution_count": 127,
     "metadata": {},
     "output_type": "execute_result"
    }
   ],
   "source": [
    "train, test = train_test_split(data)\n",
    "label_names = train.Label.unique()\n",
    "# Using count vectorizer\n",
    "classification_report(train.Statement, train.Label, \n",
    "                      test.Statement, test.Label, label_names, count_vectorizer=True)\n",
    "# Using TF-IDF vectorizer\n",
    "classification_report(train.Statement, train.Label, \n",
    "                      test.Statement, test.Label, label_names, count_vectorizer=False)"
   ]
  },
  {
   "cell_type": "markdown",
   "metadata": {},
   "source": [
    "#### Ordinal encoding"
   ]
  },
  {
   "cell_type": "code",
   "execution_count": 168,
   "metadata": {},
   "outputs": [
    {
     "data": {
      "image/png": "[encoded data removed]",
      "text/plain": [
       "<Figure size 720x720 with 1 Axes>"
      ]
     },
     "metadata": {
      "needs_background": "light"
     },
     "output_type": "display_data"
    },
    {
     "name": "stdout",
     "output_type": "stream",
     "text": [
      "Train score: 0.9571428571428572\n",
      "Test score: 0.5060975609756098\n"
     ]
    },
    {
     "data": {
      "image/png": "[encoded data removed]",
      "text/plain": [
       "<Figure size 720x720 with 1 Axes>"
      ]
     },
     "metadata": {
      "needs_background": "light"
     },
     "output_type": "display_data"
    },
    {
     "name": "stdout",
     "output_type": "stream",
     "text": [
      "Train score: 0.8163265306122449\n",
      "Test score: 0.4878048780487805\n"
     ]
    },
    {
     "data": {
      "text/plain": [
       "Pipeline(steps=[('tfidfvectorizer', TfidfVectorizer()),\n",
       "                ('multinomialnb', MultinomialNB())])"
      ]
     },
     "execution_count": 168,
     "metadata": {},
     "output_type": "execute_result"
    }
   ],
   "source": [
    "label_to_ordinal = {\"true\" : 0, \"false\" : 1, \"pants-fire\" : 2}\n",
    "data_3labels_ordinal = data_3labels.copy()\n",
    "for label in label_to_ordinal.keys():\n",
    "    data_3labels_ordinal.Label = data_3labels_ordinal.Label.replace(label, label_to_ordinal[label])\n",
    "    \n",
    "label_names = [0, 1, 2]\n",
    "    \n",
    "train_3labels, test_3labels = train_test_split(data_3labels_ordinal)\n",
    "# Using count vectorizer\n",
    "model1 = classification_report(train_3labels.Statement, train_3labels.Label, \n",
    "                               test_3labels.Statement, test_3labels.Label, label_names, count_vectorizer=True)\n",
    "# Using TF-IDF vectorizer\n",
    "classification_report(train_3labels.Statement, train_3labels.Label, \n",
    "                      test_3labels.Statement, test_3labels.Label, label_names, count_vectorizer=False)"
   ]
  },
  {
   "cell_type": "code",
   "execution_count": 171,
   "metadata": {},
   "outputs": [
    {
     "data": {
      "text/plain": [
       "array([1, 1, 1])"
      ]
     },
     "execution_count": 171,
     "metadata": {},
     "output_type": "execute_result"
    }
   ],
   "source": [
    "model1.predict([\"coronavirus\", \"trump\", \"biden\"])"
   ]
  },
  {
   "cell_type": "markdown",
   "metadata": {},
   "source": [
    "Cross-Validation??"
   ]
  }
 ],
 "metadata": {
  "kernelspec": {
   "display_name": "Python 3",
   "language": "python",
   "name": "python3"
  },
  "language_info": {
   "codemirror_mode": {
    "name": "ipython",
    "version": 3
   },
   "file_extension": ".py",
   "mimetype": "text/x-python",
   "name": "python",
   "nbconvert_exporter": "python",
   "pygments_lexer": "ipython3",
   "version": "3.7.9"
  }
 },
 "nbformat": 4,
 "nbformat_minor": 4
}
